{
  "nbformat": 4,
  "nbformat_minor": 0,
  "metadata": {
    "colab": {
      "provenance": [],
      "gpuType": "T4"
    },
    "kernelspec": {
      "name": "python3",
      "display_name": "Python 3"
    },
    "language_info": {
      "name": "python"
    },
    "accelerator": "GPU",
    "widgets": {
      "application/vnd.jupyter.widget-state+json": {
        "578f75ae5d0643c696a6f7f51e536f5d": {
          "model_module": "@jupyter-widgets/controls",
          "model_name": "HBoxModel",
          "model_module_version": "1.5.0",
          "state": {
            "_dom_classes": [],
            "_model_module": "@jupyter-widgets/controls",
            "_model_module_version": "1.5.0",
            "_model_name": "HBoxModel",
            "_view_count": null,
            "_view_module": "@jupyter-widgets/controls",
            "_view_module_version": "1.5.0",
            "_view_name": "HBoxView",
            "box_style": "",
            "children": [
              "IPY_MODEL_b101176052764041877cc9da28cc739f",
              "IPY_MODEL_bf4274f9e1d94d6ca9110c41164c8588",
              "IPY_MODEL_d0d1493ed13e49dca5cc6d436fa02519"
            ],
            "layout": "IPY_MODEL_ab571d15871e4c5d85414c87ac5b30c0"
          }
        },
        "b101176052764041877cc9da28cc739f": {
          "model_module": "@jupyter-widgets/controls",
          "model_name": "HTMLModel",
          "model_module_version": "1.5.0",
          "state": {
            "_dom_classes": [],
            "_model_module": "@jupyter-widgets/controls",
            "_model_module_version": "1.5.0",
            "_model_name": "HTMLModel",
            "_view_count": null,
            "_view_module": "@jupyter-widgets/controls",
            "_view_module_version": "1.5.0",
            "_view_name": "HTMLView",
            "description": "",
            "description_tooltip": null,
            "layout": "IPY_MODEL_39dc0983eb6e4648bccc76df997f312e",
            "placeholder": "​",
            "style": "IPY_MODEL_f08c9ec193004a959af1775e58c7da90",
            "value": "tokenizer_config.json: 100%"
          }
        },
        "bf4274f9e1d94d6ca9110c41164c8588": {
          "model_module": "@jupyter-widgets/controls",
          "model_name": "FloatProgressModel",
          "model_module_version": "1.5.0",
          "state": {
            "_dom_classes": [],
            "_model_module": "@jupyter-widgets/controls",
            "_model_module_version": "1.5.0",
            "_model_name": "FloatProgressModel",
            "_view_count": null,
            "_view_module": "@jupyter-widgets/controls",
            "_view_module_version": "1.5.0",
            "_view_name": "ProgressView",
            "bar_style": "success",
            "description": "",
            "description_tooltip": null,
            "layout": "IPY_MODEL_04e4ec1f50704d439b08bdf1e1ebfc2e",
            "max": 2324,
            "min": 0,
            "orientation": "horizontal",
            "style": "IPY_MODEL_50595c8590394b8b98cbe57fa41600a1",
            "value": 2324
          }
        },
        "d0d1493ed13e49dca5cc6d436fa02519": {
          "model_module": "@jupyter-widgets/controls",
          "model_name": "HTMLModel",
          "model_module_version": "1.5.0",
          "state": {
            "_dom_classes": [],
            "_model_module": "@jupyter-widgets/controls",
            "_model_module_version": "1.5.0",
            "_model_name": "HTMLModel",
            "_view_count": null,
            "_view_module": "@jupyter-widgets/controls",
            "_view_module_version": "1.5.0",
            "_view_name": "HTMLView",
            "description": "",
            "description_tooltip": null,
            "layout": "IPY_MODEL_f1c72b2ffef6478da5287293a6bbad5b",
            "placeholder": "​",
            "style": "IPY_MODEL_0dacc958907447f288008624322ec0ee",
            "value": " 2.32k/2.32k [00:00&lt;00:00, 140kB/s]"
          }
        },
        "ab571d15871e4c5d85414c87ac5b30c0": {
          "model_module": "@jupyter-widgets/base",
          "model_name": "LayoutModel",
          "model_module_version": "1.2.0",
          "state": {
            "_model_module": "@jupyter-widgets/base",
            "_model_module_version": "1.2.0",
            "_model_name": "LayoutModel",
            "_view_count": null,
            "_view_module": "@jupyter-widgets/base",
            "_view_module_version": "1.2.0",
            "_view_name": "LayoutView",
            "align_content": null,
            "align_items": null,
            "align_self": null,
            "border": null,
            "bottom": null,
            "display": null,
            "flex": null,
            "flex_flow": null,
            "grid_area": null,
            "grid_auto_columns": null,
            "grid_auto_flow": null,
            "grid_auto_rows": null,
            "grid_column": null,
            "grid_gap": null,
            "grid_row": null,
            "grid_template_areas": null,
            "grid_template_columns": null,
            "grid_template_rows": null,
            "height": null,
            "justify_content": null,
            "justify_items": null,
            "left": null,
            "margin": null,
            "max_height": null,
            "max_width": null,
            "min_height": null,
            "min_width": null,
            "object_fit": null,
            "object_position": null,
            "order": null,
            "overflow": null,
            "overflow_x": null,
            "overflow_y": null,
            "padding": null,
            "right": null,
            "top": null,
            "visibility": null,
            "width": null
          }
        },
        "39dc0983eb6e4648bccc76df997f312e": {
          "model_module": "@jupyter-widgets/base",
          "model_name": "LayoutModel",
          "model_module_version": "1.2.0",
          "state": {
            "_model_module": "@jupyter-widgets/base",
            "_model_module_version": "1.2.0",
            "_model_name": "LayoutModel",
            "_view_count": null,
            "_view_module": "@jupyter-widgets/base",
            "_view_module_version": "1.2.0",
            "_view_name": "LayoutView",
            "align_content": null,
            "align_items": null,
            "align_self": null,
            "border": null,
            "bottom": null,
            "display": null,
            "flex": null,
            "flex_flow": null,
            "grid_area": null,
            "grid_auto_columns": null,
            "grid_auto_flow": null,
            "grid_auto_rows": null,
            "grid_column": null,
            "grid_gap": null,
            "grid_row": null,
            "grid_template_areas": null,
            "grid_template_columns": null,
            "grid_template_rows": null,
            "height": null,
            "justify_content": null,
            "justify_items": null,
            "left": null,
            "margin": null,
            "max_height": null,
            "max_width": null,
            "min_height": null,
            "min_width": null,
            "object_fit": null,
            "object_position": null,
            "order": null,
            "overflow": null,
            "overflow_x": null,
            "overflow_y": null,
            "padding": null,
            "right": null,
            "top": null,
            "visibility": null,
            "width": null
          }
        },
        "f08c9ec193004a959af1775e58c7da90": {
          "model_module": "@jupyter-widgets/controls",
          "model_name": "DescriptionStyleModel",
          "model_module_version": "1.5.0",
          "state": {
            "_model_module": "@jupyter-widgets/controls",
            "_model_module_version": "1.5.0",
            "_model_name": "DescriptionStyleModel",
            "_view_count": null,
            "_view_module": "@jupyter-widgets/base",
            "_view_module_version": "1.2.0",
            "_view_name": "StyleView",
            "description_width": ""
          }
        },
        "04e4ec1f50704d439b08bdf1e1ebfc2e": {
          "model_module": "@jupyter-widgets/base",
          "model_name": "LayoutModel",
          "model_module_version": "1.2.0",
          "state": {
            "_model_module": "@jupyter-widgets/base",
            "_model_module_version": "1.2.0",
            "_model_name": "LayoutModel",
            "_view_count": null,
            "_view_module": "@jupyter-widgets/base",
            "_view_module_version": "1.2.0",
            "_view_name": "LayoutView",
            "align_content": null,
            "align_items": null,
            "align_self": null,
            "border": null,
            "bottom": null,
            "display": null,
            "flex": null,
            "flex_flow": null,
            "grid_area": null,
            "grid_auto_columns": null,
            "grid_auto_flow": null,
            "grid_auto_rows": null,
            "grid_column": null,
            "grid_gap": null,
            "grid_row": null,
            "grid_template_areas": null,
            "grid_template_columns": null,
            "grid_template_rows": null,
            "height": null,
            "justify_content": null,
            "justify_items": null,
            "left": null,
            "margin": null,
            "max_height": null,
            "max_width": null,
            "min_height": null,
            "min_width": null,
            "object_fit": null,
            "object_position": null,
            "order": null,
            "overflow": null,
            "overflow_x": null,
            "overflow_y": null,
            "padding": null,
            "right": null,
            "top": null,
            "visibility": null,
            "width": null
          }
        },
        "50595c8590394b8b98cbe57fa41600a1": {
          "model_module": "@jupyter-widgets/controls",
          "model_name": "ProgressStyleModel",
          "model_module_version": "1.5.0",
          "state": {
            "_model_module": "@jupyter-widgets/controls",
            "_model_module_version": "1.5.0",
            "_model_name": "ProgressStyleModel",
            "_view_count": null,
            "_view_module": "@jupyter-widgets/base",
            "_view_module_version": "1.2.0",
            "_view_name": "StyleView",
            "bar_color": null,
            "description_width": ""
          }
        },
        "f1c72b2ffef6478da5287293a6bbad5b": {
          "model_module": "@jupyter-widgets/base",
          "model_name": "LayoutModel",
          "model_module_version": "1.2.0",
          "state": {
            "_model_module": "@jupyter-widgets/base",
            "_model_module_version": "1.2.0",
            "_model_name": "LayoutModel",
            "_view_count": null,
            "_view_module": "@jupyter-widgets/base",
            "_view_module_version": "1.2.0",
            "_view_name": "LayoutView",
            "align_content": null,
            "align_items": null,
            "align_self": null,
            "border": null,
            "bottom": null,
            "display": null,
            "flex": null,
            "flex_flow": null,
            "grid_area": null,
            "grid_auto_columns": null,
            "grid_auto_flow": null,
            "grid_auto_rows": null,
            "grid_column": null,
            "grid_gap": null,
            "grid_row": null,
            "grid_template_areas": null,
            "grid_template_columns": null,
            "grid_template_rows": null,
            "height": null,
            "justify_content": null,
            "justify_items": null,
            "left": null,
            "margin": null,
            "max_height": null,
            "max_width": null,
            "min_height": null,
            "min_width": null,
            "object_fit": null,
            "object_position": null,
            "order": null,
            "overflow": null,
            "overflow_x": null,
            "overflow_y": null,
            "padding": null,
            "right": null,
            "top": null,
            "visibility": null,
            "width": null
          }
        },
        "0dacc958907447f288008624322ec0ee": {
          "model_module": "@jupyter-widgets/controls",
          "model_name": "DescriptionStyleModel",
          "model_module_version": "1.5.0",
          "state": {
            "_model_module": "@jupyter-widgets/controls",
            "_model_module_version": "1.5.0",
            "_model_name": "DescriptionStyleModel",
            "_view_count": null,
            "_view_module": "@jupyter-widgets/base",
            "_view_module_version": "1.2.0",
            "_view_name": "StyleView",
            "description_width": ""
          }
        },
        "b67198f985ac4d6ca6e30ba6f6745c7c": {
          "model_module": "@jupyter-widgets/controls",
          "model_name": "HBoxModel",
          "model_module_version": "1.5.0",
          "state": {
            "_dom_classes": [],
            "_model_module": "@jupyter-widgets/controls",
            "_model_module_version": "1.5.0",
            "_model_name": "HBoxModel",
            "_view_count": null,
            "_view_module": "@jupyter-widgets/controls",
            "_view_module_version": "1.5.0",
            "_view_name": "HBoxView",
            "box_style": "",
            "children": [
              "IPY_MODEL_a3633b59e84548cb9f7d2765f5560f94",
              "IPY_MODEL_2623398689e94914bd4173fa7340aae3",
              "IPY_MODEL_ab55895cf53c4eaf8d8dd2be283559ef"
            ],
            "layout": "IPY_MODEL_dc4a9096a75c453ba6835df1ece88516"
          }
        },
        "a3633b59e84548cb9f7d2765f5560f94": {
          "model_module": "@jupyter-widgets/controls",
          "model_name": "HTMLModel",
          "model_module_version": "1.5.0",
          "state": {
            "_dom_classes": [],
            "_model_module": "@jupyter-widgets/controls",
            "_model_module_version": "1.5.0",
            "_model_name": "HTMLModel",
            "_view_count": null,
            "_view_module": "@jupyter-widgets/controls",
            "_view_module_version": "1.5.0",
            "_view_name": "HTMLView",
            "description": "",
            "description_tooltip": null,
            "layout": "IPY_MODEL_58afa79bcce44a98a0c3ce21c9f68ce9",
            "placeholder": "​",
            "style": "IPY_MODEL_3be9ab6784cd4c09b492d64b0e90db24",
            "value": "spiece.model: 100%"
          }
        },
        "2623398689e94914bd4173fa7340aae3": {
          "model_module": "@jupyter-widgets/controls",
          "model_name": "FloatProgressModel",
          "model_module_version": "1.5.0",
          "state": {
            "_dom_classes": [],
            "_model_module": "@jupyter-widgets/controls",
            "_model_module_version": "1.5.0",
            "_model_name": "FloatProgressModel",
            "_view_count": null,
            "_view_module": "@jupyter-widgets/controls",
            "_view_module_version": "1.5.0",
            "_view_name": "ProgressView",
            "bar_style": "success",
            "description": "",
            "description_tooltip": null,
            "layout": "IPY_MODEL_98291ac7b6bd487097fdb0d84e1dc1d6",
            "max": 791656,
            "min": 0,
            "orientation": "horizontal",
            "style": "IPY_MODEL_282e356f5918446dacf5dd615666fc93",
            "value": 791656
          }
        },
        "ab55895cf53c4eaf8d8dd2be283559ef": {
          "model_module": "@jupyter-widgets/controls",
          "model_name": "HTMLModel",
          "model_module_version": "1.5.0",
          "state": {
            "_dom_classes": [],
            "_model_module": "@jupyter-widgets/controls",
            "_model_module_version": "1.5.0",
            "_model_name": "HTMLModel",
            "_view_count": null,
            "_view_module": "@jupyter-widgets/controls",
            "_view_module_version": "1.5.0",
            "_view_name": "HTMLView",
            "description": "",
            "description_tooltip": null,
            "layout": "IPY_MODEL_eefe78303555437ba87394b963543dc0",
            "placeholder": "​",
            "style": "IPY_MODEL_41a45bb1d9734bf2aaff544245468632",
            "value": " 792k/792k [00:00&lt;00:00, 32.5MB/s]"
          }
        },
        "dc4a9096a75c453ba6835df1ece88516": {
          "model_module": "@jupyter-widgets/base",
          "model_name": "LayoutModel",
          "model_module_version": "1.2.0",
          "state": {
            "_model_module": "@jupyter-widgets/base",
            "_model_module_version": "1.2.0",
            "_model_name": "LayoutModel",
            "_view_count": null,
            "_view_module": "@jupyter-widgets/base",
            "_view_module_version": "1.2.0",
            "_view_name": "LayoutView",
            "align_content": null,
            "align_items": null,
            "align_self": null,
            "border": null,
            "bottom": null,
            "display": null,
            "flex": null,
            "flex_flow": null,
            "grid_area": null,
            "grid_auto_columns": null,
            "grid_auto_flow": null,
            "grid_auto_rows": null,
            "grid_column": null,
            "grid_gap": null,
            "grid_row": null,
            "grid_template_areas": null,
            "grid_template_columns": null,
            "grid_template_rows": null,
            "height": null,
            "justify_content": null,
            "justify_items": null,
            "left": null,
            "margin": null,
            "max_height": null,
            "max_width": null,
            "min_height": null,
            "min_width": null,
            "object_fit": null,
            "object_position": null,
            "order": null,
            "overflow": null,
            "overflow_x": null,
            "overflow_y": null,
            "padding": null,
            "right": null,
            "top": null,
            "visibility": null,
            "width": null
          }
        },
        "58afa79bcce44a98a0c3ce21c9f68ce9": {
          "model_module": "@jupyter-widgets/base",
          "model_name": "LayoutModel",
          "model_module_version": "1.2.0",
          "state": {
            "_model_module": "@jupyter-widgets/base",
            "_model_module_version": "1.2.0",
            "_model_name": "LayoutModel",
            "_view_count": null,
            "_view_module": "@jupyter-widgets/base",
            "_view_module_version": "1.2.0",
            "_view_name": "LayoutView",
            "align_content": null,
            "align_items": null,
            "align_self": null,
            "border": null,
            "bottom": null,
            "display": null,
            "flex": null,
            "flex_flow": null,
            "grid_area": null,
            "grid_auto_columns": null,
            "grid_auto_flow": null,
            "grid_auto_rows": null,
            "grid_column": null,
            "grid_gap": null,
            "grid_row": null,
            "grid_template_areas": null,
            "grid_template_columns": null,
            "grid_template_rows": null,
            "height": null,
            "justify_content": null,
            "justify_items": null,
            "left": null,
            "margin": null,
            "max_height": null,
            "max_width": null,
            "min_height": null,
            "min_width": null,
            "object_fit": null,
            "object_position": null,
            "order": null,
            "overflow": null,
            "overflow_x": null,
            "overflow_y": null,
            "padding": null,
            "right": null,
            "top": null,
            "visibility": null,
            "width": null
          }
        },
        "3be9ab6784cd4c09b492d64b0e90db24": {
          "model_module": "@jupyter-widgets/controls",
          "model_name": "DescriptionStyleModel",
          "model_module_version": "1.5.0",
          "state": {
            "_model_module": "@jupyter-widgets/controls",
            "_model_module_version": "1.5.0",
            "_model_name": "DescriptionStyleModel",
            "_view_count": null,
            "_view_module": "@jupyter-widgets/base",
            "_view_module_version": "1.2.0",
            "_view_name": "StyleView",
            "description_width": ""
          }
        },
        "98291ac7b6bd487097fdb0d84e1dc1d6": {
          "model_module": "@jupyter-widgets/base",
          "model_name": "LayoutModel",
          "model_module_version": "1.2.0",
          "state": {
            "_model_module": "@jupyter-widgets/base",
            "_model_module_version": "1.2.0",
            "_model_name": "LayoutModel",
            "_view_count": null,
            "_view_module": "@jupyter-widgets/base",
            "_view_module_version": "1.2.0",
            "_view_name": "LayoutView",
            "align_content": null,
            "align_items": null,
            "align_self": null,
            "border": null,
            "bottom": null,
            "display": null,
            "flex": null,
            "flex_flow": null,
            "grid_area": null,
            "grid_auto_columns": null,
            "grid_auto_flow": null,
            "grid_auto_rows": null,
            "grid_column": null,
            "grid_gap": null,
            "grid_row": null,
            "grid_template_areas": null,
            "grid_template_columns": null,
            "grid_template_rows": null,
            "height": null,
            "justify_content": null,
            "justify_items": null,
            "left": null,
            "margin": null,
            "max_height": null,
            "max_width": null,
            "min_height": null,
            "min_width": null,
            "object_fit": null,
            "object_position": null,
            "order": null,
            "overflow": null,
            "overflow_x": null,
            "overflow_y": null,
            "padding": null,
            "right": null,
            "top": null,
            "visibility": null,
            "width": null
          }
        },
        "282e356f5918446dacf5dd615666fc93": {
          "model_module": "@jupyter-widgets/controls",
          "model_name": "ProgressStyleModel",
          "model_module_version": "1.5.0",
          "state": {
            "_model_module": "@jupyter-widgets/controls",
            "_model_module_version": "1.5.0",
            "_model_name": "ProgressStyleModel",
            "_view_count": null,
            "_view_module": "@jupyter-widgets/base",
            "_view_module_version": "1.2.0",
            "_view_name": "StyleView",
            "bar_color": null,
            "description_width": ""
          }
        },
        "eefe78303555437ba87394b963543dc0": {
          "model_module": "@jupyter-widgets/base",
          "model_name": "LayoutModel",
          "model_module_version": "1.2.0",
          "state": {
            "_model_module": "@jupyter-widgets/base",
            "_model_module_version": "1.2.0",
            "_model_name": "LayoutModel",
            "_view_count": null,
            "_view_module": "@jupyter-widgets/base",
            "_view_module_version": "1.2.0",
            "_view_name": "LayoutView",
            "align_content": null,
            "align_items": null,
            "align_self": null,
            "border": null,
            "bottom": null,
            "display": null,
            "flex": null,
            "flex_flow": null,
            "grid_area": null,
            "grid_auto_columns": null,
            "grid_auto_flow": null,
            "grid_auto_rows": null,
            "grid_column": null,
            "grid_gap": null,
            "grid_row": null,
            "grid_template_areas": null,
            "grid_template_columns": null,
            "grid_template_rows": null,
            "height": null,
            "justify_content": null,
            "justify_items": null,
            "left": null,
            "margin": null,
            "max_height": null,
            "max_width": null,
            "min_height": null,
            "min_width": null,
            "object_fit": null,
            "object_position": null,
            "order": null,
            "overflow": null,
            "overflow_x": null,
            "overflow_y": null,
            "padding": null,
            "right": null,
            "top": null,
            "visibility": null,
            "width": null
          }
        },
        "41a45bb1d9734bf2aaff544245468632": {
          "model_module": "@jupyter-widgets/controls",
          "model_name": "DescriptionStyleModel",
          "model_module_version": "1.5.0",
          "state": {
            "_model_module": "@jupyter-widgets/controls",
            "_model_module_version": "1.5.0",
            "_model_name": "DescriptionStyleModel",
            "_view_count": null,
            "_view_module": "@jupyter-widgets/base",
            "_view_module_version": "1.2.0",
            "_view_name": "StyleView",
            "description_width": ""
          }
        },
        "c31168a1da7c4e0f839dfdf3d2e0445f": {
          "model_module": "@jupyter-widgets/controls",
          "model_name": "HBoxModel",
          "model_module_version": "1.5.0",
          "state": {
            "_dom_classes": [],
            "_model_module": "@jupyter-widgets/controls",
            "_model_module_version": "1.5.0",
            "_model_name": "HBoxModel",
            "_view_count": null,
            "_view_module": "@jupyter-widgets/controls",
            "_view_module_version": "1.5.0",
            "_view_name": "HBoxView",
            "box_style": "",
            "children": [
              "IPY_MODEL_4ffd3835206545fe8a49a5e11cc10769",
              "IPY_MODEL_9a4e8a75e73346e0a83b951c10d2062b",
              "IPY_MODEL_bd666ee42dca4dda9414188a5f79c074"
            ],
            "layout": "IPY_MODEL_a33a360e4de64c8ca91df42423531a5e"
          }
        },
        "4ffd3835206545fe8a49a5e11cc10769": {
          "model_module": "@jupyter-widgets/controls",
          "model_name": "HTMLModel",
          "model_module_version": "1.5.0",
          "state": {
            "_dom_classes": [],
            "_model_module": "@jupyter-widgets/controls",
            "_model_module_version": "1.5.0",
            "_model_name": "HTMLModel",
            "_view_count": null,
            "_view_module": "@jupyter-widgets/controls",
            "_view_module_version": "1.5.0",
            "_view_name": "HTMLView",
            "description": "",
            "description_tooltip": null,
            "layout": "IPY_MODEL_8c16a6c2af244c56993050c8a988891b",
            "placeholder": "​",
            "style": "IPY_MODEL_3e603780eb504fb3a8a5b7a71c324584",
            "value": "tokenizer.json: 100%"
          }
        },
        "9a4e8a75e73346e0a83b951c10d2062b": {
          "model_module": "@jupyter-widgets/controls",
          "model_name": "FloatProgressModel",
          "model_module_version": "1.5.0",
          "state": {
            "_dom_classes": [],
            "_model_module": "@jupyter-widgets/controls",
            "_model_module_version": "1.5.0",
            "_model_name": "FloatProgressModel",
            "_view_count": null,
            "_view_module": "@jupyter-widgets/controls",
            "_view_module_version": "1.5.0",
            "_view_name": "ProgressView",
            "bar_style": "success",
            "description": "",
            "description_tooltip": null,
            "layout": "IPY_MODEL_91de91709787420caecd72421c776a1f",
            "max": 1389353,
            "min": 0,
            "orientation": "horizontal",
            "style": "IPY_MODEL_b3896c51a07f4299800c13384cb7c6be",
            "value": 1389353
          }
        },
        "bd666ee42dca4dda9414188a5f79c074": {
          "model_module": "@jupyter-widgets/controls",
          "model_name": "HTMLModel",
          "model_module_version": "1.5.0",
          "state": {
            "_dom_classes": [],
            "_model_module": "@jupyter-widgets/controls",
            "_model_module_version": "1.5.0",
            "_model_name": "HTMLModel",
            "_view_count": null,
            "_view_module": "@jupyter-widgets/controls",
            "_view_module_version": "1.5.0",
            "_view_name": "HTMLView",
            "description": "",
            "description_tooltip": null,
            "layout": "IPY_MODEL_6b56ad1af4c24406a853c8d372a6b0d8",
            "placeholder": "​",
            "style": "IPY_MODEL_2dd36f08e0364548adf29bc5181ef383",
            "value": " 1.39M/1.39M [00:00&lt;00:00, 6.35MB/s]"
          }
        },
        "a33a360e4de64c8ca91df42423531a5e": {
          "model_module": "@jupyter-widgets/base",
          "model_name": "LayoutModel",
          "model_module_version": "1.2.0",
          "state": {
            "_model_module": "@jupyter-widgets/base",
            "_model_module_version": "1.2.0",
            "_model_name": "LayoutModel",
            "_view_count": null,
            "_view_module": "@jupyter-widgets/base",
            "_view_module_version": "1.2.0",
            "_view_name": "LayoutView",
            "align_content": null,
            "align_items": null,
            "align_self": null,
            "border": null,
            "bottom": null,
            "display": null,
            "flex": null,
            "flex_flow": null,
            "grid_area": null,
            "grid_auto_columns": null,
            "grid_auto_flow": null,
            "grid_auto_rows": null,
            "grid_column": null,
            "grid_gap": null,
            "grid_row": null,
            "grid_template_areas": null,
            "grid_template_columns": null,
            "grid_template_rows": null,
            "height": null,
            "justify_content": null,
            "justify_items": null,
            "left": null,
            "margin": null,
            "max_height": null,
            "max_width": null,
            "min_height": null,
            "min_width": null,
            "object_fit": null,
            "object_position": null,
            "order": null,
            "overflow": null,
            "overflow_x": null,
            "overflow_y": null,
            "padding": null,
            "right": null,
            "top": null,
            "visibility": null,
            "width": null
          }
        },
        "8c16a6c2af244c56993050c8a988891b": {
          "model_module": "@jupyter-widgets/base",
          "model_name": "LayoutModel",
          "model_module_version": "1.2.0",
          "state": {
            "_model_module": "@jupyter-widgets/base",
            "_model_module_version": "1.2.0",
            "_model_name": "LayoutModel",
            "_view_count": null,
            "_view_module": "@jupyter-widgets/base",
            "_view_module_version": "1.2.0",
            "_view_name": "LayoutView",
            "align_content": null,
            "align_items": null,
            "align_self": null,
            "border": null,
            "bottom": null,
            "display": null,
            "flex": null,
            "flex_flow": null,
            "grid_area": null,
            "grid_auto_columns": null,
            "grid_auto_flow": null,
            "grid_auto_rows": null,
            "grid_column": null,
            "grid_gap": null,
            "grid_row": null,
            "grid_template_areas": null,
            "grid_template_columns": null,
            "grid_template_rows": null,
            "height": null,
            "justify_content": null,
            "justify_items": null,
            "left": null,
            "margin": null,
            "max_height": null,
            "max_width": null,
            "min_height": null,
            "min_width": null,
            "object_fit": null,
            "object_position": null,
            "order": null,
            "overflow": null,
            "overflow_x": null,
            "overflow_y": null,
            "padding": null,
            "right": null,
            "top": null,
            "visibility": null,
            "width": null
          }
        },
        "3e603780eb504fb3a8a5b7a71c324584": {
          "model_module": "@jupyter-widgets/controls",
          "model_name": "DescriptionStyleModel",
          "model_module_version": "1.5.0",
          "state": {
            "_model_module": "@jupyter-widgets/controls",
            "_model_module_version": "1.5.0",
            "_model_name": "DescriptionStyleModel",
            "_view_count": null,
            "_view_module": "@jupyter-widgets/base",
            "_view_module_version": "1.2.0",
            "_view_name": "StyleView",
            "description_width": ""
          }
        },
        "91de91709787420caecd72421c776a1f": {
          "model_module": "@jupyter-widgets/base",
          "model_name": "LayoutModel",
          "model_module_version": "1.2.0",
          "state": {
            "_model_module": "@jupyter-widgets/base",
            "_model_module_version": "1.2.0",
            "_model_name": "LayoutModel",
            "_view_count": null,
            "_view_module": "@jupyter-widgets/base",
            "_view_module_version": "1.2.0",
            "_view_name": "LayoutView",
            "align_content": null,
            "align_items": null,
            "align_self": null,
            "border": null,
            "bottom": null,
            "display": null,
            "flex": null,
            "flex_flow": null,
            "grid_area": null,
            "grid_auto_columns": null,
            "grid_auto_flow": null,
            "grid_auto_rows": null,
            "grid_column": null,
            "grid_gap": null,
            "grid_row": null,
            "grid_template_areas": null,
            "grid_template_columns": null,
            "grid_template_rows": null,
            "height": null,
            "justify_content": null,
            "justify_items": null,
            "left": null,
            "margin": null,
            "max_height": null,
            "max_width": null,
            "min_height": null,
            "min_width": null,
            "object_fit": null,
            "object_position": null,
            "order": null,
            "overflow": null,
            "overflow_x": null,
            "overflow_y": null,
            "padding": null,
            "right": null,
            "top": null,
            "visibility": null,
            "width": null
          }
        },
        "b3896c51a07f4299800c13384cb7c6be": {
          "model_module": "@jupyter-widgets/controls",
          "model_name": "ProgressStyleModel",
          "model_module_version": "1.5.0",
          "state": {
            "_model_module": "@jupyter-widgets/controls",
            "_model_module_version": "1.5.0",
            "_model_name": "ProgressStyleModel",
            "_view_count": null,
            "_view_module": "@jupyter-widgets/base",
            "_view_module_version": "1.2.0",
            "_view_name": "StyleView",
            "bar_color": null,
            "description_width": ""
          }
        },
        "6b56ad1af4c24406a853c8d372a6b0d8": {
          "model_module": "@jupyter-widgets/base",
          "model_name": "LayoutModel",
          "model_module_version": "1.2.0",
          "state": {
            "_model_module": "@jupyter-widgets/base",
            "_model_module_version": "1.2.0",
            "_model_name": "LayoutModel",
            "_view_count": null,
            "_view_module": "@jupyter-widgets/base",
            "_view_module_version": "1.2.0",
            "_view_name": "LayoutView",
            "align_content": null,
            "align_items": null,
            "align_self": null,
            "border": null,
            "bottom": null,
            "display": null,
            "flex": null,
            "flex_flow": null,
            "grid_area": null,
            "grid_auto_columns": null,
            "grid_auto_flow": null,
            "grid_auto_rows": null,
            "grid_column": null,
            "grid_gap": null,
            "grid_row": null,
            "grid_template_areas": null,
            "grid_template_columns": null,
            "grid_template_rows": null,
            "height": null,
            "justify_content": null,
            "justify_items": null,
            "left": null,
            "margin": null,
            "max_height": null,
            "max_width": null,
            "min_height": null,
            "min_width": null,
            "object_fit": null,
            "object_position": null,
            "order": null,
            "overflow": null,
            "overflow_x": null,
            "overflow_y": null,
            "padding": null,
            "right": null,
            "top": null,
            "visibility": null,
            "width": null
          }
        },
        "2dd36f08e0364548adf29bc5181ef383": {
          "model_module": "@jupyter-widgets/controls",
          "model_name": "DescriptionStyleModel",
          "model_module_version": "1.5.0",
          "state": {
            "_model_module": "@jupyter-widgets/controls",
            "_model_module_version": "1.5.0",
            "_model_name": "DescriptionStyleModel",
            "_view_count": null,
            "_view_module": "@jupyter-widgets/base",
            "_view_module_version": "1.2.0",
            "_view_name": "StyleView",
            "description_width": ""
          }
        },
        "3b54a4555b8b484b98fae2377724396b": {
          "model_module": "@jupyter-widgets/controls",
          "model_name": "HBoxModel",
          "model_module_version": "1.5.0",
          "state": {
            "_dom_classes": [],
            "_model_module": "@jupyter-widgets/controls",
            "_model_module_version": "1.5.0",
            "_model_name": "HBoxModel",
            "_view_count": null,
            "_view_module": "@jupyter-widgets/controls",
            "_view_module_version": "1.5.0",
            "_view_name": "HBoxView",
            "box_style": "",
            "children": [
              "IPY_MODEL_a2f7e442df0d4e7d9d723f9b5db83ca6",
              "IPY_MODEL_852ee028235f4d59aff99393e0c197bc",
              "IPY_MODEL_b9db238699f4424ba7b31b338eab1f94"
            ],
            "layout": "IPY_MODEL_4acdf42174d345e69c2d642b2fd29670"
          }
        },
        "a2f7e442df0d4e7d9d723f9b5db83ca6": {
          "model_module": "@jupyter-widgets/controls",
          "model_name": "HTMLModel",
          "model_module_version": "1.5.0",
          "state": {
            "_dom_classes": [],
            "_model_module": "@jupyter-widgets/controls",
            "_model_module_version": "1.5.0",
            "_model_name": "HTMLModel",
            "_view_count": null,
            "_view_module": "@jupyter-widgets/controls",
            "_view_module_version": "1.5.0",
            "_view_name": "HTMLView",
            "description": "",
            "description_tooltip": null,
            "layout": "IPY_MODEL_f40341795bf54879b60660627e2d9ae9",
            "placeholder": "​",
            "style": "IPY_MODEL_0b74145c82bd4508b065eb63ccb3f5f1",
            "value": "config.json: 100%"
          }
        },
        "852ee028235f4d59aff99393e0c197bc": {
          "model_module": "@jupyter-widgets/controls",
          "model_name": "FloatProgressModel",
          "model_module_version": "1.5.0",
          "state": {
            "_dom_classes": [],
            "_model_module": "@jupyter-widgets/controls",
            "_model_module_version": "1.5.0",
            "_model_name": "FloatProgressModel",
            "_view_count": null,
            "_view_module": "@jupyter-widgets/controls",
            "_view_module_version": "1.5.0",
            "_view_name": "ProgressView",
            "bar_style": "success",
            "description": "",
            "description_tooltip": null,
            "layout": "IPY_MODEL_20fcc17f028a4094a1dac9e7b76129bb",
            "max": 1206,
            "min": 0,
            "orientation": "horizontal",
            "style": "IPY_MODEL_64a00ef454e3414da2c7ff65b81597d1",
            "value": 1206
          }
        },
        "b9db238699f4424ba7b31b338eab1f94": {
          "model_module": "@jupyter-widgets/controls",
          "model_name": "HTMLModel",
          "model_module_version": "1.5.0",
          "state": {
            "_dom_classes": [],
            "_model_module": "@jupyter-widgets/controls",
            "_model_module_version": "1.5.0",
            "_model_name": "HTMLModel",
            "_view_count": null,
            "_view_module": "@jupyter-widgets/controls",
            "_view_module_version": "1.5.0",
            "_view_name": "HTMLView",
            "description": "",
            "description_tooltip": null,
            "layout": "IPY_MODEL_84aa32ccc22049e6a24499582d4674a0",
            "placeholder": "​",
            "style": "IPY_MODEL_d5057f4d507b4c7aa80a53ee87851f7d",
            "value": " 1.21k/1.21k [00:00&lt;00:00, 109kB/s]"
          }
        },
        "4acdf42174d345e69c2d642b2fd29670": {
          "model_module": "@jupyter-widgets/base",
          "model_name": "LayoutModel",
          "model_module_version": "1.2.0",
          "state": {
            "_model_module": "@jupyter-widgets/base",
            "_model_module_version": "1.2.0",
            "_model_name": "LayoutModel",
            "_view_count": null,
            "_view_module": "@jupyter-widgets/base",
            "_view_module_version": "1.2.0",
            "_view_name": "LayoutView",
            "align_content": null,
            "align_items": null,
            "align_self": null,
            "border": null,
            "bottom": null,
            "display": null,
            "flex": null,
            "flex_flow": null,
            "grid_area": null,
            "grid_auto_columns": null,
            "grid_auto_flow": null,
            "grid_auto_rows": null,
            "grid_column": null,
            "grid_gap": null,
            "grid_row": null,
            "grid_template_areas": null,
            "grid_template_columns": null,
            "grid_template_rows": null,
            "height": null,
            "justify_content": null,
            "justify_items": null,
            "left": null,
            "margin": null,
            "max_height": null,
            "max_width": null,
            "min_height": null,
            "min_width": null,
            "object_fit": null,
            "object_position": null,
            "order": null,
            "overflow": null,
            "overflow_x": null,
            "overflow_y": null,
            "padding": null,
            "right": null,
            "top": null,
            "visibility": null,
            "width": null
          }
        },
        "f40341795bf54879b60660627e2d9ae9": {
          "model_module": "@jupyter-widgets/base",
          "model_name": "LayoutModel",
          "model_module_version": "1.2.0",
          "state": {
            "_model_module": "@jupyter-widgets/base",
            "_model_module_version": "1.2.0",
            "_model_name": "LayoutModel",
            "_view_count": null,
            "_view_module": "@jupyter-widgets/base",
            "_view_module_version": "1.2.0",
            "_view_name": "LayoutView",
            "align_content": null,
            "align_items": null,
            "align_self": null,
            "border": null,
            "bottom": null,
            "display": null,
            "flex": null,
            "flex_flow": null,
            "grid_area": null,
            "grid_auto_columns": null,
            "grid_auto_flow": null,
            "grid_auto_rows": null,
            "grid_column": null,
            "grid_gap": null,
            "grid_row": null,
            "grid_template_areas": null,
            "grid_template_columns": null,
            "grid_template_rows": null,
            "height": null,
            "justify_content": null,
            "justify_items": null,
            "left": null,
            "margin": null,
            "max_height": null,
            "max_width": null,
            "min_height": null,
            "min_width": null,
            "object_fit": null,
            "object_position": null,
            "order": null,
            "overflow": null,
            "overflow_x": null,
            "overflow_y": null,
            "padding": null,
            "right": null,
            "top": null,
            "visibility": null,
            "width": null
          }
        },
        "0b74145c82bd4508b065eb63ccb3f5f1": {
          "model_module": "@jupyter-widgets/controls",
          "model_name": "DescriptionStyleModel",
          "model_module_version": "1.5.0",
          "state": {
            "_model_module": "@jupyter-widgets/controls",
            "_model_module_version": "1.5.0",
            "_model_name": "DescriptionStyleModel",
            "_view_count": null,
            "_view_module": "@jupyter-widgets/base",
            "_view_module_version": "1.2.0",
            "_view_name": "StyleView",
            "description_width": ""
          }
        },
        "20fcc17f028a4094a1dac9e7b76129bb": {
          "model_module": "@jupyter-widgets/base",
          "model_name": "LayoutModel",
          "model_module_version": "1.2.0",
          "state": {
            "_model_module": "@jupyter-widgets/base",
            "_model_module_version": "1.2.0",
            "_model_name": "LayoutModel",
            "_view_count": null,
            "_view_module": "@jupyter-widgets/base",
            "_view_module_version": "1.2.0",
            "_view_name": "LayoutView",
            "align_content": null,
            "align_items": null,
            "align_self": null,
            "border": null,
            "bottom": null,
            "display": null,
            "flex": null,
            "flex_flow": null,
            "grid_area": null,
            "grid_auto_columns": null,
            "grid_auto_flow": null,
            "grid_auto_rows": null,
            "grid_column": null,
            "grid_gap": null,
            "grid_row": null,
            "grid_template_areas": null,
            "grid_template_columns": null,
            "grid_template_rows": null,
            "height": null,
            "justify_content": null,
            "justify_items": null,
            "left": null,
            "margin": null,
            "max_height": null,
            "max_width": null,
            "min_height": null,
            "min_width": null,
            "object_fit": null,
            "object_position": null,
            "order": null,
            "overflow": null,
            "overflow_x": null,
            "overflow_y": null,
            "padding": null,
            "right": null,
            "top": null,
            "visibility": null,
            "width": null
          }
        },
        "64a00ef454e3414da2c7ff65b81597d1": {
          "model_module": "@jupyter-widgets/controls",
          "model_name": "ProgressStyleModel",
          "model_module_version": "1.5.0",
          "state": {
            "_model_module": "@jupyter-widgets/controls",
            "_model_module_version": "1.5.0",
            "_model_name": "ProgressStyleModel",
            "_view_count": null,
            "_view_module": "@jupyter-widgets/base",
            "_view_module_version": "1.2.0",
            "_view_name": "StyleView",
            "bar_color": null,
            "description_width": ""
          }
        },
        "84aa32ccc22049e6a24499582d4674a0": {
          "model_module": "@jupyter-widgets/base",
          "model_name": "LayoutModel",
          "model_module_version": "1.2.0",
          "state": {
            "_model_module": "@jupyter-widgets/base",
            "_model_module_version": "1.2.0",
            "_model_name": "LayoutModel",
            "_view_count": null,
            "_view_module": "@jupyter-widgets/base",
            "_view_module_version": "1.2.0",
            "_view_name": "LayoutView",
            "align_content": null,
            "align_items": null,
            "align_self": null,
            "border": null,
            "bottom": null,
            "display": null,
            "flex": null,
            "flex_flow": null,
            "grid_area": null,
            "grid_auto_columns": null,
            "grid_auto_flow": null,
            "grid_auto_rows": null,
            "grid_column": null,
            "grid_gap": null,
            "grid_row": null,
            "grid_template_areas": null,
            "grid_template_columns": null,
            "grid_template_rows": null,
            "height": null,
            "justify_content": null,
            "justify_items": null,
            "left": null,
            "margin": null,
            "max_height": null,
            "max_width": null,
            "min_height": null,
            "min_width": null,
            "object_fit": null,
            "object_position": null,
            "order": null,
            "overflow": null,
            "overflow_x": null,
            "overflow_y": null,
            "padding": null,
            "right": null,
            "top": null,
            "visibility": null,
            "width": null
          }
        },
        "d5057f4d507b4c7aa80a53ee87851f7d": {
          "model_module": "@jupyter-widgets/controls",
          "model_name": "DescriptionStyleModel",
          "model_module_version": "1.5.0",
          "state": {
            "_model_module": "@jupyter-widgets/controls",
            "_model_module_version": "1.5.0",
            "_model_name": "DescriptionStyleModel",
            "_view_count": null,
            "_view_module": "@jupyter-widgets/base",
            "_view_module_version": "1.2.0",
            "_view_name": "StyleView",
            "description_width": ""
          }
        },
        "41766cfd654843b3823c0c3539ef203c": {
          "model_module": "@jupyter-widgets/controls",
          "model_name": "HBoxModel",
          "model_module_version": "1.5.0",
          "state": {
            "_dom_classes": [],
            "_model_module": "@jupyter-widgets/controls",
            "_model_module_version": "1.5.0",
            "_model_name": "HBoxModel",
            "_view_count": null,
            "_view_module": "@jupyter-widgets/controls",
            "_view_module_version": "1.5.0",
            "_view_name": "HBoxView",
            "box_style": "",
            "children": [
              "IPY_MODEL_836cc378e475400fbe0d55d58682b9f0",
              "IPY_MODEL_4695a2b7c216401a8cc7ddc9c31e458b",
              "IPY_MODEL_16429f1e062e4cb191cd6b800941e08a"
            ],
            "layout": "IPY_MODEL_4efe9b3242d34de88801690f7f816d29"
          }
        },
        "836cc378e475400fbe0d55d58682b9f0": {
          "model_module": "@jupyter-widgets/controls",
          "model_name": "HTMLModel",
          "model_module_version": "1.5.0",
          "state": {
            "_dom_classes": [],
            "_model_module": "@jupyter-widgets/controls",
            "_model_module_version": "1.5.0",
            "_model_name": "HTMLModel",
            "_view_count": null,
            "_view_module": "@jupyter-widgets/controls",
            "_view_module_version": "1.5.0",
            "_view_name": "HTMLView",
            "description": "",
            "description_tooltip": null,
            "layout": "IPY_MODEL_206b5582369b408bb76ae6de158cc9ce",
            "placeholder": "​",
            "style": "IPY_MODEL_f4011e230b3b4f17b1c8edc803f24751",
            "value": "model.safetensors: 100%"
          }
        },
        "4695a2b7c216401a8cc7ddc9c31e458b": {
          "model_module": "@jupyter-widgets/controls",
          "model_name": "FloatProgressModel",
          "model_module_version": "1.5.0",
          "state": {
            "_dom_classes": [],
            "_model_module": "@jupyter-widgets/controls",
            "_model_module_version": "1.5.0",
            "_model_name": "FloatProgressModel",
            "_view_count": null,
            "_view_module": "@jupyter-widgets/controls",
            "_view_module_version": "1.5.0",
            "_view_name": "ProgressView",
            "bar_style": "success",
            "description": "",
            "description_tooltip": null,
            "layout": "IPY_MODEL_ea14fe756b154c69a8377cd8ffd05686",
            "max": 242043056,
            "min": 0,
            "orientation": "horizontal",
            "style": "IPY_MODEL_117cedfa23004f42b506a01b4df89cee",
            "value": 242043056
          }
        },
        "16429f1e062e4cb191cd6b800941e08a": {
          "model_module": "@jupyter-widgets/controls",
          "model_name": "HTMLModel",
          "model_module_version": "1.5.0",
          "state": {
            "_dom_classes": [],
            "_model_module": "@jupyter-widgets/controls",
            "_model_module_version": "1.5.0",
            "_model_name": "HTMLModel",
            "_view_count": null,
            "_view_module": "@jupyter-widgets/controls",
            "_view_module_version": "1.5.0",
            "_view_name": "HTMLView",
            "description": "",
            "description_tooltip": null,
            "layout": "IPY_MODEL_4b187a59c5984f559ce46c56f60c75eb",
            "placeholder": "​",
            "style": "IPY_MODEL_9bae56db2bba4f34938bb5ca379840ac",
            "value": " 242M/242M [00:02&lt;00:00, 109MB/s]"
          }
        },
        "4efe9b3242d34de88801690f7f816d29": {
          "model_module": "@jupyter-widgets/base",
          "model_name": "LayoutModel",
          "model_module_version": "1.2.0",
          "state": {
            "_model_module": "@jupyter-widgets/base",
            "_model_module_version": "1.2.0",
            "_model_name": "LayoutModel",
            "_view_count": null,
            "_view_module": "@jupyter-widgets/base",
            "_view_module_version": "1.2.0",
            "_view_name": "LayoutView",
            "align_content": null,
            "align_items": null,
            "align_self": null,
            "border": null,
            "bottom": null,
            "display": null,
            "flex": null,
            "flex_flow": null,
            "grid_area": null,
            "grid_auto_columns": null,
            "grid_auto_flow": null,
            "grid_auto_rows": null,
            "grid_column": null,
            "grid_gap": null,
            "grid_row": null,
            "grid_template_areas": null,
            "grid_template_columns": null,
            "grid_template_rows": null,
            "height": null,
            "justify_content": null,
            "justify_items": null,
            "left": null,
            "margin": null,
            "max_height": null,
            "max_width": null,
            "min_height": null,
            "min_width": null,
            "object_fit": null,
            "object_position": null,
            "order": null,
            "overflow": null,
            "overflow_x": null,
            "overflow_y": null,
            "padding": null,
            "right": null,
            "top": null,
            "visibility": null,
            "width": null
          }
        },
        "206b5582369b408bb76ae6de158cc9ce": {
          "model_module": "@jupyter-widgets/base",
          "model_name": "LayoutModel",
          "model_module_version": "1.2.0",
          "state": {
            "_model_module": "@jupyter-widgets/base",
            "_model_module_version": "1.2.0",
            "_model_name": "LayoutModel",
            "_view_count": null,
            "_view_module": "@jupyter-widgets/base",
            "_view_module_version": "1.2.0",
            "_view_name": "LayoutView",
            "align_content": null,
            "align_items": null,
            "align_self": null,
            "border": null,
            "bottom": null,
            "display": null,
            "flex": null,
            "flex_flow": null,
            "grid_area": null,
            "grid_auto_columns": null,
            "grid_auto_flow": null,
            "grid_auto_rows": null,
            "grid_column": null,
            "grid_gap": null,
            "grid_row": null,
            "grid_template_areas": null,
            "grid_template_columns": null,
            "grid_template_rows": null,
            "height": null,
            "justify_content": null,
            "justify_items": null,
            "left": null,
            "margin": null,
            "max_height": null,
            "max_width": null,
            "min_height": null,
            "min_width": null,
            "object_fit": null,
            "object_position": null,
            "order": null,
            "overflow": null,
            "overflow_x": null,
            "overflow_y": null,
            "padding": null,
            "right": null,
            "top": null,
            "visibility": null,
            "width": null
          }
        },
        "f4011e230b3b4f17b1c8edc803f24751": {
          "model_module": "@jupyter-widgets/controls",
          "model_name": "DescriptionStyleModel",
          "model_module_version": "1.5.0",
          "state": {
            "_model_module": "@jupyter-widgets/controls",
            "_model_module_version": "1.5.0",
            "_model_name": "DescriptionStyleModel",
            "_view_count": null,
            "_view_module": "@jupyter-widgets/base",
            "_view_module_version": "1.2.0",
            "_view_name": "StyleView",
            "description_width": ""
          }
        },
        "ea14fe756b154c69a8377cd8ffd05686": {
          "model_module": "@jupyter-widgets/base",
          "model_name": "LayoutModel",
          "model_module_version": "1.2.0",
          "state": {
            "_model_module": "@jupyter-widgets/base",
            "_model_module_version": "1.2.0",
            "_model_name": "LayoutModel",
            "_view_count": null,
            "_view_module": "@jupyter-widgets/base",
            "_view_module_version": "1.2.0",
            "_view_name": "LayoutView",
            "align_content": null,
            "align_items": null,
            "align_self": null,
            "border": null,
            "bottom": null,
            "display": null,
            "flex": null,
            "flex_flow": null,
            "grid_area": null,
            "grid_auto_columns": null,
            "grid_auto_flow": null,
            "grid_auto_rows": null,
            "grid_column": null,
            "grid_gap": null,
            "grid_row": null,
            "grid_template_areas": null,
            "grid_template_columns": null,
            "grid_template_rows": null,
            "height": null,
            "justify_content": null,
            "justify_items": null,
            "left": null,
            "margin": null,
            "max_height": null,
            "max_width": null,
            "min_height": null,
            "min_width": null,
            "object_fit": null,
            "object_position": null,
            "order": null,
            "overflow": null,
            "overflow_x": null,
            "overflow_y": null,
            "padding": null,
            "right": null,
            "top": null,
            "visibility": null,
            "width": null
          }
        },
        "117cedfa23004f42b506a01b4df89cee": {
          "model_module": "@jupyter-widgets/controls",
          "model_name": "ProgressStyleModel",
          "model_module_version": "1.5.0",
          "state": {
            "_model_module": "@jupyter-widgets/controls",
            "_model_module_version": "1.5.0",
            "_model_name": "ProgressStyleModel",
            "_view_count": null,
            "_view_module": "@jupyter-widgets/base",
            "_view_module_version": "1.2.0",
            "_view_name": "StyleView",
            "bar_color": null,
            "description_width": ""
          }
        },
        "4b187a59c5984f559ce46c56f60c75eb": {
          "model_module": "@jupyter-widgets/base",
          "model_name": "LayoutModel",
          "model_module_version": "1.2.0",
          "state": {
            "_model_module": "@jupyter-widgets/base",
            "_model_module_version": "1.2.0",
            "_model_name": "LayoutModel",
            "_view_count": null,
            "_view_module": "@jupyter-widgets/base",
            "_view_module_version": "1.2.0",
            "_view_name": "LayoutView",
            "align_content": null,
            "align_items": null,
            "align_self": null,
            "border": null,
            "bottom": null,
            "display": null,
            "flex": null,
            "flex_flow": null,
            "grid_area": null,
            "grid_auto_columns": null,
            "grid_auto_flow": null,
            "grid_auto_rows": null,
            "grid_column": null,
            "grid_gap": null,
            "grid_row": null,
            "grid_template_areas": null,
            "grid_template_columns": null,
            "grid_template_rows": null,
            "height": null,
            "justify_content": null,
            "justify_items": null,
            "left": null,
            "margin": null,
            "max_height": null,
            "max_width": null,
            "min_height": null,
            "min_width": null,
            "object_fit": null,
            "object_position": null,
            "order": null,
            "overflow": null,
            "overflow_x": null,
            "overflow_y": null,
            "padding": null,
            "right": null,
            "top": null,
            "visibility": null,
            "width": null
          }
        },
        "9bae56db2bba4f34938bb5ca379840ac": {
          "model_module": "@jupyter-widgets/controls",
          "model_name": "DescriptionStyleModel",
          "model_module_version": "1.5.0",
          "state": {
            "_model_module": "@jupyter-widgets/controls",
            "_model_module_version": "1.5.0",
            "_model_name": "DescriptionStyleModel",
            "_view_count": null,
            "_view_module": "@jupyter-widgets/base",
            "_view_module_version": "1.2.0",
            "_view_name": "StyleView",
            "description_width": ""
          }
        },
        "a870053e88174ec6aafa9266254f80b6": {
          "model_module": "@jupyter-widgets/controls",
          "model_name": "HBoxModel",
          "model_module_version": "1.5.0",
          "state": {
            "_dom_classes": [],
            "_model_module": "@jupyter-widgets/controls",
            "_model_module_version": "1.5.0",
            "_model_name": "HBoxModel",
            "_view_count": null,
            "_view_module": "@jupyter-widgets/controls",
            "_view_module_version": "1.5.0",
            "_view_name": "HBoxView",
            "box_style": "",
            "children": [
              "IPY_MODEL_ff8af48ba3784e7f92d5993a2f6c3bcc",
              "IPY_MODEL_33aa0fbb4c754e80982293171684d991",
              "IPY_MODEL_d83bbd158aea4040a93caa17e1df280d"
            ],
            "layout": "IPY_MODEL_bb100b2c818045798c241a44aef0e209"
          }
        },
        "ff8af48ba3784e7f92d5993a2f6c3bcc": {
          "model_module": "@jupyter-widgets/controls",
          "model_name": "HTMLModel",
          "model_module_version": "1.5.0",
          "state": {
            "_dom_classes": [],
            "_model_module": "@jupyter-widgets/controls",
            "_model_module_version": "1.5.0",
            "_model_name": "HTMLModel",
            "_view_count": null,
            "_view_module": "@jupyter-widgets/controls",
            "_view_module_version": "1.5.0",
            "_view_name": "HTMLView",
            "description": "",
            "description_tooltip": null,
            "layout": "IPY_MODEL_3247d4f9c2ff45cf9166727b34db6d40",
            "placeholder": "​",
            "style": "IPY_MODEL_72183b907e7e40ea906e8dcd6b3519cc",
            "value": "generation_config.json: 100%"
          }
        },
        "33aa0fbb4c754e80982293171684d991": {
          "model_module": "@jupyter-widgets/controls",
          "model_name": "FloatProgressModel",
          "model_module_version": "1.5.0",
          "state": {
            "_dom_classes": [],
            "_model_module": "@jupyter-widgets/controls",
            "_model_module_version": "1.5.0",
            "_model_name": "FloatProgressModel",
            "_view_count": null,
            "_view_module": "@jupyter-widgets/controls",
            "_view_module_version": "1.5.0",
            "_view_name": "ProgressView",
            "bar_style": "success",
            "description": "",
            "description_tooltip": null,
            "layout": "IPY_MODEL_6c999f8cea264c8bb70eb929f964ad5b",
            "max": 147,
            "min": 0,
            "orientation": "horizontal",
            "style": "IPY_MODEL_15fcac78fffe4eaf9e4fe4197ae7c181",
            "value": 147
          }
        },
        "d83bbd158aea4040a93caa17e1df280d": {
          "model_module": "@jupyter-widgets/controls",
          "model_name": "HTMLModel",
          "model_module_version": "1.5.0",
          "state": {
            "_dom_classes": [],
            "_model_module": "@jupyter-widgets/controls",
            "_model_module_version": "1.5.0",
            "_model_name": "HTMLModel",
            "_view_count": null,
            "_view_module": "@jupyter-widgets/controls",
            "_view_module_version": "1.5.0",
            "_view_name": "HTMLView",
            "description": "",
            "description_tooltip": null,
            "layout": "IPY_MODEL_b86a63c223244ecf8cecfde61274e27d",
            "placeholder": "​",
            "style": "IPY_MODEL_a50191c0853d4cdfb03d0556e87c3435",
            "value": " 147/147 [00:00&lt;00:00, 13.6kB/s]"
          }
        },
        "bb100b2c818045798c241a44aef0e209": {
          "model_module": "@jupyter-widgets/base",
          "model_name": "LayoutModel",
          "model_module_version": "1.2.0",
          "state": {
            "_model_module": "@jupyter-widgets/base",
            "_model_module_version": "1.2.0",
            "_model_name": "LayoutModel",
            "_view_count": null,
            "_view_module": "@jupyter-widgets/base",
            "_view_module_version": "1.2.0",
            "_view_name": "LayoutView",
            "align_content": null,
            "align_items": null,
            "align_self": null,
            "border": null,
            "bottom": null,
            "display": null,
            "flex": null,
            "flex_flow": null,
            "grid_area": null,
            "grid_auto_columns": null,
            "grid_auto_flow": null,
            "grid_auto_rows": null,
            "grid_column": null,
            "grid_gap": null,
            "grid_row": null,
            "grid_template_areas": null,
            "grid_template_columns": null,
            "grid_template_rows": null,
            "height": null,
            "justify_content": null,
            "justify_items": null,
            "left": null,
            "margin": null,
            "max_height": null,
            "max_width": null,
            "min_height": null,
            "min_width": null,
            "object_fit": null,
            "object_position": null,
            "order": null,
            "overflow": null,
            "overflow_x": null,
            "overflow_y": null,
            "padding": null,
            "right": null,
            "top": null,
            "visibility": null,
            "width": null
          }
        },
        "3247d4f9c2ff45cf9166727b34db6d40": {
          "model_module": "@jupyter-widgets/base",
          "model_name": "LayoutModel",
          "model_module_version": "1.2.0",
          "state": {
            "_model_module": "@jupyter-widgets/base",
            "_model_module_version": "1.2.0",
            "_model_name": "LayoutModel",
            "_view_count": null,
            "_view_module": "@jupyter-widgets/base",
            "_view_module_version": "1.2.0",
            "_view_name": "LayoutView",
            "align_content": null,
            "align_items": null,
            "align_self": null,
            "border": null,
            "bottom": null,
            "display": null,
            "flex": null,
            "flex_flow": null,
            "grid_area": null,
            "grid_auto_columns": null,
            "grid_auto_flow": null,
            "grid_auto_rows": null,
            "grid_column": null,
            "grid_gap": null,
            "grid_row": null,
            "grid_template_areas": null,
            "grid_template_columns": null,
            "grid_template_rows": null,
            "height": null,
            "justify_content": null,
            "justify_items": null,
            "left": null,
            "margin": null,
            "max_height": null,
            "max_width": null,
            "min_height": null,
            "min_width": null,
            "object_fit": null,
            "object_position": null,
            "order": null,
            "overflow": null,
            "overflow_x": null,
            "overflow_y": null,
            "padding": null,
            "right": null,
            "top": null,
            "visibility": null,
            "width": null
          }
        },
        "72183b907e7e40ea906e8dcd6b3519cc": {
          "model_module": "@jupyter-widgets/controls",
          "model_name": "DescriptionStyleModel",
          "model_module_version": "1.5.0",
          "state": {
            "_model_module": "@jupyter-widgets/controls",
            "_model_module_version": "1.5.0",
            "_model_name": "DescriptionStyleModel",
            "_view_count": null,
            "_view_module": "@jupyter-widgets/base",
            "_view_module_version": "1.2.0",
            "_view_name": "StyleView",
            "description_width": ""
          }
        },
        "6c999f8cea264c8bb70eb929f964ad5b": {
          "model_module": "@jupyter-widgets/base",
          "model_name": "LayoutModel",
          "model_module_version": "1.2.0",
          "state": {
            "_model_module": "@jupyter-widgets/base",
            "_model_module_version": "1.2.0",
            "_model_name": "LayoutModel",
            "_view_count": null,
            "_view_module": "@jupyter-widgets/base",
            "_view_module_version": "1.2.0",
            "_view_name": "LayoutView",
            "align_content": null,
            "align_items": null,
            "align_self": null,
            "border": null,
            "bottom": null,
            "display": null,
            "flex": null,
            "flex_flow": null,
            "grid_area": null,
            "grid_auto_columns": null,
            "grid_auto_flow": null,
            "grid_auto_rows": null,
            "grid_column": null,
            "grid_gap": null,
            "grid_row": null,
            "grid_template_areas": null,
            "grid_template_columns": null,
            "grid_template_rows": null,
            "height": null,
            "justify_content": null,
            "justify_items": null,
            "left": null,
            "margin": null,
            "max_height": null,
            "max_width": null,
            "min_height": null,
            "min_width": null,
            "object_fit": null,
            "object_position": null,
            "order": null,
            "overflow": null,
            "overflow_x": null,
            "overflow_y": null,
            "padding": null,
            "right": null,
            "top": null,
            "visibility": null,
            "width": null
          }
        },
        "15fcac78fffe4eaf9e4fe4197ae7c181": {
          "model_module": "@jupyter-widgets/controls",
          "model_name": "ProgressStyleModel",
          "model_module_version": "1.5.0",
          "state": {
            "_model_module": "@jupyter-widgets/controls",
            "_model_module_version": "1.5.0",
            "_model_name": "ProgressStyleModel",
            "_view_count": null,
            "_view_module": "@jupyter-widgets/base",
            "_view_module_version": "1.2.0",
            "_view_name": "StyleView",
            "bar_color": null,
            "description_width": ""
          }
        },
        "b86a63c223244ecf8cecfde61274e27d": {
          "model_module": "@jupyter-widgets/base",
          "model_name": "LayoutModel",
          "model_module_version": "1.2.0",
          "state": {
            "_model_module": "@jupyter-widgets/base",
            "_model_module_version": "1.2.0",
            "_model_name": "LayoutModel",
            "_view_count": null,
            "_view_module": "@jupyter-widgets/base",
            "_view_module_version": "1.2.0",
            "_view_name": "LayoutView",
            "align_content": null,
            "align_items": null,
            "align_self": null,
            "border": null,
            "bottom": null,
            "display": null,
            "flex": null,
            "flex_flow": null,
            "grid_area": null,
            "grid_auto_columns": null,
            "grid_auto_flow": null,
            "grid_auto_rows": null,
            "grid_column": null,
            "grid_gap": null,
            "grid_row": null,
            "grid_template_areas": null,
            "grid_template_columns": null,
            "grid_template_rows": null,
            "height": null,
            "justify_content": null,
            "justify_items": null,
            "left": null,
            "margin": null,
            "max_height": null,
            "max_width": null,
            "min_height": null,
            "min_width": null,
            "object_fit": null,
            "object_position": null,
            "order": null,
            "overflow": null,
            "overflow_x": null,
            "overflow_y": null,
            "padding": null,
            "right": null,
            "top": null,
            "visibility": null,
            "width": null
          }
        },
        "a50191c0853d4cdfb03d0556e87c3435": {
          "model_module": "@jupyter-widgets/controls",
          "model_name": "DescriptionStyleModel",
          "model_module_version": "1.5.0",
          "state": {
            "_model_module": "@jupyter-widgets/controls",
            "_model_module_version": "1.5.0",
            "_model_name": "DescriptionStyleModel",
            "_view_count": null,
            "_view_module": "@jupyter-widgets/base",
            "_view_module_version": "1.2.0",
            "_view_name": "StyleView",
            "description_width": ""
          }
        },
        "c3d85181cc5b4c5485651d230fc5d61d": {
          "model_module": "@jupyter-widgets/controls",
          "model_name": "HBoxModel",
          "model_module_version": "1.5.0",
          "state": {
            "_dom_classes": [],
            "_model_module": "@jupyter-widgets/controls",
            "_model_module_version": "1.5.0",
            "_model_name": "HBoxModel",
            "_view_count": null,
            "_view_module": "@jupyter-widgets/controls",
            "_view_module_version": "1.5.0",
            "_view_name": "HBoxView",
            "box_style": "",
            "children": [
              "IPY_MODEL_fd0d2d2c96a14cbf83fa1ede21bb49f4",
              "IPY_MODEL_e9c53040ceda4a1abec80dd2679b23f0",
              "IPY_MODEL_e42fa6627a3549d19786127a2159628f"
            ],
            "layout": "IPY_MODEL_0eb5279f8b674be199313c4227b4ed99"
          }
        },
        "fd0d2d2c96a14cbf83fa1ede21bb49f4": {
          "model_module": "@jupyter-widgets/controls",
          "model_name": "HTMLModel",
          "model_module_version": "1.5.0",
          "state": {
            "_dom_classes": [],
            "_model_module": "@jupyter-widgets/controls",
            "_model_module_version": "1.5.0",
            "_model_name": "HTMLModel",
            "_view_count": null,
            "_view_module": "@jupyter-widgets/controls",
            "_view_module_version": "1.5.0",
            "_view_name": "HTMLView",
            "description": "",
            "description_tooltip": null,
            "layout": "IPY_MODEL_956412a1708340b5817905cfc5f60f74",
            "placeholder": "​",
            "style": "IPY_MODEL_8e9337f79f664830a3ef7c4bf333f23e",
            "value": "Map: 100%"
          }
        },
        "e9c53040ceda4a1abec80dd2679b23f0": {
          "model_module": "@jupyter-widgets/controls",
          "model_name": "FloatProgressModel",
          "model_module_version": "1.5.0",
          "state": {
            "_dom_classes": [],
            "_model_module": "@jupyter-widgets/controls",
            "_model_module_version": "1.5.0",
            "_model_name": "FloatProgressModel",
            "_view_count": null,
            "_view_module": "@jupyter-widgets/controls",
            "_view_module_version": "1.5.0",
            "_view_name": "ProgressView",
            "bar_style": "success",
            "description": "",
            "description_tooltip": null,
            "layout": "IPY_MODEL_2b6fc0ff225f42b58e3de8318c5e1e11",
            "max": 13125,
            "min": 0,
            "orientation": "horizontal",
            "style": "IPY_MODEL_f530db2f572d4835891e4117ffbc1a5b",
            "value": 13125
          }
        },
        "e42fa6627a3549d19786127a2159628f": {
          "model_module": "@jupyter-widgets/controls",
          "model_name": "HTMLModel",
          "model_module_version": "1.5.0",
          "state": {
            "_dom_classes": [],
            "_model_module": "@jupyter-widgets/controls",
            "_model_module_version": "1.5.0",
            "_model_name": "HTMLModel",
            "_view_count": null,
            "_view_module": "@jupyter-widgets/controls",
            "_view_module_version": "1.5.0",
            "_view_name": "HTMLView",
            "description": "",
            "description_tooltip": null,
            "layout": "IPY_MODEL_8387043ae71a4960ae89e8c4b3070da0",
            "placeholder": "​",
            "style": "IPY_MODEL_f218abcf413e4767b806c4e5bc92197e",
            "value": " 13125/13125 [00:13&lt;00:00, 925.71 examples/s]"
          }
        },
        "0eb5279f8b674be199313c4227b4ed99": {
          "model_module": "@jupyter-widgets/base",
          "model_name": "LayoutModel",
          "model_module_version": "1.2.0",
          "state": {
            "_model_module": "@jupyter-widgets/base",
            "_model_module_version": "1.2.0",
            "_model_name": "LayoutModel",
            "_view_count": null,
            "_view_module": "@jupyter-widgets/base",
            "_view_module_version": "1.2.0",
            "_view_name": "LayoutView",
            "align_content": null,
            "align_items": null,
            "align_self": null,
            "border": null,
            "bottom": null,
            "display": null,
            "flex": null,
            "flex_flow": null,
            "grid_area": null,
            "grid_auto_columns": null,
            "grid_auto_flow": null,
            "grid_auto_rows": null,
            "grid_column": null,
            "grid_gap": null,
            "grid_row": null,
            "grid_template_areas": null,
            "grid_template_columns": null,
            "grid_template_rows": null,
            "height": null,
            "justify_content": null,
            "justify_items": null,
            "left": null,
            "margin": null,
            "max_height": null,
            "max_width": null,
            "min_height": null,
            "min_width": null,
            "object_fit": null,
            "object_position": null,
            "order": null,
            "overflow": null,
            "overflow_x": null,
            "overflow_y": null,
            "padding": null,
            "right": null,
            "top": null,
            "visibility": null,
            "width": null
          }
        },
        "956412a1708340b5817905cfc5f60f74": {
          "model_module": "@jupyter-widgets/base",
          "model_name": "LayoutModel",
          "model_module_version": "1.2.0",
          "state": {
            "_model_module": "@jupyter-widgets/base",
            "_model_module_version": "1.2.0",
            "_model_name": "LayoutModel",
            "_view_count": null,
            "_view_module": "@jupyter-widgets/base",
            "_view_module_version": "1.2.0",
            "_view_name": "LayoutView",
            "align_content": null,
            "align_items": null,
            "align_self": null,
            "border": null,
            "bottom": null,
            "display": null,
            "flex": null,
            "flex_flow": null,
            "grid_area": null,
            "grid_auto_columns": null,
            "grid_auto_flow": null,
            "grid_auto_rows": null,
            "grid_column": null,
            "grid_gap": null,
            "grid_row": null,
            "grid_template_areas": null,
            "grid_template_columns": null,
            "grid_template_rows": null,
            "height": null,
            "justify_content": null,
            "justify_items": null,
            "left": null,
            "margin": null,
            "max_height": null,
            "max_width": null,
            "min_height": null,
            "min_width": null,
            "object_fit": null,
            "object_position": null,
            "order": null,
            "overflow": null,
            "overflow_x": null,
            "overflow_y": null,
            "padding": null,
            "right": null,
            "top": null,
            "visibility": null,
            "width": null
          }
        },
        "8e9337f79f664830a3ef7c4bf333f23e": {
          "model_module": "@jupyter-widgets/controls",
          "model_name": "DescriptionStyleModel",
          "model_module_version": "1.5.0",
          "state": {
            "_model_module": "@jupyter-widgets/controls",
            "_model_module_version": "1.5.0",
            "_model_name": "DescriptionStyleModel",
            "_view_count": null,
            "_view_module": "@jupyter-widgets/base",
            "_view_module_version": "1.2.0",
            "_view_name": "StyleView",
            "description_width": ""
          }
        },
        "2b6fc0ff225f42b58e3de8318c5e1e11": {
          "model_module": "@jupyter-widgets/base",
          "model_name": "LayoutModel",
          "model_module_version": "1.2.0",
          "state": {
            "_model_module": "@jupyter-widgets/base",
            "_model_module_version": "1.2.0",
            "_model_name": "LayoutModel",
            "_view_count": null,
            "_view_module": "@jupyter-widgets/base",
            "_view_module_version": "1.2.0",
            "_view_name": "LayoutView",
            "align_content": null,
            "align_items": null,
            "align_self": null,
            "border": null,
            "bottom": null,
            "display": null,
            "flex": null,
            "flex_flow": null,
            "grid_area": null,
            "grid_auto_columns": null,
            "grid_auto_flow": null,
            "grid_auto_rows": null,
            "grid_column": null,
            "grid_gap": null,
            "grid_row": null,
            "grid_template_areas": null,
            "grid_template_columns": null,
            "grid_template_rows": null,
            "height": null,
            "justify_content": null,
            "justify_items": null,
            "left": null,
            "margin": null,
            "max_height": null,
            "max_width": null,
            "min_height": null,
            "min_width": null,
            "object_fit": null,
            "object_position": null,
            "order": null,
            "overflow": null,
            "overflow_x": null,
            "overflow_y": null,
            "padding": null,
            "right": null,
            "top": null,
            "visibility": null,
            "width": null
          }
        },
        "f530db2f572d4835891e4117ffbc1a5b": {
          "model_module": "@jupyter-widgets/controls",
          "model_name": "ProgressStyleModel",
          "model_module_version": "1.5.0",
          "state": {
            "_model_module": "@jupyter-widgets/controls",
            "_model_module_version": "1.5.0",
            "_model_name": "ProgressStyleModel",
            "_view_count": null,
            "_view_module": "@jupyter-widgets/base",
            "_view_module_version": "1.2.0",
            "_view_name": "StyleView",
            "bar_color": null,
            "description_width": ""
          }
        },
        "8387043ae71a4960ae89e8c4b3070da0": {
          "model_module": "@jupyter-widgets/base",
          "model_name": "LayoutModel",
          "model_module_version": "1.2.0",
          "state": {
            "_model_module": "@jupyter-widgets/base",
            "_model_module_version": "1.2.0",
            "_model_name": "LayoutModel",
            "_view_count": null,
            "_view_module": "@jupyter-widgets/base",
            "_view_module_version": "1.2.0",
            "_view_name": "LayoutView",
            "align_content": null,
            "align_items": null,
            "align_self": null,
            "border": null,
            "bottom": null,
            "display": null,
            "flex": null,
            "flex_flow": null,
            "grid_area": null,
            "grid_auto_columns": null,
            "grid_auto_flow": null,
            "grid_auto_rows": null,
            "grid_column": null,
            "grid_gap": null,
            "grid_row": null,
            "grid_template_areas": null,
            "grid_template_columns": null,
            "grid_template_rows": null,
            "height": null,
            "justify_content": null,
            "justify_items": null,
            "left": null,
            "margin": null,
            "max_height": null,
            "max_width": null,
            "min_height": null,
            "min_width": null,
            "object_fit": null,
            "object_position": null,
            "order": null,
            "overflow": null,
            "overflow_x": null,
            "overflow_y": null,
            "padding": null,
            "right": null,
            "top": null,
            "visibility": null,
            "width": null
          }
        },
        "f218abcf413e4767b806c4e5bc92197e": {
          "model_module": "@jupyter-widgets/controls",
          "model_name": "DescriptionStyleModel",
          "model_module_version": "1.5.0",
          "state": {
            "_model_module": "@jupyter-widgets/controls",
            "_model_module_version": "1.5.0",
            "_model_name": "DescriptionStyleModel",
            "_view_count": null,
            "_view_module": "@jupyter-widgets/base",
            "_view_module_version": "1.2.0",
            "_view_name": "StyleView",
            "description_width": ""
          }
        },
        "277d1fddd57642ce87a434aa2861b994": {
          "model_module": "@jupyter-widgets/controls",
          "model_name": "HBoxModel",
          "model_module_version": "1.5.0",
          "state": {
            "_dom_classes": [],
            "_model_module": "@jupyter-widgets/controls",
            "_model_module_version": "1.5.0",
            "_model_name": "HBoxModel",
            "_view_count": null,
            "_view_module": "@jupyter-widgets/controls",
            "_view_module_version": "1.5.0",
            "_view_name": "HBoxView",
            "box_style": "",
            "children": [
              "IPY_MODEL_d475df453875434fb9faaccd5712e81f",
              "IPY_MODEL_da029d68c392462cae96da0b20aa0180",
              "IPY_MODEL_6cd07329b5304532b3ab0639ccb85d7c"
            ],
            "layout": "IPY_MODEL_c7450fff10ed4be0ac4678cfc960988e"
          }
        },
        "d475df453875434fb9faaccd5712e81f": {
          "model_module": "@jupyter-widgets/controls",
          "model_name": "HTMLModel",
          "model_module_version": "1.5.0",
          "state": {
            "_dom_classes": [],
            "_model_module": "@jupyter-widgets/controls",
            "_model_module_version": "1.5.0",
            "_model_name": "HTMLModel",
            "_view_count": null,
            "_view_module": "@jupyter-widgets/controls",
            "_view_module_version": "1.5.0",
            "_view_name": "HTMLView",
            "description": "",
            "description_tooltip": null,
            "layout": "IPY_MODEL_81fd722f5c4c46df9fa8e97bfeb99fd7",
            "placeholder": "​",
            "style": "IPY_MODEL_c77843855d5647e98930829bb24c34e9",
            "value": "Map: 100%"
          }
        },
        "da029d68c392462cae96da0b20aa0180": {
          "model_module": "@jupyter-widgets/controls",
          "model_name": "FloatProgressModel",
          "model_module_version": "1.5.0",
          "state": {
            "_dom_classes": [],
            "_model_module": "@jupyter-widgets/controls",
            "_model_module_version": "1.5.0",
            "_model_name": "FloatProgressModel",
            "_view_count": null,
            "_view_module": "@jupyter-widgets/controls",
            "_view_module_version": "1.5.0",
            "_view_name": "ProgressView",
            "bar_style": "success",
            "description": "",
            "description_tooltip": null,
            "layout": "IPY_MODEL_c72d088ed2b349678a3f55205fb26191",
            "max": 1641,
            "min": 0,
            "orientation": "horizontal",
            "style": "IPY_MODEL_7ec26985bfdf47179c0e0a6499f6541d",
            "value": 1641
          }
        },
        "6cd07329b5304532b3ab0639ccb85d7c": {
          "model_module": "@jupyter-widgets/controls",
          "model_name": "HTMLModel",
          "model_module_version": "1.5.0",
          "state": {
            "_dom_classes": [],
            "_model_module": "@jupyter-widgets/controls",
            "_model_module_version": "1.5.0",
            "_model_name": "HTMLModel",
            "_view_count": null,
            "_view_module": "@jupyter-widgets/controls",
            "_view_module_version": "1.5.0",
            "_view_name": "HTMLView",
            "description": "",
            "description_tooltip": null,
            "layout": "IPY_MODEL_09b86b05f14b4ac1bea9965e096caa94",
            "placeholder": "​",
            "style": "IPY_MODEL_b373bec8ebec490b9da3525f183dd58d",
            "value": " 1641/1641 [00:01&lt;00:00, 1068.47 examples/s]"
          }
        },
        "c7450fff10ed4be0ac4678cfc960988e": {
          "model_module": "@jupyter-widgets/base",
          "model_name": "LayoutModel",
          "model_module_version": "1.2.0",
          "state": {
            "_model_module": "@jupyter-widgets/base",
            "_model_module_version": "1.2.0",
            "_model_name": "LayoutModel",
            "_view_count": null,
            "_view_module": "@jupyter-widgets/base",
            "_view_module_version": "1.2.0",
            "_view_name": "LayoutView",
            "align_content": null,
            "align_items": null,
            "align_self": null,
            "border": null,
            "bottom": null,
            "display": null,
            "flex": null,
            "flex_flow": null,
            "grid_area": null,
            "grid_auto_columns": null,
            "grid_auto_flow": null,
            "grid_auto_rows": null,
            "grid_column": null,
            "grid_gap": null,
            "grid_row": null,
            "grid_template_areas": null,
            "grid_template_columns": null,
            "grid_template_rows": null,
            "height": null,
            "justify_content": null,
            "justify_items": null,
            "left": null,
            "margin": null,
            "max_height": null,
            "max_width": null,
            "min_height": null,
            "min_width": null,
            "object_fit": null,
            "object_position": null,
            "order": null,
            "overflow": null,
            "overflow_x": null,
            "overflow_y": null,
            "padding": null,
            "right": null,
            "top": null,
            "visibility": null,
            "width": null
          }
        },
        "81fd722f5c4c46df9fa8e97bfeb99fd7": {
          "model_module": "@jupyter-widgets/base",
          "model_name": "LayoutModel",
          "model_module_version": "1.2.0",
          "state": {
            "_model_module": "@jupyter-widgets/base",
            "_model_module_version": "1.2.0",
            "_model_name": "LayoutModel",
            "_view_count": null,
            "_view_module": "@jupyter-widgets/base",
            "_view_module_version": "1.2.0",
            "_view_name": "LayoutView",
            "align_content": null,
            "align_items": null,
            "align_self": null,
            "border": null,
            "bottom": null,
            "display": null,
            "flex": null,
            "flex_flow": null,
            "grid_area": null,
            "grid_auto_columns": null,
            "grid_auto_flow": null,
            "grid_auto_rows": null,
            "grid_column": null,
            "grid_gap": null,
            "grid_row": null,
            "grid_template_areas": null,
            "grid_template_columns": null,
            "grid_template_rows": null,
            "height": null,
            "justify_content": null,
            "justify_items": null,
            "left": null,
            "margin": null,
            "max_height": null,
            "max_width": null,
            "min_height": null,
            "min_width": null,
            "object_fit": null,
            "object_position": null,
            "order": null,
            "overflow": null,
            "overflow_x": null,
            "overflow_y": null,
            "padding": null,
            "right": null,
            "top": null,
            "visibility": null,
            "width": null
          }
        },
        "c77843855d5647e98930829bb24c34e9": {
          "model_module": "@jupyter-widgets/controls",
          "model_name": "DescriptionStyleModel",
          "model_module_version": "1.5.0",
          "state": {
            "_model_module": "@jupyter-widgets/controls",
            "_model_module_version": "1.5.0",
            "_model_name": "DescriptionStyleModel",
            "_view_count": null,
            "_view_module": "@jupyter-widgets/base",
            "_view_module_version": "1.2.0",
            "_view_name": "StyleView",
            "description_width": ""
          }
        },
        "c72d088ed2b349678a3f55205fb26191": {
          "model_module": "@jupyter-widgets/base",
          "model_name": "LayoutModel",
          "model_module_version": "1.2.0",
          "state": {
            "_model_module": "@jupyter-widgets/base",
            "_model_module_version": "1.2.0",
            "_model_name": "LayoutModel",
            "_view_count": null,
            "_view_module": "@jupyter-widgets/base",
            "_view_module_version": "1.2.0",
            "_view_name": "LayoutView",
            "align_content": null,
            "align_items": null,
            "align_self": null,
            "border": null,
            "bottom": null,
            "display": null,
            "flex": null,
            "flex_flow": null,
            "grid_area": null,
            "grid_auto_columns": null,
            "grid_auto_flow": null,
            "grid_auto_rows": null,
            "grid_column": null,
            "grid_gap": null,
            "grid_row": null,
            "grid_template_areas": null,
            "grid_template_columns": null,
            "grid_template_rows": null,
            "height": null,
            "justify_content": null,
            "justify_items": null,
            "left": null,
            "margin": null,
            "max_height": null,
            "max_width": null,
            "min_height": null,
            "min_width": null,
            "object_fit": null,
            "object_position": null,
            "order": null,
            "overflow": null,
            "overflow_x": null,
            "overflow_y": null,
            "padding": null,
            "right": null,
            "top": null,
            "visibility": null,
            "width": null
          }
        },
        "7ec26985bfdf47179c0e0a6499f6541d": {
          "model_module": "@jupyter-widgets/controls",
          "model_name": "ProgressStyleModel",
          "model_module_version": "1.5.0",
          "state": {
            "_model_module": "@jupyter-widgets/controls",
            "_model_module_version": "1.5.0",
            "_model_name": "ProgressStyleModel",
            "_view_count": null,
            "_view_module": "@jupyter-widgets/base",
            "_view_module_version": "1.2.0",
            "_view_name": "StyleView",
            "bar_color": null,
            "description_width": ""
          }
        },
        "09b86b05f14b4ac1bea9965e096caa94": {
          "model_module": "@jupyter-widgets/base",
          "model_name": "LayoutModel",
          "model_module_version": "1.2.0",
          "state": {
            "_model_module": "@jupyter-widgets/base",
            "_model_module_version": "1.2.0",
            "_model_name": "LayoutModel",
            "_view_count": null,
            "_view_module": "@jupyter-widgets/base",
            "_view_module_version": "1.2.0",
            "_view_name": "LayoutView",
            "align_content": null,
            "align_items": null,
            "align_self": null,
            "border": null,
            "bottom": null,
            "display": null,
            "flex": null,
            "flex_flow": null,
            "grid_area": null,
            "grid_auto_columns": null,
            "grid_auto_flow": null,
            "grid_auto_rows": null,
            "grid_column": null,
            "grid_gap": null,
            "grid_row": null,
            "grid_template_areas": null,
            "grid_template_columns": null,
            "grid_template_rows": null,
            "height": null,
            "justify_content": null,
            "justify_items": null,
            "left": null,
            "margin": null,
            "max_height": null,
            "max_width": null,
            "min_height": null,
            "min_width": null,
            "object_fit": null,
            "object_position": null,
            "order": null,
            "overflow": null,
            "overflow_x": null,
            "overflow_y": null,
            "padding": null,
            "right": null,
            "top": null,
            "visibility": null,
            "width": null
          }
        },
        "b373bec8ebec490b9da3525f183dd58d": {
          "model_module": "@jupyter-widgets/controls",
          "model_name": "DescriptionStyleModel",
          "model_module_version": "1.5.0",
          "state": {
            "_model_module": "@jupyter-widgets/controls",
            "_model_module_version": "1.5.0",
            "_model_name": "DescriptionStyleModel",
            "_view_count": null,
            "_view_module": "@jupyter-widgets/base",
            "_view_module_version": "1.2.0",
            "_view_name": "StyleView",
            "description_width": ""
          }
        },
        "b5be36d61e5f4775a2a0841a74e2adc0": {
          "model_module": "@jupyter-widgets/controls",
          "model_name": "HBoxModel",
          "model_module_version": "1.5.0",
          "state": {
            "_dom_classes": [],
            "_model_module": "@jupyter-widgets/controls",
            "_model_module_version": "1.5.0",
            "_model_name": "HBoxModel",
            "_view_count": null,
            "_view_module": "@jupyter-widgets/controls",
            "_view_module_version": "1.5.0",
            "_view_name": "HBoxView",
            "box_style": "",
            "children": [
              "IPY_MODEL_d3e3fc2cc12b4b3d8e1a2d1c1f44f42e",
              "IPY_MODEL_99eb5cb8827541ccaba88463ae72aa07",
              "IPY_MODEL_0b4b4d031bcc448492600102e58b927c"
            ],
            "layout": "IPY_MODEL_055c6b8b59f749e9b2ab4fcb9bf8333d"
          }
        },
        "d3e3fc2cc12b4b3d8e1a2d1c1f44f42e": {
          "model_module": "@jupyter-widgets/controls",
          "model_name": "HTMLModel",
          "model_module_version": "1.5.0",
          "state": {
            "_dom_classes": [],
            "_model_module": "@jupyter-widgets/controls",
            "_model_module_version": "1.5.0",
            "_model_name": "HTMLModel",
            "_view_count": null,
            "_view_module": "@jupyter-widgets/controls",
            "_view_module_version": "1.5.0",
            "_view_name": "HTMLView",
            "description": "",
            "description_tooltip": null,
            "layout": "IPY_MODEL_6d4a3292384d4c51843345568a0e5faa",
            "placeholder": "​",
            "style": "IPY_MODEL_c9edc1a98c7b4c078ffff2db76fee49b",
            "value": "Map: 100%"
          }
        },
        "99eb5cb8827541ccaba88463ae72aa07": {
          "model_module": "@jupyter-widgets/controls",
          "model_name": "FloatProgressModel",
          "model_module_version": "1.5.0",
          "state": {
            "_dom_classes": [],
            "_model_module": "@jupyter-widgets/controls",
            "_model_module_version": "1.5.0",
            "_model_name": "FloatProgressModel",
            "_view_count": null,
            "_view_module": "@jupyter-widgets/controls",
            "_view_module_version": "1.5.0",
            "_view_name": "ProgressView",
            "bar_style": "success",
            "description": "",
            "description_tooltip": null,
            "layout": "IPY_MODEL_113c230ba4ae4cb08e51da1182d03eb1",
            "max": 1641,
            "min": 0,
            "orientation": "horizontal",
            "style": "IPY_MODEL_b7a2982df3e24a23b6e6687ab90b386b",
            "value": 1641
          }
        },
        "0b4b4d031bcc448492600102e58b927c": {
          "model_module": "@jupyter-widgets/controls",
          "model_name": "HTMLModel",
          "model_module_version": "1.5.0",
          "state": {
            "_dom_classes": [],
            "_model_module": "@jupyter-widgets/controls",
            "_model_module_version": "1.5.0",
            "_model_name": "HTMLModel",
            "_view_count": null,
            "_view_module": "@jupyter-widgets/controls",
            "_view_module_version": "1.5.0",
            "_view_name": "HTMLView",
            "description": "",
            "description_tooltip": null,
            "layout": "IPY_MODEL_791741f8a33647cab91771612f2a6825",
            "placeholder": "​",
            "style": "IPY_MODEL_bda00a118ec54ffebbb69bbd87c815c4",
            "value": " 1641/1641 [00:01&lt;00:00, 1127.97 examples/s]"
          }
        },
        "055c6b8b59f749e9b2ab4fcb9bf8333d": {
          "model_module": "@jupyter-widgets/base",
          "model_name": "LayoutModel",
          "model_module_version": "1.2.0",
          "state": {
            "_model_module": "@jupyter-widgets/base",
            "_model_module_version": "1.2.0",
            "_model_name": "LayoutModel",
            "_view_count": null,
            "_view_module": "@jupyter-widgets/base",
            "_view_module_version": "1.2.0",
            "_view_name": "LayoutView",
            "align_content": null,
            "align_items": null,
            "align_self": null,
            "border": null,
            "bottom": null,
            "display": null,
            "flex": null,
            "flex_flow": null,
            "grid_area": null,
            "grid_auto_columns": null,
            "grid_auto_flow": null,
            "grid_auto_rows": null,
            "grid_column": null,
            "grid_gap": null,
            "grid_row": null,
            "grid_template_areas": null,
            "grid_template_columns": null,
            "grid_template_rows": null,
            "height": null,
            "justify_content": null,
            "justify_items": null,
            "left": null,
            "margin": null,
            "max_height": null,
            "max_width": null,
            "min_height": null,
            "min_width": null,
            "object_fit": null,
            "object_position": null,
            "order": null,
            "overflow": null,
            "overflow_x": null,
            "overflow_y": null,
            "padding": null,
            "right": null,
            "top": null,
            "visibility": null,
            "width": null
          }
        },
        "6d4a3292384d4c51843345568a0e5faa": {
          "model_module": "@jupyter-widgets/base",
          "model_name": "LayoutModel",
          "model_module_version": "1.2.0",
          "state": {
            "_model_module": "@jupyter-widgets/base",
            "_model_module_version": "1.2.0",
            "_model_name": "LayoutModel",
            "_view_count": null,
            "_view_module": "@jupyter-widgets/base",
            "_view_module_version": "1.2.0",
            "_view_name": "LayoutView",
            "align_content": null,
            "align_items": null,
            "align_self": null,
            "border": null,
            "bottom": null,
            "display": null,
            "flex": null,
            "flex_flow": null,
            "grid_area": null,
            "grid_auto_columns": null,
            "grid_auto_flow": null,
            "grid_auto_rows": null,
            "grid_column": null,
            "grid_gap": null,
            "grid_row": null,
            "grid_template_areas": null,
            "grid_template_columns": null,
            "grid_template_rows": null,
            "height": null,
            "justify_content": null,
            "justify_items": null,
            "left": null,
            "margin": null,
            "max_height": null,
            "max_width": null,
            "min_height": null,
            "min_width": null,
            "object_fit": null,
            "object_position": null,
            "order": null,
            "overflow": null,
            "overflow_x": null,
            "overflow_y": null,
            "padding": null,
            "right": null,
            "top": null,
            "visibility": null,
            "width": null
          }
        },
        "c9edc1a98c7b4c078ffff2db76fee49b": {
          "model_module": "@jupyter-widgets/controls",
          "model_name": "DescriptionStyleModel",
          "model_module_version": "1.5.0",
          "state": {
            "_model_module": "@jupyter-widgets/controls",
            "_model_module_version": "1.5.0",
            "_model_name": "DescriptionStyleModel",
            "_view_count": null,
            "_view_module": "@jupyter-widgets/base",
            "_view_module_version": "1.2.0",
            "_view_name": "StyleView",
            "description_width": ""
          }
        },
        "113c230ba4ae4cb08e51da1182d03eb1": {
          "model_module": "@jupyter-widgets/base",
          "model_name": "LayoutModel",
          "model_module_version": "1.2.0",
          "state": {
            "_model_module": "@jupyter-widgets/base",
            "_model_module_version": "1.2.0",
            "_model_name": "LayoutModel",
            "_view_count": null,
            "_view_module": "@jupyter-widgets/base",
            "_view_module_version": "1.2.0",
            "_view_name": "LayoutView",
            "align_content": null,
            "align_items": null,
            "align_self": null,
            "border": null,
            "bottom": null,
            "display": null,
            "flex": null,
            "flex_flow": null,
            "grid_area": null,
            "grid_auto_columns": null,
            "grid_auto_flow": null,
            "grid_auto_rows": null,
            "grid_column": null,
            "grid_gap": null,
            "grid_row": null,
            "grid_template_areas": null,
            "grid_template_columns": null,
            "grid_template_rows": null,
            "height": null,
            "justify_content": null,
            "justify_items": null,
            "left": null,
            "margin": null,
            "max_height": null,
            "max_width": null,
            "min_height": null,
            "min_width": null,
            "object_fit": null,
            "object_position": null,
            "order": null,
            "overflow": null,
            "overflow_x": null,
            "overflow_y": null,
            "padding": null,
            "right": null,
            "top": null,
            "visibility": null,
            "width": null
          }
        },
        "b7a2982df3e24a23b6e6687ab90b386b": {
          "model_module": "@jupyter-widgets/controls",
          "model_name": "ProgressStyleModel",
          "model_module_version": "1.5.0",
          "state": {
            "_model_module": "@jupyter-widgets/controls",
            "_model_module_version": "1.5.0",
            "_model_name": "ProgressStyleModel",
            "_view_count": null,
            "_view_module": "@jupyter-widgets/base",
            "_view_module_version": "1.2.0",
            "_view_name": "StyleView",
            "bar_color": null,
            "description_width": ""
          }
        },
        "791741f8a33647cab91771612f2a6825": {
          "model_module": "@jupyter-widgets/base",
          "model_name": "LayoutModel",
          "model_module_version": "1.2.0",
          "state": {
            "_model_module": "@jupyter-widgets/base",
            "_model_module_version": "1.2.0",
            "_model_name": "LayoutModel",
            "_view_count": null,
            "_view_module": "@jupyter-widgets/base",
            "_view_module_version": "1.2.0",
            "_view_name": "LayoutView",
            "align_content": null,
            "align_items": null,
            "align_self": null,
            "border": null,
            "bottom": null,
            "display": null,
            "flex": null,
            "flex_flow": null,
            "grid_area": null,
            "grid_auto_columns": null,
            "grid_auto_flow": null,
            "grid_auto_rows": null,
            "grid_column": null,
            "grid_gap": null,
            "grid_row": null,
            "grid_template_areas": null,
            "grid_template_columns": null,
            "grid_template_rows": null,
            "height": null,
            "justify_content": null,
            "justify_items": null,
            "left": null,
            "margin": null,
            "max_height": null,
            "max_width": null,
            "min_height": null,
            "min_width": null,
            "object_fit": null,
            "object_position": null,
            "order": null,
            "overflow": null,
            "overflow_x": null,
            "overflow_y": null,
            "padding": null,
            "right": null,
            "top": null,
            "visibility": null,
            "width": null
          }
        },
        "bda00a118ec54ffebbb69bbd87c815c4": {
          "model_module": "@jupyter-widgets/controls",
          "model_name": "DescriptionStyleModel",
          "model_module_version": "1.5.0",
          "state": {
            "_model_module": "@jupyter-widgets/controls",
            "_model_module_version": "1.5.0",
            "_model_name": "DescriptionStyleModel",
            "_view_count": null,
            "_view_module": "@jupyter-widgets/base",
            "_view_module_version": "1.2.0",
            "_view_name": "StyleView",
            "description_width": ""
          }
        }
      }
    }
  },
  "cells": [
    {
      "cell_type": "markdown",
      "source": [
        "#                             **Fine-Tuning T5 for Medical Question Answering**"
      ],
      "metadata": {
        "id": "PgUAho6O39nD"
      }
    },
    {
      "cell_type": "markdown",
      "source": [
        "## 📌 1. Objective\n",
        "\n",
        "This project aims to fine-tune a pre-trained T5 transformer model (`t5-small`) to answer medical questions. The model learns to map input questions to their corresponding answers using supervised learning.\n",
        "\n",
        "The primary objective of this project is to fine-tune a pre-trained sequence-to-sequence transformer model (T5-small) for the medical question answering task. The model is trained to generate relevant answers based on user-provided questions from a curated medical dataset.\n",
        "\n"
      ],
      "metadata": {
        "id": "4uxdcHtw4Lkn"
      }
    },
    {
      "cell_type": "markdown",
      "source": [
        "CODE EXPLAINATION\n",
        "\n",
        "## 📌 2. Dataset Preparation\n",
        "\n",
        "We load a processed medical dataset in CSV format containing columns `Question` and `Answer`.\n",
        "\n",
        "#Dataset\n",
        "We used a processed medical dataset in CSV format with two columns:\n",
        "\n",
        "Question: Medical questions\n",
        "\n",
        "Answer: Corresponding answers\n",
        "\n",
        "The dataset was loaded using the datasets library and split into three parts:\n",
        "\n",
        "Training Set (80%): Used to train the model.\n",
        "\n",
        "Validation Set (10%): Used to monitor and evaluate model performance during training.\n",
        "\n",
        "Test Set (10%): Used to evaluate the final performance after training.\n",
        "\n",
        "This ensures a fair and standardized evaluation procedure as per assignment requirements."
      ],
      "metadata": {
        "id": "lhQPKKk04IWB"
      }
    },
    {
      "cell_type": "code",
      "execution_count": 29,
      "metadata": {
        "id": "A1FAO1WzjvZ9"
      },
      "outputs": [],
      "source": [
        "#1\n",
        "# Install dependencies (run only once)\n",
        "!pip install -q datasets transformers \"fsspec==2025.3.2\" gradio torch torchvision torchaudio\n",
        "\n",
        "# Disable wandb\n",
        "import os\n",
        "os.environ[\"WANDB_DISABLED\"] = \"true\"\n",
        "\n",
        "# Imports\n",
        "import pandas as pd\n",
        "from datasets import Dataset\n",
        "from transformers import (\n",
        "    AutoTokenizer,\n",
        "    AutoModelForSeq2SeqLM,\n",
        "    TrainingArguments,\n",
        "    Trainer,\n",
        ")\n",
        "import torch\n"
      ]
    },
    {
      "cell_type": "code",
      "source": [
        "!pip install evaluate\n"
      ],
      "metadata": {
        "colab": {
          "base_uri": "https://localhost:8080/"
        },
        "id": "MeSeZJ1Wh6Mw",
        "outputId": "cfea0b50-11cd-48b1-9420-e23d4a85af41"
      },
      "execution_count": 24,
      "outputs": [
        {
          "output_type": "stream",
          "name": "stdout",
          "text": [
            "Collecting evaluate\n",
            "  Downloading evaluate-0.4.4-py3-none-any.whl.metadata (9.5 kB)\n",
            "Requirement already satisfied: datasets>=2.0.0 in /usr/local/lib/python3.11/dist-packages (from evaluate) (2.14.4)\n",
            "Requirement already satisfied: numpy>=1.17 in /usr/local/lib/python3.11/dist-packages (from evaluate) (2.0.2)\n",
            "Requirement already satisfied: dill in /usr/local/lib/python3.11/dist-packages (from evaluate) (0.3.7)\n",
            "Requirement already satisfied: pandas in /usr/local/lib/python3.11/dist-packages (from evaluate) (2.2.2)\n",
            "Requirement already satisfied: requests>=2.19.0 in /usr/local/lib/python3.11/dist-packages (from evaluate) (2.32.3)\n",
            "Requirement already satisfied: tqdm>=4.62.1 in /usr/local/lib/python3.11/dist-packages (from evaluate) (4.67.1)\n",
            "Requirement already satisfied: xxhash in /usr/local/lib/python3.11/dist-packages (from evaluate) (3.5.0)\n",
            "Requirement already satisfied: multiprocess in /usr/local/lib/python3.11/dist-packages (from evaluate) (0.70.15)\n",
            "Requirement already satisfied: fsspec>=2021.05.0 in /usr/local/lib/python3.11/dist-packages (from fsspec[http]>=2021.05.0->evaluate) (2025.3.2)\n",
            "Requirement already satisfied: huggingface-hub>=0.7.0 in /usr/local/lib/python3.11/dist-packages (from evaluate) (0.33.1)\n",
            "Requirement already satisfied: packaging in /usr/local/lib/python3.11/dist-packages (from evaluate) (24.2)\n",
            "Requirement already satisfied: pyarrow>=8.0.0 in /usr/local/lib/python3.11/dist-packages (from datasets>=2.0.0->evaluate) (18.1.0)\n",
            "Requirement already satisfied: aiohttp in /usr/local/lib/python3.11/dist-packages (from datasets>=2.0.0->evaluate) (3.11.15)\n",
            "Requirement already satisfied: pyyaml>=5.1 in /usr/local/lib/python3.11/dist-packages (from datasets>=2.0.0->evaluate) (6.0.2)\n",
            "Requirement already satisfied: filelock in /usr/local/lib/python3.11/dist-packages (from huggingface-hub>=0.7.0->evaluate) (3.18.0)\n",
            "Requirement already satisfied: typing-extensions>=3.7.4.3 in /usr/local/lib/python3.11/dist-packages (from huggingface-hub>=0.7.0->evaluate) (4.14.0)\n",
            "Requirement already satisfied: hf-xet<2.0.0,>=1.1.2 in /usr/local/lib/python3.11/dist-packages (from huggingface-hub>=0.7.0->evaluate) (1.1.5)\n",
            "Requirement already satisfied: charset-normalizer<4,>=2 in /usr/local/lib/python3.11/dist-packages (from requests>=2.19.0->evaluate) (3.4.2)\n",
            "Requirement already satisfied: idna<4,>=2.5 in /usr/local/lib/python3.11/dist-packages (from requests>=2.19.0->evaluate) (3.10)\n",
            "Requirement already satisfied: urllib3<3,>=1.21.1 in /usr/local/lib/python3.11/dist-packages (from requests>=2.19.0->evaluate) (2.4.0)\n",
            "Requirement already satisfied: certifi>=2017.4.17 in /usr/local/lib/python3.11/dist-packages (from requests>=2.19.0->evaluate) (2025.6.15)\n",
            "Requirement already satisfied: python-dateutil>=2.8.2 in /usr/local/lib/python3.11/dist-packages (from pandas->evaluate) (2.9.0.post0)\n",
            "Requirement already satisfied: pytz>=2020.1 in /usr/local/lib/python3.11/dist-packages (from pandas->evaluate) (2025.2)\n",
            "Requirement already satisfied: tzdata>=2022.7 in /usr/local/lib/python3.11/dist-packages (from pandas->evaluate) (2025.2)\n",
            "Requirement already satisfied: aiohappyeyeballs>=2.3.0 in /usr/local/lib/python3.11/dist-packages (from aiohttp->datasets>=2.0.0->evaluate) (2.6.1)\n",
            "Requirement already satisfied: aiosignal>=1.1.2 in /usr/local/lib/python3.11/dist-packages (from aiohttp->datasets>=2.0.0->evaluate) (1.3.2)\n",
            "Requirement already satisfied: attrs>=17.3.0 in /usr/local/lib/python3.11/dist-packages (from aiohttp->datasets>=2.0.0->evaluate) (25.3.0)\n",
            "Requirement already satisfied: frozenlist>=1.1.1 in /usr/local/lib/python3.11/dist-packages (from aiohttp->datasets>=2.0.0->evaluate) (1.7.0)\n",
            "Requirement already satisfied: multidict<7.0,>=4.5 in /usr/local/lib/python3.11/dist-packages (from aiohttp->datasets>=2.0.0->evaluate) (6.6.3)\n",
            "Requirement already satisfied: propcache>=0.2.0 in /usr/local/lib/python3.11/dist-packages (from aiohttp->datasets>=2.0.0->evaluate) (0.3.2)\n",
            "Requirement already satisfied: yarl<2.0,>=1.17.0 in /usr/local/lib/python3.11/dist-packages (from aiohttp->datasets>=2.0.0->evaluate) (1.20.1)\n",
            "Requirement already satisfied: six>=1.5 in /usr/local/lib/python3.11/dist-packages (from python-dateutil>=2.8.2->pandas->evaluate) (1.17.0)\n",
            "Downloading evaluate-0.4.4-py3-none-any.whl (84 kB)\n",
            "\u001b[2K   \u001b[90m━━━━━━━━━━━━━━━━━━━━━━━━━━━━━━━━━━━━━━━━\u001b[0m \u001b[32m84.1/84.1 kB\u001b[0m \u001b[31m5.6 MB/s\u001b[0m eta \u001b[36m0:00:00\u001b[0m\n",
            "\u001b[?25hInstalling collected packages: evaluate\n",
            "Successfully installed evaluate-0.4.4\n"
          ]
        }
      ]
    },
    {
      "cell_type": "code",
      "source": [
        "#2\n",
        "# Load your processed CSV\n",
        "df = pd.read_csv(\"/content/medDataset_processed.csv\")\n",
        "print(df.head())\n",
        "\n",
        "# Convert to Hugging Face Dataset\n",
        "dataset = Dataset.from_pandas(df)\n",
        "print(dataset[0])\n",
        "print(dataset.column_names)\n"
      ],
      "metadata": {
        "colab": {
          "base_uri": "https://localhost:8080/"
        },
        "id": "LP3s1YmRk4LK",
        "outputId": "5070eedd-023b-415a-9110-88f05218f517"
      },
      "execution_count": 2,
      "outputs": [
        {
          "output_type": "stream",
          "name": "stdout",
          "text": [
            "             qtype                                           Question  \\\n",
            "0   susceptibility  Who is at risk for Lymphocytic Choriomeningiti...   \n",
            "1         symptoms  What are the symptoms of Lymphocytic Choriomen...   \n",
            "2   susceptibility  Who is at risk for Lymphocytic Choriomeningiti...   \n",
            "3  exams and tests  How to diagnose Lymphocytic Choriomeningitis (...   \n",
            "4        treatment  What are the treatments for Lymphocytic Chorio...   \n",
            "\n",
            "                                              Answer  \n",
            "0  LCMV infections can occur after exposure to fr...  \n",
            "1  LCMV is most commonly recognized as causing ne...  \n",
            "2  Individuals of all ages who come into contact ...  \n",
            "3  During the first phase of the disease, the mos...  \n",
            "4  Aseptic meningitis, encephalitis, or meningoen...  \n",
            "{'qtype': 'susceptibility', 'Question': 'Who is at risk for Lymphocytic Choriomeningitis (LCM)? ?', 'Answer': 'LCMV infections can occur after exposure to fresh urine, droppings, saliva, or nesting materials from infected rodents.  Transmission may also occur when these materials are directly introduced into broken skin, the nose, the eyes, or the mouth, or presumably, via the bite of an infected rodent. Person-to-person transmission has not been reported, with the exception of vertical transmission from infected mother to fetus, and rarely, through organ transplantation.'}\n",
            "['qtype', 'Question', 'Answer']\n"
          ]
        }
      ]
    },
    {
      "cell_type": "markdown",
      "source": [
        "📌 3. Dataset Splitting\n",
        "We split the dataset into training, validation, and test sets:\n",
        "\n",
        "Train: 80%\n",
        "\n",
        "Validation: 10%\n",
        "\n",
        "Test: 10%\n",
        "\n",
        "This ensures fair evaluation."
      ],
      "metadata": {
        "id": "KmQ6zuCb42d9"
      }
    },
    {
      "cell_type": "code",
      "source": [
        "#3\n",
        "# First split into 90/10\n",
        "split_dataset = dataset.train_test_split(test_size=0.1, seed=42)\n",
        "\n",
        "# Split 90% again into train and validation\n",
        "train_valid_split = split_dataset[\"train\"].train_test_split(test_size=0.1111, seed=42)\n",
        "# 0.1111 x 90% ~= 10%\n",
        "\n",
        "# Assign splits\n",
        "train_dataset = train_valid_split[\"train\"]\n",
        "eval_dataset = train_valid_split[\"test\"]\n",
        "test_dataset = split_dataset[\"test\"]\n",
        "\n",
        "# Check sizes\n",
        "print(\"Train size:\", len(train_dataset))\n",
        "print(\"Validation size:\", len(eval_dataset))\n",
        "print(\"Test size:\", len(test_dataset))\n"
      ],
      "metadata": {
        "colab": {
          "base_uri": "https://localhost:8080/"
        },
        "id": "MebuUfyalAlr",
        "outputId": "781e3751-62d6-4f54-b536-190dd081a87a"
      },
      "execution_count": 3,
      "outputs": [
        {
          "output_type": "stream",
          "name": "stdout",
          "text": [
            "Train size: 13125\n",
            "Validation size: 1641\n",
            "Test size: 1641\n"
          ]
        }
      ]
    },
    {
      "cell_type": "markdown",
      "source": [
        "📌 4. Model and Tokenizer\n",
        "We use the T5-small model, which is efficient for Colab.\n",
        "\n",
        "# Preprocessing\n",
        "We implemented a preprocessing function to:\n",
        "\n",
        "Tokenize questions and answers using the T5 tokenizer.\n",
        "\n",
        "Apply truncation and padding to a maximum sequence length of 128 tokens.\n",
        "\n",
        "Convert the text data into token IDs suitable for model input.\n",
        "\n",
        "This function was applied to the train, validation, and test splits."
      ],
      "metadata": {
        "id": "0bgpgY6Y4_8T"
      }
    },
    {
      "cell_type": "code",
      "source": [
        "#4\n",
        "model_name = \"t5-small\"  # lightweight for Colab\n",
        "tokenizer = AutoTokenizer.from_pretrained(model_name)\n",
        "model = AutoModelForSeq2SeqLM.from_pretrained(model_name)\n"
      ],
      "metadata": {
        "colab": {
          "base_uri": "https://localhost:8080/",
          "height": 333,
          "referenced_widgets": [
            "578f75ae5d0643c696a6f7f51e536f5d",
            "b101176052764041877cc9da28cc739f",
            "bf4274f9e1d94d6ca9110c41164c8588",
            "d0d1493ed13e49dca5cc6d436fa02519",
            "ab571d15871e4c5d85414c87ac5b30c0",
            "39dc0983eb6e4648bccc76df997f312e",
            "f08c9ec193004a959af1775e58c7da90",
            "04e4ec1f50704d439b08bdf1e1ebfc2e",
            "50595c8590394b8b98cbe57fa41600a1",
            "f1c72b2ffef6478da5287293a6bbad5b",
            "0dacc958907447f288008624322ec0ee",
            "b67198f985ac4d6ca6e30ba6f6745c7c",
            "a3633b59e84548cb9f7d2765f5560f94",
            "2623398689e94914bd4173fa7340aae3",
            "ab55895cf53c4eaf8d8dd2be283559ef",
            "dc4a9096a75c453ba6835df1ece88516",
            "58afa79bcce44a98a0c3ce21c9f68ce9",
            "3be9ab6784cd4c09b492d64b0e90db24",
            "98291ac7b6bd487097fdb0d84e1dc1d6",
            "282e356f5918446dacf5dd615666fc93",
            "eefe78303555437ba87394b963543dc0",
            "41a45bb1d9734bf2aaff544245468632",
            "c31168a1da7c4e0f839dfdf3d2e0445f",
            "4ffd3835206545fe8a49a5e11cc10769",
            "9a4e8a75e73346e0a83b951c10d2062b",
            "bd666ee42dca4dda9414188a5f79c074",
            "a33a360e4de64c8ca91df42423531a5e",
            "8c16a6c2af244c56993050c8a988891b",
            "3e603780eb504fb3a8a5b7a71c324584",
            "91de91709787420caecd72421c776a1f",
            "b3896c51a07f4299800c13384cb7c6be",
            "6b56ad1af4c24406a853c8d372a6b0d8",
            "2dd36f08e0364548adf29bc5181ef383",
            "3b54a4555b8b484b98fae2377724396b",
            "a2f7e442df0d4e7d9d723f9b5db83ca6",
            "852ee028235f4d59aff99393e0c197bc",
            "b9db238699f4424ba7b31b338eab1f94",
            "4acdf42174d345e69c2d642b2fd29670",
            "f40341795bf54879b60660627e2d9ae9",
            "0b74145c82bd4508b065eb63ccb3f5f1",
            "20fcc17f028a4094a1dac9e7b76129bb",
            "64a00ef454e3414da2c7ff65b81597d1",
            "84aa32ccc22049e6a24499582d4674a0",
            "d5057f4d507b4c7aa80a53ee87851f7d",
            "41766cfd654843b3823c0c3539ef203c",
            "836cc378e475400fbe0d55d58682b9f0",
            "4695a2b7c216401a8cc7ddc9c31e458b",
            "16429f1e062e4cb191cd6b800941e08a",
            "4efe9b3242d34de88801690f7f816d29",
            "206b5582369b408bb76ae6de158cc9ce",
            "f4011e230b3b4f17b1c8edc803f24751",
            "ea14fe756b154c69a8377cd8ffd05686",
            "117cedfa23004f42b506a01b4df89cee",
            "4b187a59c5984f559ce46c56f60c75eb",
            "9bae56db2bba4f34938bb5ca379840ac",
            "a870053e88174ec6aafa9266254f80b6",
            "ff8af48ba3784e7f92d5993a2f6c3bcc",
            "33aa0fbb4c754e80982293171684d991",
            "d83bbd158aea4040a93caa17e1df280d",
            "bb100b2c818045798c241a44aef0e209",
            "3247d4f9c2ff45cf9166727b34db6d40",
            "72183b907e7e40ea906e8dcd6b3519cc",
            "6c999f8cea264c8bb70eb929f964ad5b",
            "15fcac78fffe4eaf9e4fe4197ae7c181",
            "b86a63c223244ecf8cecfde61274e27d",
            "a50191c0853d4cdfb03d0556e87c3435"
          ]
        },
        "id": "i-s1WLxqlFCJ",
        "outputId": "f9fc111a-3dcf-4760-fc5c-491949ecab8e"
      },
      "execution_count": 4,
      "outputs": [
        {
          "output_type": "stream",
          "name": "stderr",
          "text": [
            "/usr/local/lib/python3.11/dist-packages/huggingface_hub/utils/_auth.py:94: UserWarning: \n",
            "The secret `HF_TOKEN` does not exist in your Colab secrets.\n",
            "To authenticate with the Hugging Face Hub, create a token in your settings tab (https://huggingface.co/settings/tokens), set it as secret in your Google Colab and restart your session.\n",
            "You will be able to reuse this secret in all of your notebooks.\n",
            "Please note that authentication is recommended but still optional to access public models or datasets.\n",
            "  warnings.warn(\n"
          ]
        },
        {
          "output_type": "display_data",
          "data": {
            "text/plain": [
              "tokenizer_config.json:   0%|          | 0.00/2.32k [00:00<?, ?B/s]"
            ],
            "application/vnd.jupyter.widget-view+json": {
              "version_major": 2,
              "version_minor": 0,
              "model_id": "578f75ae5d0643c696a6f7f51e536f5d"
            }
          },
          "metadata": {}
        },
        {
          "output_type": "display_data",
          "data": {
            "text/plain": [
              "spiece.model:   0%|          | 0.00/792k [00:00<?, ?B/s]"
            ],
            "application/vnd.jupyter.widget-view+json": {
              "version_major": 2,
              "version_minor": 0,
              "model_id": "b67198f985ac4d6ca6e30ba6f6745c7c"
            }
          },
          "metadata": {}
        },
        {
          "output_type": "display_data",
          "data": {
            "text/plain": [
              "tokenizer.json:   0%|          | 0.00/1.39M [00:00<?, ?B/s]"
            ],
            "application/vnd.jupyter.widget-view+json": {
              "version_major": 2,
              "version_minor": 0,
              "model_id": "c31168a1da7c4e0f839dfdf3d2e0445f"
            }
          },
          "metadata": {}
        },
        {
          "output_type": "display_data",
          "data": {
            "text/plain": [
              "config.json:   0%|          | 0.00/1.21k [00:00<?, ?B/s]"
            ],
            "application/vnd.jupyter.widget-view+json": {
              "version_major": 2,
              "version_minor": 0,
              "model_id": "3b54a4555b8b484b98fae2377724396b"
            }
          },
          "metadata": {}
        },
        {
          "output_type": "display_data",
          "data": {
            "text/plain": [
              "model.safetensors:   0%|          | 0.00/242M [00:00<?, ?B/s]"
            ],
            "application/vnd.jupyter.widget-view+json": {
              "version_major": 2,
              "version_minor": 0,
              "model_id": "41766cfd654843b3823c0c3539ef203c"
            }
          },
          "metadata": {}
        },
        {
          "output_type": "display_data",
          "data": {
            "text/plain": [
              "generation_config.json:   0%|          | 0.00/147 [00:00<?, ?B/s]"
            ],
            "application/vnd.jupyter.widget-view+json": {
              "version_major": 2,
              "version_minor": 0,
              "model_id": "a870053e88174ec6aafa9266254f80b6"
            }
          },
          "metadata": {}
        }
      ]
    },
    {
      "cell_type": "markdown",
      "source": [
        "📌 5. Preprocessing\n",
        "Define a function to tokenize and pad the inputs and labels:"
      ],
      "metadata": {
        "id": "seJrUnqP5FEx"
      }
    },
    {
      "cell_type": "code",
      "source": [
        "#5\n",
        "def preprocess_function(examples):\n",
        "    inputs = examples[\"Question\"]\n",
        "    targets = examples[\"Answer\"]\n",
        "    model_inputs = tokenizer(\n",
        "        inputs,\n",
        "        max_length=128,\n",
        "        truncation=True,\n",
        "        padding=\"max_length\",\n",
        "    )\n",
        "    with tokenizer.as_target_tokenizer():\n",
        "        labels = tokenizer(\n",
        "            targets,\n",
        "            max_length=128,\n",
        "            truncation=True,\n",
        "            padding=\"max_length\",\n",
        "        )\n",
        "    model_inputs[\"labels\"] = labels[\"input_ids\"]\n",
        "    return model_inputs\n"
      ],
      "metadata": {
        "id": "-n34fREklMXJ"
      },
      "execution_count": 5,
      "outputs": []
    },
    {
      "cell_type": "markdown",
      "source": [
        "*Apply preprocessing*\n",
        "\n",
        "# Model Selection\n",
        "**The model chosen for fine-tuning is t5-small, a lightweight variant of T5 suitable for training within Google Colab resource constraints.\n",
        "This model has a balanced trade-off between computational efficiency and performance.**"
      ],
      "metadata": {
        "id": "oJV_rb1N5Jlg"
      }
    },
    {
      "cell_type": "code",
      "source": [
        "tokenized_train = train_dataset.map(preprocess_function, batched=True)\n",
        "tokenized_eval = eval_dataset.map(preprocess_function, batched=True)\n",
        "tokenized_test = test_dataset.map(preprocess_function, batched=True)\n"
      ],
      "metadata": {
        "colab": {
          "base_uri": "https://localhost:8080/",
          "height": 549,
          "referenced_widgets": [
            "c3d85181cc5b4c5485651d230fc5d61d",
            "fd0d2d2c96a14cbf83fa1ede21bb49f4",
            "e9c53040ceda4a1abec80dd2679b23f0",
            "e42fa6627a3549d19786127a2159628f",
            "0eb5279f8b674be199313c4227b4ed99",
            "956412a1708340b5817905cfc5f60f74",
            "8e9337f79f664830a3ef7c4bf333f23e",
            "2b6fc0ff225f42b58e3de8318c5e1e11",
            "f530db2f572d4835891e4117ffbc1a5b",
            "8387043ae71a4960ae89e8c4b3070da0",
            "f218abcf413e4767b806c4e5bc92197e",
            "277d1fddd57642ce87a434aa2861b994",
            "d475df453875434fb9faaccd5712e81f",
            "da029d68c392462cae96da0b20aa0180",
            "6cd07329b5304532b3ab0639ccb85d7c",
            "c7450fff10ed4be0ac4678cfc960988e",
            "81fd722f5c4c46df9fa8e97bfeb99fd7",
            "c77843855d5647e98930829bb24c34e9",
            "c72d088ed2b349678a3f55205fb26191",
            "7ec26985bfdf47179c0e0a6499f6541d",
            "09b86b05f14b4ac1bea9965e096caa94",
            "b373bec8ebec490b9da3525f183dd58d",
            "b5be36d61e5f4775a2a0841a74e2adc0",
            "d3e3fc2cc12b4b3d8e1a2d1c1f44f42e",
            "99eb5cb8827541ccaba88463ae72aa07",
            "0b4b4d031bcc448492600102e58b927c",
            "055c6b8b59f749e9b2ab4fcb9bf8333d",
            "6d4a3292384d4c51843345568a0e5faa",
            "c9edc1a98c7b4c078ffff2db76fee49b",
            "113c230ba4ae4cb08e51da1182d03eb1",
            "b7a2982df3e24a23b6e6687ab90b386b",
            "791741f8a33647cab91771612f2a6825",
            "bda00a118ec54ffebbb69bbd87c815c4"
          ]
        },
        "id": "v9hiAQDjlQzd",
        "outputId": "af38c731-c309-4c5c-cef4-780b7caaed83"
      },
      "execution_count": 6,
      "outputs": [
        {
          "output_type": "display_data",
          "data": {
            "text/plain": [
              "Map:   0%|          | 0/13125 [00:00<?, ? examples/s]"
            ],
            "application/vnd.jupyter.widget-view+json": {
              "version_major": 2,
              "version_minor": 0,
              "model_id": "c3d85181cc5b4c5485651d230fc5d61d"
            }
          },
          "metadata": {}
        },
        {
          "output_type": "stream",
          "name": "stderr",
          "text": [
            "/usr/local/lib/python3.11/dist-packages/transformers/tokenization_utils_base.py:3951: UserWarning: `as_target_tokenizer` is deprecated and will be removed in v5 of Transformers. You can tokenize your labels by using the argument `text_target` of the regular `__call__` method (either in the same call as your input texts if you use the same keyword arguments, or in a separate call.\n",
            "  warnings.warn(\n",
            "/usr/local/lib/python3.11/dist-packages/transformers/tokenization_utils_base.py:3951: UserWarning: `as_target_tokenizer` is deprecated and will be removed in v5 of Transformers. You can tokenize your labels by using the argument `text_target` of the regular `__call__` method (either in the same call as your input texts if you use the same keyword arguments, or in a separate call.\n",
            "  warnings.warn(\n",
            "/usr/local/lib/python3.11/dist-packages/transformers/tokenization_utils_base.py:3951: UserWarning: `as_target_tokenizer` is deprecated and will be removed in v5 of Transformers. You can tokenize your labels by using the argument `text_target` of the regular `__call__` method (either in the same call as your input texts if you use the same keyword arguments, or in a separate call.\n",
            "  warnings.warn(\n",
            "/usr/local/lib/python3.11/dist-packages/transformers/tokenization_utils_base.py:3951: UserWarning: `as_target_tokenizer` is deprecated and will be removed in v5 of Transformers. You can tokenize your labels by using the argument `text_target` of the regular `__call__` method (either in the same call as your input texts if you use the same keyword arguments, or in a separate call.\n",
            "  warnings.warn(\n",
            "/usr/local/lib/python3.11/dist-packages/transformers/tokenization_utils_base.py:3951: UserWarning: `as_target_tokenizer` is deprecated and will be removed in v5 of Transformers. You can tokenize your labels by using the argument `text_target` of the regular `__call__` method (either in the same call as your input texts if you use the same keyword arguments, or in a separate call.\n",
            "  warnings.warn(\n",
            "/usr/local/lib/python3.11/dist-packages/transformers/tokenization_utils_base.py:3951: UserWarning: `as_target_tokenizer` is deprecated and will be removed in v5 of Transformers. You can tokenize your labels by using the argument `text_target` of the regular `__call__` method (either in the same call as your input texts if you use the same keyword arguments, or in a separate call.\n",
            "  warnings.warn(\n",
            "/usr/local/lib/python3.11/dist-packages/transformers/tokenization_utils_base.py:3951: UserWarning: `as_target_tokenizer` is deprecated and will be removed in v5 of Transformers. You can tokenize your labels by using the argument `text_target` of the regular `__call__` method (either in the same call as your input texts if you use the same keyword arguments, or in a separate call.\n",
            "  warnings.warn(\n",
            "/usr/local/lib/python3.11/dist-packages/transformers/tokenization_utils_base.py:3951: UserWarning: `as_target_tokenizer` is deprecated and will be removed in v5 of Transformers. You can tokenize your labels by using the argument `text_target` of the regular `__call__` method (either in the same call as your input texts if you use the same keyword arguments, or in a separate call.\n",
            "  warnings.warn(\n",
            "/usr/local/lib/python3.11/dist-packages/transformers/tokenization_utils_base.py:3951: UserWarning: `as_target_tokenizer` is deprecated and will be removed in v5 of Transformers. You can tokenize your labels by using the argument `text_target` of the regular `__call__` method (either in the same call as your input texts if you use the same keyword arguments, or in a separate call.\n",
            "  warnings.warn(\n",
            "/usr/local/lib/python3.11/dist-packages/transformers/tokenization_utils_base.py:3951: UserWarning: `as_target_tokenizer` is deprecated and will be removed in v5 of Transformers. You can tokenize your labels by using the argument `text_target` of the regular `__call__` method (either in the same call as your input texts if you use the same keyword arguments, or in a separate call.\n",
            "  warnings.warn(\n"
          ]
        },
        {
          "output_type": "display_data",
          "data": {
            "text/plain": [
              "Map:   0%|          | 0/1641 [00:00<?, ? examples/s]"
            ],
            "application/vnd.jupyter.widget-view+json": {
              "version_major": 2,
              "version_minor": 0,
              "model_id": "277d1fddd57642ce87a434aa2861b994"
            }
          },
          "metadata": {}
        },
        {
          "output_type": "display_data",
          "data": {
            "text/plain": [
              "Map:   0%|          | 0/1641 [00:00<?, ? examples/s]"
            ],
            "application/vnd.jupyter.widget-view+json": {
              "version_major": 2,
              "version_minor": 0,
              "model_id": "b5be36d61e5f4775a2a0841a74e2adc0"
            }
          },
          "metadata": {}
        },
        {
          "output_type": "stream",
          "name": "stderr",
          "text": [
            "/usr/local/lib/python3.11/dist-packages/transformers/tokenization_utils_base.py:3951: UserWarning: `as_target_tokenizer` is deprecated and will be removed in v5 of Transformers. You can tokenize your labels by using the argument `text_target` of the regular `__call__` method (either in the same call as your input texts if you use the same keyword arguments, or in a separate call.\n",
            "  warnings.warn(\n",
            "/usr/local/lib/python3.11/dist-packages/transformers/tokenization_utils_base.py:3951: UserWarning: `as_target_tokenizer` is deprecated and will be removed in v5 of Transformers. You can tokenize your labels by using the argument `text_target` of the regular `__call__` method (either in the same call as your input texts if you use the same keyword arguments, or in a separate call.\n",
            "  warnings.warn(\n"
          ]
        }
      ]
    },
    {
      "cell_type": "markdown",
      "source": [
        "📌 6. Training Configuration\n",
        "Set training arguments. We also disable WandB reporting:\n",
        "\n",
        "# Hyperparameter\n",
        "After training, the model was evaluated on both the validation and test sets.\n",
        "Metrics such as loss were reported.\n",
        "Additionally, qualitative evaluation was performed by generating predictions for sample questions and reviewing the outputs.\n",
        "\n",
        "#Training Configuration\n",
        "The model was fine-tuned using the Trainer API with the following hyperparameters:\n",
        "\n",
        "Learning rate: 2e-5\n",
        "\n",
        "Batch size: 4\n",
        "\n",
        "Number of epochs: 3\n",
        "\n",
        "Weight decay: 0.01\n",
        "\n",
        "Evaluation Strategy: Per Epoch\n",
        "\n",
        "Reporting: Disabled (report_to=None) to avoid integration with external tracking tools like Weights & Biases.\n",
        "\n",
        "These settings were chosen to prevent overfitting and ensure stable convergence.\n",
        "\n"
      ],
      "metadata": {
        "id": "Lz3krVKp5Qp-"
      }
    },
    {
      "cell_type": "code",
      "source": [
        "#6\n",
        "training_args = TrainingArguments(\n",
        "    output_dir=\"./results\",\n",
        "    eval_strategy=\"epoch\",\n",
        "    learning_rate=2e-5,\n",
        "    per_device_train_batch_size=4,\n",
        "    per_device_eval_batch_size=4,\n",
        "    num_train_epochs=10,\n",
        "    weight_decay=0.01,\n",
        "    report_to=None,   # Disable W&B\n",
        ")\n"
      ],
      "metadata": {
        "colab": {
          "base_uri": "https://localhost:8080/"
        },
        "id": "KS_juoielYZ4",
        "outputId": "e48fdaef-7c58-42a8-8142-a888ba7f21b9"
      },
      "execution_count": 8,
      "outputs": [
        {
          "output_type": "stream",
          "name": "stderr",
          "text": [
            "Using the `WANDB_DISABLED` environment variable is deprecated and will be removed in v5. Use the --report_to flag to control the integrations used for logging result (for instance --report_to none).\n"
          ]
        }
      ]
    },
    {
      "cell_type": "markdown",
      "source": [
        "📌 7. Training\n",
        "Train the model using the Trainer API:"
      ],
      "metadata": {
        "id": "KD-qJzF_5VRe"
      }
    },
    {
      "cell_type": "code",
      "source": [
        "trainer = Trainer(\n",
        "    model=model,\n",
        "    args=training_args,\n",
        "    train_dataset=tokenized_train,\n",
        "    eval_dataset=tokenized_eval,\n",
        "    tokenizer=tokenizer,\n",
        ")\n"
      ],
      "metadata": {
        "colab": {
          "base_uri": "https://localhost:8080/"
        },
        "id": "Th31pkLaljRg",
        "outputId": "c743b43a-a7b5-461d-c3be-8daad64e2f1b"
      },
      "execution_count": 9,
      "outputs": [
        {
          "output_type": "stream",
          "name": "stderr",
          "text": [
            "/tmp/ipython-input-9-1757453106.py:1: FutureWarning: `tokenizer` is deprecated and will be removed in version 5.0.0 for `Trainer.__init__`. Use `processing_class` instead.\n",
            "  trainer = Trainer(\n"
          ]
        }
      ]
    },
    {
      "cell_type": "code",
      "source": [
        "trainer.train()\n"
      ],
      "metadata": {
        "colab": {
          "base_uri": "https://localhost:8080/",
          "height": 443
        },
        "id": "Rblb5NatlnUx",
        "outputId": "fd91ff4d-082c-41c5-e782-3ce3e493063d"
      },
      "execution_count": 17,
      "outputs": [
        {
          "output_type": "display_data",
          "data": {
            "text/plain": [
              "<IPython.core.display.HTML object>"
            ],
            "text/html": [
              "\n",
              "    <div>\n",
              "      \n",
              "      <progress value='32820' max='32820' style='width:300px; height:20px; vertical-align: middle;'></progress>\n",
              "      [32820/32820 1:06:28, Epoch 10/10]\n",
              "    </div>\n",
              "    <table border=\"1\" class=\"dataframe\">\n",
              "  <thead>\n",
              " <tr style=\"text-align: left;\">\n",
              "      <th>Epoch</th>\n",
              "      <th>Training Loss</th>\n",
              "      <th>Validation Loss</th>\n",
              "    </tr>\n",
              "  </thead>\n",
              "  <tbody>\n",
              "    <tr>\n",
              "      <td>1</td>\n",
              "      <td>2.027900</td>\n",
              "      <td>1.860166</td>\n",
              "    </tr>\n",
              "    <tr>\n",
              "      <td>2</td>\n",
              "      <td>1.992800</td>\n",
              "      <td>1.838579</td>\n",
              "    </tr>\n",
              "    <tr>\n",
              "      <td>3</td>\n",
              "      <td>1.975600</td>\n",
              "      <td>1.819331</td>\n",
              "    </tr>\n",
              "    <tr>\n",
              "      <td>4</td>\n",
              "      <td>1.975400</td>\n",
              "      <td>1.806475</td>\n",
              "    </tr>\n",
              "    <tr>\n",
              "      <td>5</td>\n",
              "      <td>1.984300</td>\n",
              "      <td>1.795763</td>\n",
              "    </tr>\n",
              "    <tr>\n",
              "      <td>6</td>\n",
              "      <td>1.986500</td>\n",
              "      <td>1.787044</td>\n",
              "    </tr>\n",
              "    <tr>\n",
              "      <td>7</td>\n",
              "      <td>1.963900</td>\n",
              "      <td>1.779966</td>\n",
              "    </tr>\n",
              "    <tr>\n",
              "      <td>8</td>\n",
              "      <td>1.951900</td>\n",
              "      <td>1.775838</td>\n",
              "    </tr>\n",
              "    <tr>\n",
              "      <td>9</td>\n",
              "      <td>1.887600</td>\n",
              "      <td>1.773634</td>\n",
              "    </tr>\n",
              "    <tr>\n",
              "      <td>10</td>\n",
              "      <td>1.912200</td>\n",
              "      <td>1.772480</td>\n",
              "    </tr>\n",
              "  </tbody>\n",
              "</table><p>"
            ]
          },
          "metadata": {}
        },
        {
          "output_type": "display_data",
          "data": {
            "text/plain": [
              "<IPython.core.display.HTML object>"
            ],
            "text/html": [
              "\n",
              "    <div>\n",
              "      \n",
              "      <progress value='1233' max='411' style='width:300px; height:20px; vertical-align: middle;'></progress>\n",
              "      [411/411 41:21]\n",
              "    </div>\n",
              "    "
            ]
          },
          "metadata": {}
        },
        {
          "output_type": "execute_result",
          "data": {
            "text/plain": [
              "TrainOutput(global_step=32820, training_loss=1.9690358907547323, metrics={'train_runtime': 3988.7538, 'train_samples_per_second': 32.905, 'train_steps_per_second': 8.228, 'total_flos': 4440902860800000.0, 'train_loss': 1.9690358907547323, 'epoch': 10.0})"
            ]
          },
          "metadata": {},
          "execution_count": 17
        }
      ]
    },
    {
      "cell_type": "markdown",
      "source": [
        "Save the model"
      ],
      "metadata": {
        "id": "XTTR-G0W5kB5"
      }
    },
    {
      "cell_type": "code",
      "source": [
        "trainer.save_model(\"./my_model_medicalqa\")\n"
      ],
      "metadata": {
        "id": "NM2lHtLG2zPW"
      },
      "execution_count": 19,
      "outputs": []
    },
    {
      "cell_type": "markdown",
      "source": [
        "📌  Evaluation hyperparameter-1\n",
        "Evaluate on validation and test datasets:\n",
        "\n",
        "# Evaluation\n",
        "After training, the model was evaluated on both the validation and test sets.\n",
        "Metrics such as loss were reported.\n",
        "Additionally, qualitative evaluation was performed by generating predictions for sample questions and reviewing the outputs."
      ],
      "metadata": {
        "id": "qsn_4p-Xr0KE"
      }
    },
    {
      "cell_type": "code",
      "source": [
        "validation_metrics = trainer.evaluate()\n",
        "print(\"Validation metrics:\", validation_metrics)\n",
        "\n",
        "test_metrics = trainer.evaluate(tokenized_test)\n",
        "print(\"Test metrics:\", test_metrics)\n"
      ],
      "metadata": {
        "colab": {
          "base_uri": "https://localhost:8080/",
          "height": 92
        },
        "id": "kDvMaGo425Ip",
        "outputId": "8f5f4c6d-0166-4506-d8d1-b9a631127f1e"
      },
      "execution_count": 20,
      "outputs": [
        {
          "output_type": "display_data",
          "data": {
            "text/plain": [
              "<IPython.core.display.HTML object>"
            ],
            "text/html": [
              "\n",
              "    <div>\n",
              "      \n",
              "      <progress value='822' max='411' style='width:300px; height:20px; vertical-align: middle;'></progress>\n",
              "      [411/411 00:23]\n",
              "    </div>\n",
              "    "
            ]
          },
          "metadata": {}
        },
        {
          "output_type": "stream",
          "name": "stdout",
          "text": [
            "Validation metrics: {'eval_loss': 1.772479772567749, 'eval_runtime': 11.6895, 'eval_samples_per_second': 140.382, 'eval_steps_per_second': 35.16, 'epoch': 10.0}\n",
            "Test metrics: {'eval_loss': 1.8098822832107544, 'eval_runtime': 12.0034, 'eval_samples_per_second': 136.711, 'eval_steps_per_second': 34.24, 'epoch': 10.0}\n"
          ]
        }
      ]
    },
    {
      "cell_type": "code",
      "source": [
        "#7\n",
        "from transformers import TrainingArguments, Trainer\n",
        "\n",
        "training_args_2 = TrainingArguments(\n",
        "    output_dir=\"./results_run2\",\n",
        "    eval_strategy=\"epoch\",\n",
        "    learning_rate=3e-5,             # Increased learning rate\n",
        "    per_device_train_batch_size=4,\n",
        "    per_device_eval_batch_size=4,\n",
        "    num_train_epochs=6,             # Fewer epochs\n",
        "    weight_decay=0.05,              # Higher regularization\n",
        "    report_to=None\n",
        ")\n",
        "\n",
        "trainer_2 = Trainer(\n",
        "    model=model,\n",
        "    args=training_args_2,\n",
        "    train_dataset=tokenized_train,\n",
        "    eval_dataset=tokenized_eval,\n",
        "    tokenizer=tokenizer,\n",
        ")\n",
        "\n",
        "trainer_2.train()\n",
        "trainer_2.save_model(\"./results_run2\")\n",
        "\n",
        "metrics_2 = trainer_2.evaluate()\n",
        "print(\"Metrics for Run 2:\", metrics_2)\n"
      ],
      "metadata": {
        "colab": {
          "base_uri": "https://localhost:8080/",
          "height": 373
        },
        "id": "gfIQPwHHPUCk",
        "outputId": "5ed49a65-dbc8-4d55-dac2-95a3aa93d09a"
      },
      "execution_count": 22,
      "outputs": [
        {
          "output_type": "stream",
          "name": "stderr",
          "text": [
            "Using the `WANDB_DISABLED` environment variable is deprecated and will be removed in v5. Use the --report_to flag to control the integrations used for logging result (for instance --report_to none).\n",
            "/tmp/ipython-input-22-1017343365.py:14: FutureWarning: `tokenizer` is deprecated and will be removed in version 5.0.0 for `Trainer.__init__`. Use `processing_class` instead.\n",
            "  trainer_2 = Trainer(\n"
          ]
        },
        {
          "output_type": "display_data",
          "data": {
            "text/plain": [
              "<IPython.core.display.HTML object>"
            ],
            "text/html": [
              "\n",
              "    <div>\n",
              "      \n",
              "      <progress value='19692' max='19692' style='width:300px; height:20px; vertical-align: middle;'></progress>\n",
              "      [19692/19692 43:19, Epoch 6/6]\n",
              "    </div>\n",
              "    <table border=\"1\" class=\"dataframe\">\n",
              "  <thead>\n",
              " <tr style=\"text-align: left;\">\n",
              "      <th>Epoch</th>\n",
              "      <th>Training Loss</th>\n",
              "      <th>Validation Loss</th>\n",
              "    </tr>\n",
              "  </thead>\n",
              "  <tbody>\n",
              "    <tr>\n",
              "      <td>1</td>\n",
              "      <td>2.009400</td>\n",
              "      <td>1.849685</td>\n",
              "    </tr>\n",
              "    <tr>\n",
              "      <td>2</td>\n",
              "      <td>1.968100</td>\n",
              "      <td>1.822829</td>\n",
              "    </tr>\n",
              "    <tr>\n",
              "      <td>3</td>\n",
              "      <td>1.946400</td>\n",
              "      <td>1.803926</td>\n",
              "    </tr>\n",
              "    <tr>\n",
              "      <td>4</td>\n",
              "      <td>1.947500</td>\n",
              "      <td>1.792108</td>\n",
              "    </tr>\n",
              "    <tr>\n",
              "      <td>5</td>\n",
              "      <td>1.957200</td>\n",
              "      <td>1.784499</td>\n",
              "    </tr>\n",
              "    <tr>\n",
              "      <td>6</td>\n",
              "      <td>1.971400</td>\n",
              "      <td>1.781914</td>\n",
              "    </tr>\n",
              "  </tbody>\n",
              "</table><p>"
            ]
          },
          "metadata": {}
        },
        {
          "output_type": "display_data",
          "data": {
            "text/plain": [
              "<IPython.core.display.HTML object>"
            ],
            "text/html": [
              "\n",
              "    <div>\n",
              "      \n",
              "      <progress value='411' max='411' style='width:300px; height:20px; vertical-align: middle;'></progress>\n",
              "      [411/411 00:10]\n",
              "    </div>\n",
              "    "
            ]
          },
          "metadata": {}
        },
        {
          "output_type": "stream",
          "name": "stdout",
          "text": [
            "Metrics for Run 2: {'eval_loss': 1.7819135189056396, 'eval_runtime': 10.937, 'eval_samples_per_second': 150.041, 'eval_steps_per_second': 37.579, 'epoch': 6.0}\n"
          ]
        }
      ]
    },
    {
      "cell_type": "markdown",
      "source": [
        "📌  Evaluation hyperparameter-2\n",
        "\n",
        "Evaluate on validation and test datasets:\n",
        "\n",
        "# Evaluation\n",
        "After training, the model was evaluated on both the validation and test sets.\n",
        "Metrics such as loss were reported.\n",
        "Additionally, qualitative evaluation was performed by generating predictions for sample questions and reviewing the outputs."
      ],
      "metadata": {
        "id": "Qu07S31grw_d"
      }
    },
    {
      "cell_type": "code",
      "source": [
        "validation_metrics = trainer_2.evaluate()\n",
        "print(\"Validation metrics:\", validation_metrics)\n",
        "\n",
        "test_metrics = trainer.evaluate(tokenized_test)\n",
        "print(\"Test metrics:\", test_metrics)"
      ],
      "metadata": {
        "colab": {
          "base_uri": "https://localhost:8080/",
          "height": 112
        },
        "id": "PHPi1fIzqZtJ",
        "outputId": "4d0abc4d-d2c4-4455-aee4-be0842cb1887"
      },
      "execution_count": 30,
      "outputs": [
        {
          "output_type": "display_data",
          "data": {
            "text/plain": [
              "<IPython.core.display.HTML object>"
            ],
            "text/html": [
              "\n",
              "    <div>\n",
              "      \n",
              "      <progress value='822' max='411' style='width:300px; height:20px; vertical-align: middle;'></progress>\n",
              "      [411/411 1:15:22]\n",
              "    </div>\n",
              "    "
            ]
          },
          "metadata": {}
        },
        {
          "output_type": "stream",
          "name": "stdout",
          "text": [
            "Validation metrics: {'eval_loss': 1.7151776552200317, 'eval_runtime': 10.9382, 'eval_samples_per_second': 150.025, 'eval_steps_per_second': 37.575, 'epoch': 6.0}\n"
          ]
        },
        {
          "output_type": "display_data",
          "data": {
            "text/plain": [
              "<IPython.core.display.HTML object>"
            ],
            "text/html": [
              "\n",
              "    <div>\n",
              "      \n",
              "      <progress value='1327' max='411' style='width:300px; height:20px; vertical-align: middle;'></progress>\n",
              "      [411/411 2:04:47]\n",
              "    </div>\n",
              "    "
            ]
          },
          "metadata": {}
        },
        {
          "output_type": "stream",
          "name": "stdout",
          "text": [
            "Test metrics: {'eval_loss': 1.8098822832107544, 'eval_runtime': 11.4983, 'eval_samples_per_second': 142.717, 'eval_steps_per_second': 35.745, 'epoch': 10.0}\n"
          ]
        }
      ]
    },
    {
      "cell_type": "code",
      "source": [
        "#8\n",
        "from transformers import TrainingArguments, Trainer\n",
        "\n",
        "training_args_3 = TrainingArguments(\n",
        "    output_dir=\"./results_run3\",\n",
        "    eval_strategy=\"epoch\",\n",
        "    learning_rate=5e-5,             # Even higher learning rate\n",
        "    per_device_train_batch_size=4,\n",
        "    per_device_eval_batch_size=4,\n",
        "    num_train_epochs=4,             # Fewer epochs for fast convergence\n",
        "    weight_decay=0.1,               # Strong regularization\n",
        "    report_to=None\n",
        ")\n",
        "\n",
        "trainer_3 = Trainer(\n",
        "    model=model,\n",
        "    args=training_args_3,\n",
        "    train_dataset=tokenized_train,\n",
        "    eval_dataset=tokenized_eval,\n",
        "    tokenizer=tokenizer,\n",
        ")\n",
        "\n",
        "trainer_3.train()\n",
        "trainer_3.save_model(\"./results_run3\")\n",
        "\n",
        "metrics_3 = trainer_3.evaluate()\n",
        "print(\"Metrics for Run 3:\", metrics_3)\n"
      ],
      "metadata": {
        "colab": {
          "base_uri": "https://localhost:8080/",
          "height": 310
        },
        "id": "e-vShUrPZXbJ",
        "outputId": "3c0872a2-5afe-4043-df75-53977ef06aca"
      },
      "execution_count": 23,
      "outputs": [
        {
          "output_type": "stream",
          "name": "stderr",
          "text": [
            "Using the `WANDB_DISABLED` environment variable is deprecated and will be removed in v5. Use the --report_to flag to control the integrations used for logging result (for instance --report_to none).\n",
            "/tmp/ipython-input-23-16144445.py:14: FutureWarning: `tokenizer` is deprecated and will be removed in version 5.0.0 for `Trainer.__init__`. Use `processing_class` instead.\n",
            "  trainer_3 = Trainer(\n"
          ]
        },
        {
          "output_type": "display_data",
          "data": {
            "text/plain": [
              "<IPython.core.display.HTML object>"
            ],
            "text/html": [
              "\n",
              "    <div>\n",
              "      \n",
              "      <progress value='13128' max='13128' style='width:300px; height:20px; vertical-align: middle;'></progress>\n",
              "      [13128/13128 26:59, Epoch 4/4]\n",
              "    </div>\n",
              "    <table border=\"1\" class=\"dataframe\">\n",
              "  <thead>\n",
              " <tr style=\"text-align: left;\">\n",
              "      <th>Epoch</th>\n",
              "      <th>Training Loss</th>\n",
              "      <th>Validation Loss</th>\n",
              "    </tr>\n",
              "  </thead>\n",
              "  <tbody>\n",
              "    <tr>\n",
              "      <td>1</td>\n",
              "      <td>1.871800</td>\n",
              "      <td>1.753294</td>\n",
              "    </tr>\n",
              "    <tr>\n",
              "      <td>2</td>\n",
              "      <td>1.833600</td>\n",
              "      <td>1.732794</td>\n",
              "    </tr>\n",
              "    <tr>\n",
              "      <td>3</td>\n",
              "      <td>1.823100</td>\n",
              "      <td>1.719350</td>\n",
              "    </tr>\n",
              "    <tr>\n",
              "      <td>4</td>\n",
              "      <td>1.834300</td>\n",
              "      <td>1.715178</td>\n",
              "    </tr>\n",
              "  </tbody>\n",
              "</table><p>"
            ]
          },
          "metadata": {}
        },
        {
          "output_type": "display_data",
          "data": {
            "text/plain": [
              "<IPython.core.display.HTML object>"
            ],
            "text/html": [
              "\n",
              "    <div>\n",
              "      \n",
              "      <progress value='411' max='411' style='width:300px; height:20px; vertical-align: middle;'></progress>\n",
              "      [411/411 00:11]\n",
              "    </div>\n",
              "    "
            ]
          },
          "metadata": {}
        },
        {
          "output_type": "stream",
          "name": "stdout",
          "text": [
            "Metrics for Run 3: {'eval_loss': 1.7151776552200317, 'eval_runtime': 11.4818, 'eval_samples_per_second': 142.922, 'eval_steps_per_second': 35.796, 'epoch': 4.0}\n"
          ]
        }
      ]
    },
    {
      "cell_type": "markdown",
      "source": [
        "📌  Evaluation hyperparameter-3\n",
        "\n",
        "Evaluate on validation and test datasets:\n",
        "\n",
        "# Evaluation\n",
        "After training, the model was evaluated on both the validation and test sets.\n",
        "Metrics such as loss were reported.\n",
        "Additionally, qualitative evaluation was performed by generating predictions for sample questions and reviewing the outputs."
      ],
      "metadata": {
        "id": "uGKwed8G5pQ9"
      }
    },
    {
      "cell_type": "code",
      "source": [
        "validation_metrics = trainer_3.evaluate()\n",
        "print(\"Validation metrics:\", validation_metrics)\n",
        "\n",
        "test_metrics = trainer.evaluate(tokenized_test)\n",
        "print(\"Test metrics:\", test_metrics)"
      ],
      "metadata": {
        "colab": {
          "base_uri": "https://localhost:8080/",
          "height": 112
        },
        "id": "ealeSoSCqtE1",
        "outputId": "1bfbdbf3-f9ad-400d-eeea-9f45182feda6"
      },
      "execution_count": 31,
      "outputs": [
        {
          "output_type": "display_data",
          "data": {
            "text/plain": [
              "<IPython.core.display.HTML object>"
            ],
            "text/html": [
              "\n",
              "    <div>\n",
              "      \n",
              "      <progress value='822' max='411' style='width:300px; height:20px; vertical-align: middle;'></progress>\n",
              "      [411/411 48:42]\n",
              "    </div>\n",
              "    "
            ]
          },
          "metadata": {}
        },
        {
          "output_type": "stream",
          "name": "stdout",
          "text": [
            "Validation metrics: {'eval_loss': 1.7151776552200317, 'eval_runtime': 10.7527, 'eval_samples_per_second': 152.612, 'eval_steps_per_second': 38.223, 'epoch': 4.0}\n"
          ]
        },
        {
          "output_type": "display_data",
          "data": {
            "text/plain": [
              "<IPython.core.display.HTML object>"
            ],
            "text/html": [
              "\n",
              "    <div>\n",
              "      \n",
              "      <progress value='1738' max='411' style='width:300px; height:20px; vertical-align: middle;'></progress>\n",
              "      [411/411 2:05:48]\n",
              "    </div>\n",
              "    "
            ]
          },
          "metadata": {}
        },
        {
          "output_type": "stream",
          "name": "stdout",
          "text": [
            "Test metrics: {'eval_loss': 1.8098822832107544, 'eval_runtime': 11.0392, 'eval_samples_per_second': 148.653, 'eval_steps_per_second': 37.231, 'epoch': 10.0}\n"
          ]
        }
      ]
    },
    {
      "cell_type": "markdown",
      "source": [
        "# Comparison of three hyerparameters![Screenshot 2025-07-07 160921.png](data:image/png;base64,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)\n",
        "\n",
        "Here is a comparison table showing the results of my three different hyperparameter configurations, including learning rate, number of epochs, batch size, and final losses.."
      ],
      "metadata": {
        "id": "GuVeK9EBgSIC"
      }
    },
    {
      "cell_type": "markdown",
      "source": [
        "📌 9. Inference: Command-Line Loop\n",
        "Generate answers interactively:\n",
        "\n",
        "7. Inference and User Interaction\n",
        "Two modes of interactive question answering were implemented:\n",
        "\n",
        "a) Command-Line Interface\n",
        "The user can enter questions iteratively in a loop and receive generated answers until choosing to exit.\n",
        "\n",
        "b) Gradio Web Interface\n",
        "A Gradio application allows users to enter questions via a web interface and receive answers in real time.\n",
        "The interface was launched with share=True to provide public access.\n",
        "\n"
      ],
      "metadata": {
        "id": "pwqEZU025wgO"
      }
    },
    {
      "cell_type": "code",
      "source": [
        "for i in range(5):\n",
        "    sample = tokenized_test[i]\n",
        "    input_ids = torch.tensor(sample[\"input_ids\"]).unsqueeze(0).to(model.device)\n",
        "    generated_ids = model.generate(\n",
        "        input_ids,\n",
        "        max_length=128,\n",
        "        num_beams=4,\n",
        "        early_stopping=True\n",
        "    )\n",
        "    question = tokenizer.decode(sample[\"input_ids\"], skip_special_tokens=True)\n",
        "    answer = tokenizer.decode(generated_ids[0], skip_special_tokens=True)\n",
        "    print(f\"Q: {question}\\nA: {answer}\\n{'-'*50}\")\n"
      ],
      "metadata": {
        "colab": {
          "base_uri": "https://localhost:8080/"
        },
        "id": "v-Xrx2Qy3Bij",
        "outputId": "111b49f7-8734-4404-b958-eb9b5c4af61a"
      },
      "execution_count": 32,
      "outputs": [
        {
          "output_type": "stream",
          "name": "stdout",
          "text": [
            "Q: Is D-bifunctional protein deficiency inherited?\n",
            "A: This condition is inherited in an autosomal recessive pattern, which means both copies of the gene in each cell have mutations. The parents of an individual with an autosomal recessive condition each carry one copy of the mutated gene, but they typically do not show signs and symptoms of the condition.\n",
            "--------------------------------------------------\n",
            "Q: What is (are) Tourette syndrome?\n",
            "A: Tourette syndrome is a condition that affects the nervous system. It is caused by mutations in the X chromosome and is inherited in an autosomal recessive pattern, which means both copies of the gene in each cell have mutations. The parents of an individual with an autosomal recessive condition each carry one copy of the X chromosome, but they typically do not show signs and symptoms of the condition.\n",
            "--------------------------------------------------\n",
            "Q: What is (are) Compulsive Gambling?\n",
            "A: Compulsive gambling is a disease in which a person's body is unable to function properly. It is a disease in which a person's body is unable to function properly. It is a disease in which a person's body is unable to function properly. It is a disease in which a person's body is unable to function properly. It is a disease in which a person's body is unable to function properly. It is a disease in which a person's immune system is unable to function properly.\n",
            "--------------------------------------------------\n",
            "Q: Who is at risk for Pancreatic Neuroendocrine Tumors (Islet Cell Tumors)??\n",
            "A: People who have pancreatic neuroendocrine tumors are at higher risk for pancreatic neuroendocrine tumors than people who have been diagnosed with it. People who have pancreatic neuroendocrine tumors are at higher risk for pancreatic neuroendocrine tumors than people who have been diagnosed with it. People who have pancreatic neuroendocrine tumors are at higher risk for pancreatic neuroendocrine tumors than people who have been diagnosed with it.\n",
            "--------------------------------------------------\n",
            "Q: How to prevent Medullary Sponge Kidney?\n",
            "A: You can prevent a medullary sponge kidney from getting worse. You can prevent a medullary sponge kidney from getting worse. You can prevent a medullary sponge kidney from getting worse. You can prevent a medullary sponge kidney from getting worse. You can prevent a medullary sponge kidney from getting worse. You can prevent a medullary sponge kidney from getting worse. If you have a medullary spong\n",
            "--------------------------------------------------\n"
          ]
        }
      ]
    },
    {
      "cell_type": "markdown",
      "source": [
        "📌 9. Inference: Command-Line Loop\n",
        "Generate answers interactively:"
      ],
      "metadata": {
        "id": "WHfqrRIs5-rG"
      }
    },
    {
      "cell_type": "code",
      "source": [
        "model = model.to(\"cuda\")\n",
        "print(\"Model is ready. Type your questions below (type 'exit' to stop).\")\n",
        "\n",
        "while True:\n",
        "    user_question = input(\"\\nEnter your question: \")\n",
        "    if user_question.strip().lower() in [\"exit\", \"quit\"]:\n",
        "        print(\"Exiting.\")\n",
        "        break\n",
        "\n",
        "    inputs = tokenizer(\n",
        "        user_question,\n",
        "        return_tensors=\"pt\",\n",
        "        truncation=True,\n",
        "        padding=\"max_length\",\n",
        "        max_length=128\n",
        "    ).to(model.device)\n",
        "\n",
        "    generated_ids = model.generate(\n",
        "        inputs[\"input_ids\"],\n",
        "        max_length=128,\n",
        "        num_beams=4,\n",
        "        early_stopping=True\n",
        "    )\n",
        "\n",
        "    answer = tokenizer.decode(generated_ids[0], skip_special_tokens=True)\n",
        "    print(\"\\nAnswer:\", answer)\n"
      ],
      "metadata": {
        "colab": {
          "base_uri": "https://localhost:8080/"
        },
        "id": "X860VmIO3K3q",
        "outputId": "d3931751-f035-4fb1-d9c4-fc473d13e53a"
      },
      "execution_count": 39,
      "outputs": [
        {
          "output_type": "stream",
          "name": "stdout",
          "text": [
            "Model is ready. Type your questions below (type 'exit' to stop).\n",
            "\n",
            "Enter your question:  Is D-bifunctional protein deficiency inherited?\n",
            "\n",
            "Answer: This condition is inherited in an autosomal recessive pattern, which means both copies of the gene in each cell have mutations. The parents of an individual with an autosomal recessive condition each carry one copy of the mutated gene, but they typically do not show signs and symptoms of the condition.\n",
            "\n",
            "Enter your question: what is diabetes?\n",
            "\n",
            "Answer: Diabetes is a type of diabetes that affects the body's ability to function properly. Diabetes is a type of diabetes that affects the body's ability to function properly. Diabetes is a type of diabetes that affects the body's ability to function properly. Diabetes is a type of diabetes that affects the body's ability to function properly. Diabetes is a type of diabetes that affects the body's ability to function properly. Diabetes is a type of diabetes that affects the body's ability to function properly. Diabetes is the most common form of diabetes. Diabetes is a\n",
            "\n",
            "Enter your question: exit\n",
            "Exiting.\n"
          ]
        }
      ]
    },
    {
      "cell_type": "markdown",
      "source": [
        "📌 10. Inference: Gradio Web Interface\n",
        "Install and launch Gradio to build a web UI:"
      ],
      "metadata": {
        "id": "6GJFF1tt6EZC"
      }
    },
    {
      "cell_type": "code",
      "source": [
        "import gradio as gr\n",
        "\n",
        "# Reload model for safety\n",
        "model_path = \"./my_model_medicalqa\"\n",
        "tokenizer = AutoTokenizer.from_pretrained(model_path)\n",
        "model = AutoModelForSeq2SeqLM.from_pretrained(model_path).to(\"cuda\")\n",
        "\n",
        "def answer_question(question):\n",
        "    inputs = tokenizer(\n",
        "        question,\n",
        "        return_tensors=\"pt\",\n",
        "        truncation=True,\n",
        "        padding=\"max_length\",\n",
        "        max_length=128\n",
        "    ).to(model.device)\n",
        "\n",
        "    generated_ids = model.generate(\n",
        "        inputs[\"input_ids\"],\n",
        "        max_length=128,\n",
        "        num_beams=4,\n",
        "        early_stopping=True\n",
        "    )\n",
        "\n",
        "    answer = tokenizer.decode(generated_ids[0], skip_special_tokens=True)\n",
        "    return answer\n",
        "\n",
        "iface = gr.Interface(\n",
        "    fn=answer_question,\n",
        "    inputs=\"text\",\n",
        "    outputs=\"text\",\n",
        "    title=\"Medical Question Answering\",\n",
        "    description=\"Ask a medical question and get an AI-generated answer.\"\n",
        ")\n",
        "\n",
        "iface.launch(share=True)\n"
      ],
      "metadata": {
        "colab": {
          "base_uri": "https://localhost:8080/",
          "height": 611
        },
        "id": "rCYhaA0u3Rsd",
        "outputId": "46ed0e3a-fa03-4c02-d4c9-a43250482671"
      },
      "execution_count": 38,
      "outputs": [
        {
          "output_type": "stream",
          "name": "stdout",
          "text": [
            "Colab notebook detected. To show errors in colab notebook, set debug=True in launch()\n",
            "* Running on public URL: https://6e7cf35919609880a8.gradio.live\n",
            "\n",
            "This share link expires in 1 week. For free permanent hosting and GPU upgrades, run `gradio deploy` from the terminal in the working directory to deploy to Hugging Face Spaces (https://huggingface.co/spaces)\n"
          ]
        },
        {
          "output_type": "display_data",
          "data": {
            "text/plain": [
              "<IPython.core.display.HTML object>"
            ],
            "text/html": [
              "<div><iframe src=\"https://6e7cf35919609880a8.gradio.live\" width=\"100%\" height=\"500\" allow=\"autoplay; camera; microphone; clipboard-read; clipboard-write;\" frameborder=\"0\" allowfullscreen></iframe></div>"
            ]
          },
          "metadata": {}
        },
        {
          "output_type": "execute_result",
          "data": {
            "text/plain": []
          },
          "metadata": {},
          "execution_count": 38
        }
      ]
    },
    {
      "cell_type": "markdown",
      "source": [
        "### Evaluation Metrics\n",
        "\n",
        "To quantitatively assess the model's performance, we used the ROUGE metric on the test set. ROUGE evaluates the overlap between predicted and reference answers.\n",
        "\n",
        "The following code runs batched inference on the test set and computes ROUGE scores:\n"
      ],
      "metadata": {
        "id": "BNPnp7XpmpOY"
      }
    },
    {
      "cell_type": "code",
      "source": [
        "from datasets import load_metric\n",
        "import torch\n",
        "\n",
        "# Load ROUGE metric\n",
        "rouge = load_metric(\"rouge\")\n",
        "\n",
        "# Prepare lists\n",
        "predictions = []\n",
        "references = []\n",
        "\n",
        "# Use DataLoader-style loop with torch.no_grad for efficiency\n",
        "model.eval()\n",
        "with torch.no_grad():\n",
        "    for i in range(0, len(tokenized_test), 8):  # batch of 8\n",
        "        batch = tokenized_test[i:i+8]\n",
        "\n",
        "        input_ids = torch.tensor(batch[\"input_ids\"]).to(model.device)\n",
        "        attention_mask = torch.tensor(batch[\"attention_mask\"]).to(model.device)\n",
        "\n",
        "        # Generate predictions\n",
        "        generated_ids = model.generate(input_ids=input_ids, attention_mask=attention_mask, max_length=128)\n",
        "\n",
        "        # Decode predictions and references\n",
        "        preds = tokenizer.batch_decode(generated_ids, skip_special_tokens=True)\n",
        "        refs = tokenizer.batch_decode(batch[\"labels\"], skip_special_tokens=True)\n",
        "\n",
        "        predictions.extend(preds)\n",
        "        references.extend(refs)\n",
        "\n",
        "# Compute ROUGE\n",
        "rouge_result = rouge.compute(predictions=predictions, references=references, use_stemmer=True)\n",
        "print(\"ROUGE Scores:\", rouge_result)\n"
      ],
      "metadata": {
        "colab": {
          "base_uri": "https://localhost:8080/"
        },
        "id": "emIBfIN3jIWK",
        "outputId": "810ba1d8-ddd8-4614-bbc8-3278609379eb"
      },
      "execution_count": 28,
      "outputs": [
        {
          "output_type": "stream",
          "name": "stdout",
          "text": [
            "ROUGE Scores: {'rouge1': AggregateScore(low=Score(precision=np.float64(0.41173832075276057), recall=np.float64(0.3750913486127154), fmeasure=np.float64(0.3814199807641655)), mid=Score(precision=np.float64(0.4243758566944481), recall=np.float64(0.3881794650696818), fmeasure=np.float64(0.3940776605040902)), high=Score(precision=np.float64(0.4384048024551521), recall=np.float64(0.40180457536593034), fmeasure=np.float64(0.40742994407008865))), 'rouge2': AggregateScore(low=Score(precision=np.float64(0.2532443092106493), recall=np.float64(0.23317851377158133), fmeasure=np.float64(0.23686142691071074)), mid=Score(precision=np.float64(0.26949558774505084), recall=np.float64(0.2485937541723668), fmeasure=np.float64(0.25264263754953986)), high=Score(precision=np.float64(0.2839633823565584), recall=np.float64(0.26313140709883703), fmeasure=np.float64(0.2669798251754506))), 'rougeL': AggregateScore(low=Score(precision=np.float64(0.3585992195829678), recall=np.float64(0.32907934635546293), fmeasure=np.float64(0.33350390729601515)), mid=Score(precision=np.float64(0.3726737144479697), recall=np.float64(0.34330206781984823), fmeasure=np.float64(0.3475689042882895)), high=Score(precision=np.float64(0.3875813392374198), recall=np.float64(0.3577153650652012), fmeasure=np.float64(0.3619204476928387))), 'rougeLsum': AggregateScore(low=Score(precision=np.float64(0.35857858690139294), recall=np.float64(0.32999856731434896), fmeasure=np.float64(0.3342249020839757)), mid=Score(precision=np.float64(0.37264672265832743), recall=np.float64(0.3436545301966307), fmeasure=np.float64(0.3476131350877102)), high=Score(precision=np.float64(0.3865181759713496), recall=np.float64(0.35688019165636914), fmeasure=np.float64(0.36102415032119556)))}\n"
          ]
        }
      ]
    },
    {
      "cell_type": "markdown",
      "source": [
        "### Evaluation Metrics: ROUGE Score\n",
        "\n",
        "We used the `rouge_score` package to compute metrics for our model’s predictions. The table below presents the mid-level precision, recall, and F1 scores:\n",
        "\n",
        "| Metric     | Precision | Recall | F1 Score |\n",
        "|------------|-----------|--------|----------|\n",
        "| **ROUGE-1** | 0.424     | 0.388  | 0.394    |\n",
        "| **ROUGE-2** | 0.269     | 0.249  | 0.253    |\n",
        "| **ROUGE-L** | 0.373     | 0.343  | 0.348    |\n",
        "| **ROUGE-Lsum** | 0.373 | 0.344  | 0.348    |\n",
        "\n",
        "These scores indicate that the model is reasonably capturing important unigrams (ROUGE-1) and some bigrams (ROUGE-2), with moderate sentence-level overlap (ROUGE-L)."
      ],
      "metadata": {
        "id": "8v7uvhlPniyY"
      }
    },
    {
      "cell_type": "markdown",
      "source": [
        "# Result Summary\n",
        "The model was able to generate coherent, contextually appropriate answers for many medical questions.\n",
        "\n",
        "![Screenshot 2025-07-07 170545.png](data:image/png;base64,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)\n",
        "\n",
        "But for diseases which are not present in the list like diabetes , it is not answering appropriately and just giving english gramatecial words\n",
        "![Screenshot 2025-07-07 170723.png](data:image/png;base64,iVBORw0KGgoAAAANSUhEUgAAB38AAALLCAYAAAD5QkjaAAAAAXNSR0IArs4c6QAAAARnQU1BAACxjwv8YQUAAAAJcEhZcwAADsMAAA7DAcdvqGQAAP+lSURBVHhe7N1/fJP1vf//pxYpQ1tlCxsb/YqnqKVBpaDSOrHooOBs2SbtcSJOi2xDjoNyJuDOBqjAFCg6qE7Fqe3mAGXA0dHO2lSgEbH1CJQJrRPbz8CwMRtlpFoJUvP9I2l75WrSpG2KJTzut1tvt+b6let6/7ryzivv93WW5+//8AgAAAAAAAAAAAAAcFo76+2SMoK/AAAAAAAAAAAAAHCaO9u8AAAAAAAAAAAAAABw+jnL4/Ew8hcAAAAAAAAAAAAATnOM/AUAAAAAAAAAAACAKEDwFwAAAAAAAAAAAACiAMFfAAAAAAAAAAAAAIgCBH8BAAAAAAAAAAAAIAoQ/AUAAAAAAAAAAACAKEDwFwAAAAAAAAAAAACiAMFfAAAAAAAAAAAAAIgCBH8BAAAAAAAAAAAAIAoQ/AUAAAAAAAAAAACAKEDwFwAAAAAAAAAAAACiAMFfAAAAAAAAAAAAAIgCBH8BAAAAAAAAAAAAIAoQ/AUAAAAAAAAAAACAKEDwFwAAAAAAAAAAAACiAMFfAAAAAAAAAAAAAIgCBH8BAAAAAAAAAAAAIAoQ/AUAAAAAAAAAAACAKEDwFwAAAAAAAAAAAACiAMFfAAAAAAAAAAAAAIgCBH8BAAAAAAAAAAAAIAoQ/AUAAAAAAAAAAACAKEDwFwAAAAAAAAAAAACiAMFfAAAAAAAAAAAAAIgCBH8BAAAAAAAAAAAAIAoQ/AUAAAAAAAAAAACAKEDwFwAAAAAAAAAAAACiAMFfAAAAAAAAAAAAAIgCBH8BAAAAAAAAAAAAIAoQ/AUAAABwmnCo8ObhGjas5W++KsybuKq0PCdNw4YN14iJc7Sx3rzBl2zbfMP5D9fkZx3mLdDDXFX5mjx6uIYNG6Xxszaprtm8BRABvb0tAgAAABC1CP4CAAAAUc8tl9Mpp+HP5TZvE0RTo99+zqPh7vjlqC7IU+G+RkmS+6BNCx7cJKd5oyjjPlKrivUFWrBoke8vX4Uv21VzpHfn1ZejWqtnFanGJUluOWyLtGRTFJWQ5m7UdUTUmdgWAQAAAOgdCP4CAAAAUa9Ki8eM1RjD3+Q1teaNAnDL9ss0v/3G3LVevXms6rET3mBLq08bddx/SdRw7SrS7ImjNOL6HM14cI02btjk+yvS8vtmavL1ozRi0nyt3WtKk2jUVK/K0nLZSstlK63tIMjmkvtT05Km6Ckh7tL7NLpLdR2Rdia1RQAAAAB6F4K/AAAAwBnI8cdNqjYvNGsq15ZS88LebWzuPKXE+l7EWJRzT7YSTNuc/hpVXTBV103NV9nBjod1ug+UaMkPx+rWZ+vV8ZanOaddK+bkadacPM2aU6j95vWt0jVtXopaiogGZStvcrSUELfsNpt5oRzbqnr1Dzai1ZnRFgEAAADojQj+AgAAAGciV7G2VJkX+nMWb1KZeWFvl5irF96q1I4dFXrr/yq09IY48xanvbpnp+nWJ6r9g7kxcbKMyFDOLdmaMMKi+BjjSreq8ydpyrNR/NDRv9erxrwsiKG5a/XWWxXasaNSe19brLHx5i1OU02va0tL7DcmVrEtZaC2WLZDhu1wapwBbREAAACA3ongLwAAAHBGatSW0o6iv05tL+lofS8WGyeLxaL4/uYVUWBfgWbk+0/jO/SW1SrfXakdL67S0sWLVfBihd7a/aqWZlr8tqt5dL4KozUI6O7chLqx8RZZLHFtAdIo4LYXq6zZ9+I78zT/Oy1rarXFxtjfL0U0t0UAAAAAei2CvwAAAMAZJU7xvpGOrg2bVNESLDI7YtPGlthvfJw6OzjS7XKqrqpcttIq1Tkb5Q72PsE0Ncqxz+7d/2jLGNeBGthD86a6j5rO17xBQG65nA7V2MtlK7Wr5nAXrrNTnNqYv8ZvCt+E6Wu1efF4JbTOY+wTm6CcR4q15vuGAHBzrZY/Wh7mtUVGd8qB2+X0lYFyVR5wytVk3qKN41APj2puapTzQJUvn51ydTcRm91yHa5VRcu1dfd4cste2jblszXlOk28LrX1dU1xedenfnYbr70TedjslsvpexazvVaOsOvVqdGdsumvJS996WNe3UXuo762papezk4WkK61ZwAAAACixVkej8djXggAAAAgmtg1d9hMFUuSMjVt+l4VPusNBU1YtVsFN5ojh5Jz/VSNedD7VOAJuVNUU7TeGzxKnqfy/80N+uxK14FNWv0/+Vq7r9F/RUycrLcs1dMLxsvS0WjLo9UqXHSfVtkc/gGLQem6b/UKJa5L04yXWxZmas27KzTWuN22+Ro2s6T1pXXeq9o8PcjZNjeqesMSLf5NiWpcpnWxCZowe7mW5qaYplCW3PXlWvXr1dpUWS+XOWAUEyfrj1aoaF56u/2kTp6f2aEiTZ6Q3za9sWWKXqhYoJRA79PCVaLZ18xvGxGqVC3d8ZxyjIOCwzwnx7M5Gt866jhZ95Vt1LQLTRv5dKccuA+Va8XPF7TfV1L8ZVM0f0mecpLjJFVp+bhFsjU1yNH6A4FA/M+14r7hhjLU8XUEP5dYJWTM1srFuUoZYFrVwi+/fGW1uVHVRQs1t8Amh/GUYywa+/PVyp+e0ukfWkiSmu2ae8VMFTdLUoLu3viq5vRfo8ybClQnhbxOvzLQUsfdDtmWzdGvNtT6l/PYRE1dWaiFGf4jy1sFu0b56tX0X2n+jPTWHyxUL03TrX9sSd9k3ffaRk0bbNxJUlOJZo+a3zoNfcKMjSr/72TTRqZjDZ6hza/NltW0TVfLprHctNQR94H1mv2Tpao40rKVoX6FrFcOFd48Uct9VSrryf1aeYPk2lWkBb8saPc8b8sN8/T48lylBC0gbjlK8zV70fr27VlAIcoEAAAAgNMWI38BAACAM0q9vm7NbA3elpUEGgnq0JYN3sCvYjI06XJXWKMG64qm6rpJi9oHVeQNCNWsz9OYHxapzhwwbVFfpFuvn6rl5sCvJB2xa/kPs/SrN8wruuhIieaOS9OtDwYI/EqS26Gy/Kkav9Dedi5H7FqSk6YRN+Wp8I0AgV/5rrNopm76pV2BDtsdjq3Ffs+1tU7L7TjwK0nxmbrtFuOzRqtkr2qXuhHVnXLgti/VuO/mBd5Xkmvfei24OU3jC2oludVw2BEi8Nt1dRtmatyEYOfilsOWr1vHjNWCbYHWm9Wrfm+1Vt0xVrfmBwiKNjtVkT9Vszc4TSvCZC/2BX4lxaRq5GWSElOV1hoorNWrb4R57Noa1R4p0dyJEzVrvSnwK0nueq2dla0lu0zLJUkOrQ12jfLVqydmavzoOSo+6l2Ucm26YYNa7akOsGNVhd/zxx1vVAVokxzaU23Ii6tS2gV+u1M2jRz/dEr1RZryA2PgV9LgFFmDxMRDqa+vVnXBVF03Nb9d4FeSnNvydeusTQqci42qWDRB4+eEG/gFAAAAEM0I/gIAAABnlEYdG5KhrJaRdbZN2mKOJtRu1tqWAZ4ZWUr+1LxBe84NdylzWXVboDQ2QWmZ2cq5JVsTLjMEH/fl686HfYFlI5ddc+/Il3/cJ1bxgxOUMNjiG0XrlDP0qYTmsmtuznwVG4M2re+VIEtLwMySqfxfpKt1XPTAeOmIIWgUEyfL4BRNuCVDKYOMAVbJ+fJMLShtH8Dpjrpa47N+E5Se2n50biBp3zYG16Syqp57lnP3ykG1Vv1yvZytQcw4WTNydd/yBbr7lgxZW/IlJllTf9B+1GckOTfP1ORFdr9AW/wgb/lIGGAYKd/s1MaZWUECoUa1WnXHVD21y5cyMXGyGI/jU7nyKZlTJRwVpW0jTPWdVKVJklKUfkPb4upiW5DAoVm55k401I/YuLY60cqptQXtA5HOzb/WkpZrlBQ7JFVZ/7VAK+flKuvahNa6ZPn+ZGW0jJhOHasJrXtIlXv8n2ktSdVv2P0X7KtWtXka8Ka92rOv7eWE9LZpr9XtsunP5SzWkjvyVWMOEqdY2wWcw1VTcJdufaLt/OIHxbW1PS2q8vVkgLLm3JCnGYYfDljSZ+ixja9qx2sbtXRKot9xYgf4yvHggeob6scjAAAAAE5LBH8BAACAM4pDjoZkTchqCRxWaaPNP4RTYytpHVWX9f3xUmOIoWRHNmnug4aA4mUz9MLrr6rokcVaunixCjZW6q3HMtUyIM75x3yt9Qu8StUFC1VsPI3EKVrz5m699dqrKn+tQm/9tVIvzEtvPUbXNar4VzP93+uyGXqh9b1e1Y43d2vz/ZmatmShxhqDXjEpyvufDO+0tw9t1I7dldrx2loVLF6lF7b7X6Mkla0vbhcc6zqH6t8zvk7WxYnG1x1IMgWkDjZE8LwMulsO9tllLIoTVti0+bF5mvb9KZqzeJU2v1mpF+Zlatrjhb6patO18t39evfd/VrzfcNxlKk1vuXev05ObXtkk+YaR3zHJOvutZV6a7u3fJS/+abKH8ow5LVTa/OWqtocCDRxuyXFpuju31do7/5K7Xhzt959c7WyjIXG9bq2GwKYYWm2a4t3TndJ0oQbx7cG+9LSM9pW7CrWq6Z6F5jbe66DMrX0L7v17t5K7Xhrv/ZumS2rMVhY9boq/QKwblVuMwRph8zQ+r88p5Wzpyhr+jytfPZVvVW2WlO/P0+/v9/wo4r+I7wjlX1cVVW+qapbOLRnl3mkrk3bzb9hqN2jytYXyRp5uSHk2d2yaVa6Xmudkizpuu/3Fdr77n69++5u7V0y3rxl+LwFRCn/9Zx27N2vt7ZXau/+Sj1mfG63GlVhNwfHq/XkSsO1pS7WS0/PVsZlCbIMTlbO/Vu0fkbbD0XcqfNU8tqrKn/tSU01T68NAAAAICoQ/AUAAADOQNYb26Z+9h8RWKuyl32h35hMTUqXXC5z4MVfzYanVdk6WjNDK5+b3e65lPEZ8zXzypZX1bLZDVG+pnI9t97wOiZVS59boLHGZ6nGxCll+q80vbsDPmsLtcpmeG3J1JrnZvs/tzUmVtYpK3TfDf6jeSUpPnOV3t29RQsnJ8tiGpbnf42Sqqq03/Aysvoqrr95WRCWgf7PaHY16rjxdYR0uxw0OAxT+SYocYgp/WPilDI9cL5Ekt91SEpZ8JTmXGl8z1glTF6llVMMy5zr9ZwtxEhvS6Ye275Wc1ItbYHPAeM1Z5qxUDtUH2DK3w4Zp3xWqtJT2wpm7A0ZhlG11dqyLcyw/2WzVfLqCuUkGo51yQzlZRk3qtX79cbXDWowzsV86VANNY0sjb1wvBYuzzUtT1DqtYYSeqBWtcagsrNKFb54Z9qUKRrqW1xd7R8ErdtV1TbV+uB0pRoC/t0um4HEpGrhi09qWmt+xio23DoZkEVZj1XohdmpbW1LTJwy7pnm9+MNR329/7T4h6u1x/D7nAm3ZLX7kYz1+5Nb002lxbKZR00DAAAAiCoEfwEAAIAzTH29Q0rOUNYQ34Jdm7TlkO//fTYVH/b+G39LtsbGSA1H2j9ds40hWCxJWZOV1W6KWEmyKG1s21DVyl2Gp9dWlanMEGyLv2WGcga1vY6kmtK2Uc2SlHLPfP/RveEINlVqU6y+PsQYEa5XvS8tv1T949TXvCziIlAOhhpHKDv01AP5qjjUyUBot5muIyZD0/1GXrZJu+U2v6B64OdnG1yb1TbVsUFCov8QbseRBr/XoVTaDaNtk9OVZjzd/qkyzn5cXVoR1qhv63czNbTdnMPS0Ev9A9UOv1NNUOKlhpe2FZoX6JnBAVjTr1NbcbGp8m3DyneqfCN64zQ0K10jffXPYTc+99et2ncMkehrjc/7jUDZDCBlwYoIj5xN1aSMAD9suDBRfiXE0SC/ZDelb9/+ATKuT6xh6meHGsIpBAAAAABOWwR/AQAAgDNSsm7PTfH9X6u1L3lH0dVsbQmOxmlSlv8zMwNq8g9wJpw8LFtpecC/yr+daNvwSNvUw456v+GDSv92GO/bJW5v4LtVsiamBw7sheaW60CV1hbMV+6ksRo9fLiGjUrTrM2m8F8Yga8ed7he/incAyJQDnRhlm4zZv2+Is2YMEqjc+ar0F4v96lIS9N1KDlFycFGcyan+/9woGqPzBPy9rjmKtlK2kbmJ6Sn+o/ylkVp6YaAbVWJtvdg4G/sLVP8psMuezBHo0dNVO6yTapxdhAaT0lXuuFHFZW72lKy7Xm/aRqZbFXKVb6XtXZVtl5LlSq3tvwvTUg1FKRIlM12kjXx2q62HRFmGtnvOBLgrF2utlHRig9/1gAAAAAApyWCvwAAAMAZynJDllrCv45tVXLIoaptvuDo4NuUbZzCOBhng99IWkfJUs2akxfwb0mJYUvD1MN1B00hsz7+LyPHNC2tEpXY6ZF7bjlKl2ry6FEaPekuLXmiRJUHnGGNbuyeforzG63oDH/0ntvtPyI1McEUIIyACJQDyaKcx9bq7iv9Ry669pVo+U8nacSoiZr9bHXPprXpOjQ0sYO0sijBWH5cLh0zvDwl3rZpi2HK34YNczR+3ES/v9xnjKH/KhVvDbfgdMGVC/TSI5myGEfHux2qLFqkyWNGaXTOUtkCjeaOSdX132l76aiu8QVeDc/7vSRZyf0tsqa0Pa+88h3fv/W12hNk6mtznnatbPZi/cdr0o1tL6t/u0IVfo9pb5StcF1bGphHhwMAAACIOgR/AQAAgDPVoMm6PcP3f22xbNvKtcUXh034fobfcyYjzhiADBAL6p0aVXHfBI2fs141rcGVWCVcm6m771+toi0VemGG/xS+kWPRxZcYp4StUnXHs9K2ctfWqs7wemhST51jF5gD0fEpmrP2TZWvylWa3xTa3iBiWf5UXXdHkep6MgB8Gqm2FRtGdEruow45Dpv+jvpXsMqS8KZ+7ipL5grt2LFWC7+frHjTFOmufes167sTtGCb+TnisUpJMYxQfrtK+5v9n/erkckaKsl62YjWzexvVEuSnG9XtZXxwSmyRiK4aS6bvVasMn4+T9aWtHaWaMb37tLy9eWyvVykuZPGalbr6HCLcv57ymlyXQAAAAC6iuAvAAAAcMaKVUZma/RXq+YUyBtPTNbUHxif7dmB/nGGZ3VKQ3++Re++uz/03yPj2/bxe46opJP+LyPHPHq2c8/kdW7I04yX28JmlhsXq2T3bpU/u0JzpoxX2iUWWeIDPG8zQlKuTfd7Xbatyu91YG7ZbTbD6zilXdkDwd8IlIM2sUq4cZ6KXt2tvX95Uvd9P9HwvFLJvStfdz7sDfpFnGkKXdXV+48E9uOUw1h+4uN1vuFlz6vWlj+bg6hh6OGpnyVJA1I0dflGvbW7QpsfylWa8RnezU5t/FmeNh4xLJOUkJrelvbNe7Wn1vi8X8NUziNTleZb5qryBn0d77X9EiL+hnT/H65EtGz2UhfmqujJ7LYpt49UqfDBPM26L1/FB1qC/xaNXVyopek910YBAAAA6B0I/gIAAABnsNiMycryjRhzu31BgiuzNelCv82Cs1iVYpj6tq6iqtOjCgcO8h+HVr2vp56capwyVpJqtac63GHHDm3ZYAi2Dpmhpx/J1tBT+ezM1AmaYBhJ6dqwXsV+07sGcGi9niw1vI7PUkbLXN+RFIFyEEhsYrqmLd+it8oWa4JhNKfzz8XqkfBvf9NU4LU1wUcZH6rWHmP6p45UmD+ZiIxdxX5TPmc9UqEdO4L8PZJp2LFK9qpwy303xVpknTxPRa9V6oUZhtRprlKx3VRCLjM+Q9mh+oNu1VTv9b1O1sgUX9DSMlJpl/gWH6jSHqdDe6rbguBpI0250ENls1dx2bVi0SbvdSWmK+vaRFniJSlW8YMTlZa7WJt3lGnNLT3www8AAAAAvQ7BXwAAAOBMFpOunFuM0wlLKVkZbSPIQkrW9TcY9t/1lJa1m9K1Y7GXp/iN1HOs36TKQAG3Zqc+DBXsDMGafp3fKMCyh/NVHei92qnX/n2GlykpbdOsGrQG0HtC//G6+8eG4HWzTct+bfeb9tdPc70Kf57vG83tZZ2RqzTzeQ8ZqqGGlzXvGZ8R6+Oya1VhR0H57pcDSVKQvIi9MFt5dxgCVx0+X7cTz0Nux3QdzSUq3BT4YNV/KPRL27TrUv1GKPe06leMUz5n6PobLLJYgvzdMFYTDPuWlZb33GzrgfIwJk4ps+9WlmGRq9H8RN0UpV3X9qrmvSrVVLc8gzxdqa0B3ESlpbbkUZWqa+pV11o0Tc/7ldrnaVfLZi9WXbDQN5I6QdMeflIrn92iHW/t17vv7tZbr21R0S+yZbWY0wUAAABAtCL4CwAAAJzh0m7MMgREM3T798MP/UpSyh13G4K3ThX/bJpW7QoQXGluVM3mElU3mZZfmKXsKw2vXes1994SOY1BpKPVKpyZp8JOTNMc0JW5mmkcGOhcrzvvKFD1UcMyueWsKtKMn64xjPqM1/nGqHF1tWqM59fcqOqCqZpcECBwahTTz++lu/mE3+tQrNN/pSzjCNiXZ+qmnxaZzt+bXqvuyNFyY8B6yAwtzQ3wtM9BCX7BXxUX6KnWqWIl96FNmvu9mSoOHANt1e1y4LJr7thRynywXI52kclG1b5jSFvTFMv+o8erVGwLPllzKCk/nucXIK988G6t2ut/Hc6SOfrZHw0JYpmiOdmdqzfdY5ryOfU6pXU0Cr1/qtJ9syZLkmw22czpHwF1z+ZoxLiZKgyU77U1fqO14+P864IkjWyZ2lmSo36z7G/7Xlzl/wORlNS2KdD3vFzcVhcvSdXIANnQ7bLZqzm0Z1dLWTymE+aYOgAAAIAzDsFfAAAA4EyXmq3bWkbV3ZiljI6CSIFcmKv8ecYpXWv11NQ0jc6ZowWLFnn/7r1L40elafIv52vxenNgzqKcGYbnVUpyls7XmFFpGj9uosaPS9OIa6ZquXma2C5J0LRH5vmN2nXvWqNbx6RpzKS7NHfWVI2/5hqNuTNfFfYCzXu+5VxTlH5D2z46uEaTx92luYsWacGiOZp8TZpufaI69GjKoYl+Qay63+Zp9rKSDp4raxKfrpV/8D9/pz1ft14zSqPHTfSm1/VpGnbNVD21y3A2Mcm678nZAUcrtwsMNtdq1aRRGn39RI2/ZpRGTFik4iOSLBa/UdPtdKscNMr24HwVO92qW5+n8aPTdOusfBW+XC7b+gLNzsnQXMOjixNuz5Zx9mrziO7KB7+n8dPna8Gi+cq9aakqAo1GDWZQtpaar+OHaRp9/VTNvvcuZV4zSmPutRmmDrYoa0meUgKlbU/ZZ1eFYci3NT01xGh9i9LSjb96sKlsW8jS2jn1azQvv1buI3Ytn5qm0TfdpbkF62UrLVHhors0fuqatnIek6Gpxl8x+FjSDM/rtdlU5su3CX4F1P+5v3UlJa0jsONTU/1/yNCiW2WztzM+y7xRa386Ubn3+q6p5a9gvWyl5bKVVqnuaITzHQAAAECvQ/AXAAAAOOMla85r+/Xuu/v17qrxXZq6duj0Qr3wXyl++7r22bRxwybvX0lV62jOmoICVZjiD7Hpi/V7Y3BGktyNchx2yHG40RtUjUnU1CltI/66LDFXRc9N0VBjsK65Uc4DVSq2VcthCI7UrN/cGlgae49/0FVHqlS8YZM2brCpxiUpxqKsGdmBg08tBo/XJONluutVVmTr3EjDxFytf2mBxvrFztxyHXZ40+uIaUTjoHQt3bJR04I+7tOinNlT2gUPXUccbWmROEVFWxYqVOp3uRw0N+hYk2Evd6OqbUVafl+eZj24RmX7DNd02TytucdUVq68W/P94oNuOd4o0cYNJaqsL5a9kw8ITshdq5J5pus4Uq2yElPwLMairEc2aaVxWuFToMZm/MFAgtK/HWBEt0nCt9Nl3CrSUz+7GlxyGxLMVV+l4ieWatac+Vq+oS3fJYuyHl8S+EcmF6Yq3fjMZcn7vN/LTa2S8bm/BunXBn+gdZfLZq9n0aTphh/PuB2qLPFdU8vfE0s1a06eZs3x/nhhxKSlsh3xPwoAAACA6EHwFwAAAEAExCll9lq9vnaBsi4LEgiLTVBa7mqVvLlCYwNEmIdO36gdj03R0ADrLKkztGbHFi38UUrHwdUwxacuUMmOtbovIyFwsDs2QRPmrdVbf5ndNhLxwlwVrZunsYP8N5Ukyw3z9MKOCq387/EyhSVNvCOPU/zetFbvh5gt2iz2kila89qrWvNfGUoIeAGS4pOVdf9avfXak8oJGvj1uXKBXnokU5Z2o1djNXTKapX/7wKlDbD4T30dUBfLQUyicp6s0Fv/u1jTrg2SJzFxsk5ZrfK1uf6Be8kbwH5sre5ufRasUaP213Z21Hishk73XcclAc9GltRcPfZKmVZmmsPmPa1WZcWGkamDMzWh40LnlZyhLGNgdatN9s786CCE+NR5KnnrVa2ZlylrkHISOyRD960t7iBYbno+ryTFp2jkhf6L/J/72yJVaZebFvnpYtk8DcSm/0orbwm/HLoPrNesnEWqiGD+AwAAAOg9zvJ4PB7zQgAAAADolqZG1b1TpfqjkhSnxKusSrDEBQ7qteOW63C99rxzWCcUp8Rvp2hofHh7dom7UY4De1TrOBHmubrlOlCtqrpGqf9gJackKqGz5+duVF21N336JqQoLdmi2HYBzXC55dpXpNycgtZRyorP1GPlK5QRJAgXlDEtBiQq9fJExQcaoRmurpYDd6Och2q0p8474jduaIqsF1oUTjK7XQ7VVb+rw02KzDWYjtk3YZhGJiZ0+5jRzn3Uobp3fPnQf7CSL09UwoAwMvBU6WrZ7HUaVXFflma87PSOql71lHJ0WP7j/xu032ZTcblxBLaU9eR+rTROZw8AAAAgKhD8BQAAAIAoUL10rG79o2GEa+IUrfnDPI21nH7hLADhcZfO0Yg53gdix095Tm/db3o+stHefI3/YVHrlOHWX7yqzbmhpwwHAAAAcHph2mcAAAAAiAIp/1Oo+y4zLKhfrxljrtHoH87RgoL1spWWy7a+QAtmrVFFs2E7AKetym3ewK8kJSS0e2Cyvxj/H4JYEwn8AgAAANGIkb8AAAAAEC1c1Vo18y49tcswt2s7Cbp746uaYwwUAzgtVSwarhkbfC+SZ6vkhRkBn5uuo9Va9ZOpemqf7/WQGdr8l9mydnm6eQAAAAC9FcFfAAAAAIgmzY2qLlqouQU2v+d7GlnnvarN0xn1B5zu3Nvm67qZJXK1LIhNUNr4TGVkWPV1SXI7tLu8WJu21srVMuI/Jln3bdmoaYmthwEAAAAQRQj+AgAAAEA0anar7u3XVVllV23ro4AtSh6foYlXJcvS339zAKejRlUX3K07n6hWkN96+Im9ZIpW/m6BMgaZ1wAAAACIFgR/AQAAAAAATmPuQ3ate6ZIG+01qjvS6LcuflCirOnZmnpLltIvsyjQrNAAAAAAogfBXwAAAAAAAAAAAACIAmebFwAAAAAAAAAAAAAATj8EfwEAAAAAAAAAAAAgChD8BQAAAAAAAAAAAIAoQPAXAAAAAAAAAAAAAKIAwV8AAAAAAAAAAAAAiAIEfwEAAAAAAAAAAAAgChD8BQAAAAAAAAAAAIAoQPAXAAAAAAAAAAAAAKIAwV8AAAAAAAAAAAAAiAIEfwEAAAAAAAAAAAAgChD8BQAAAAAAAAAAAIAoQPAXAAAAAAAAAAAAAKIAwV8AAAAAAAAAAAAAiAIEfwEAAAAAAAAAAAAgChD8BQAAAAAAAAAAAIAoQPAXAAAAAAAAAAAAAKIAwV8AAAAAAAAAAAAAiAIEfwEAAAAAAAAAAAAgChD8BQAAAAAAAAAAAIAoQPAXAAAAAAAAAAAAAKIAwV8AAAAAAAAAAAAAiAIEfwEAAAAAAAAAAAAgChD8BQAAAAAAAAAAAIAoQPAXAAAAAAAAAAAAAKIAwV8AAAAAAAAAAAAAiAIEfwEAAAAAAAAAAAAgChD8BQAAAAAAAAAAAIAoQPAXAAAAAAAAAAAAAKIAwV8AAAAAAAAAAAAAiAJnTvC3qV6VpVWqazKvOI011auytFw1RwzL3I1yuQ2vu82pGvN7nIbckU2UL41zX7lsO+sVHVeDL8WRWtmirS0EAAAAAAAAAADSaRf89QU7bfuc5jWhOe1aMSdf9i7s2ms57VoxJ0/P1bYsqNWq76Vp9Lh8Vftv2Q01es7vPU4/7tI5GjF6lGZsPv0zf//zeZqVb1eDeUXUcatuZ7lspbUKlGsEwbuhtlCzoq0tBAAAAAAAAAAA0ukW/HVvK1DuvXmalbdONeaVkJSo629MUUpWuhLNq84QlcsmavyyKr9lsdbrNGFEhjJSLH7LEcTh9ZoxbqbWHjavOIWayrX6rjzNuneO/rjPvPJMCoJ7BSrXAAAAAAAAAAAAZqdR8NctW6lN1p/PU9aRddq0y7weUqxS/nutXvhFquLNq84Q7qMOOY6axoNemK2CF1cp50yNiHdWs1sNhxt0otm84tRxb7Op7LJ5ui/LoXUvRW4c++kqYLkGAAAAAAAAAAAwiXnggQceMC/slZpe1eP3OTT2gfs1/J+P6Xf/vFY/SR/kv01zo6pfLNDKVcv0XPlhNZ43RNYh8eojSceq9eLz7ynpR7do5Pm+7etLtPw3G3RwYKqu+Hof/2NJktupmj8/o9VPFOiRTVVqaB4qa/IAxZq386nZsEibPrpcV8W/p7Wrl+mhx0pVd3KQrrh8kGLdDtmeWKolj67Xjn+eq1FXJaq/X+jdLYf9j3pyZb4ef2WvHGdfopEX+869hateG9c8rBW+Y1j/w6VX1u/UgKx7NOE/vJvUbFik1fsH6TvDB7bt53ao4vdr9Phvveni/sYVuuJbLVfhlnPfy3r68ae16tENqnSe1NBkq77aepEHVfZ4iWR4j0CcO4v02Ip8Pf5KvTfdG0v0wMajuuLqIeovSbWbtOCx1xVz+VW6qH/LXrXauOgx1Qy6QVbD6eporTb+Lt97nXVN+vrwyzXoK22r3YfK9fgjBa3nm3CpVQO/4lRN6TaVltn0zgdOHTmwS1u3faxBN1g10GnXU8tK9anfexveZ2mRth5qVP8Lk3XR+YYUd9r11LK31f8Gq2J3rdeqh5fp8VfqTekXQFO9Kv7wTGt6N16QpJH/X9sbO+1r9FDVufrOsH6qfrFADy19Qq/UndA3TdcpU7q6v3GF+u1/Rq98dK3uuDUlaIDftWu9Vj3yGz2+4Q1V73pdW7dt09Zt2/SxIZ1dtZv05LKVWrXhDdU1DdQV1kGKPVty11dpW1m5XnqzRkcaDumdndv0XszlumqIMeF8Inid/twqfew+Oa67Xw8O/5dWP+3QmJ+ky1jbD5Y/oeIQ6dAidHp0XPc6cx3B0tV3IF95Gip36RNa8PAaHUy4UVd9q4/c9XY9v+a3Wr3cWxYHXJyihPPke+Z2kHIthTx3SdKRKhU+vlLLW9qjfu/od68c1RhjW2gS/Hy8wk2TwHXV10793wBdmzKo9VwdJflaUdqsK1J9bYYk964iPfC7wxpy/aX6qndJh9fbel4Xu2V7YpGWPH1QF914lQYFaN4BAAAAAAAAAIhGp83IX/c2m8oGpyv1wlilXZcq15+LTc+1daviwSzd+tt6JXwvT9O/LVUsmqoVO4OMlnPZNfeO+driTtekywIE8tx2zR09Vrnr6mX59jTddslhbfzlJE0uCP7w24Zdm7Tl5QLdOjFPtoZ4XXx+nQofnKrZT6/Xgok5WnWgnxIS3Kp8Ik8/eNh49o2quG+Cxs/apBPfnqbp345T5dKJmvJsfdsmLrvm3jRJCzY7ZUlKUL+D63RrTn676a8bdm3Sxl2GyXBddi2YOFEznq9Vv2/frUmDa/XkXXf7pvR1q+K+azTmrvWqt6Rq+m3JcmxYpMz/LGh33I7UPZujMXcVyK6hunhAo/bk52j01KXaaKvX8ZaNjlRp4wab6puMezaocsMmVR4xLKov0uQxOVpVm6Ccadka3rBOt06arwqXb/2hIk35bp5sStX0e7I1/HCRcn+2Xg41qGanTXsCTVXcVK8y83v73meJTRr74ywNri3UjAkTNHdbo2m/cm1aOknjH6hS44Ch+vrf12vJ1GkqPGQ4ltGBNcq8OkdLdjZq+Pfu1sS+di2/a6xml7aVw+MHbNpYvklLJmXoVzsbFZ80UHXrl+rWu4rkMBzKnK5VD2RoVrFhgwAcRTkafcc6NV51m6b/p1XH7Zu08Q3jUb3HHZ1ToNoh2Zr+Pasanp+qm35pl0tSo6NaFVW1aknuoCJ4ne00lavMlqD01ATFpl6nNFextnRxpH/o9Ahd98K9jo7SVWopT1WyPztVk39Trb6DE2TpH6u6pydpxM2/VkWTVTk/zlBfe75yx82RrUlSR+U6jHNXfZEmj7tLq96QLk6KV+POhRo/p8R4kHY6Ph+vsNIkaF2Vvi6HNuavU2Xr6HKHbIVF2vhEkbYbnkVc+XK+NjqlBCms6z1+wKaNVXYVTs3R8r19lTDYor4BmncAAAAAAAAAAKKW57TQ4PnTHVbPuEdrfC83eu5MSvUsftu4TYXn3iSr594yw6KThv8PFnpuTsr2PHfQ4/F4PvA8l231JGUXet43bmNyrMHl93rPigmepKuXePb4LW2zfb7Vk3RtnmfLP1uWuDx/+onVk2TN9jz53vHW7d58INWT9J3Vnv2+18dfyfMkWfM8W461buLxvLPaMy5pmudPDR6Px3PcU5Zn9SRdO8+z3bhN9QrPuCSr596tbYu2z7d6kuZX+F4F2e9427l4Pm7wHDOmQfUKzzi/tPWlq+E9/NSs9oxLsnpufqbOsNB33T8o9HzQsmjrPE9Sa/q3MB+7xvObCYZ89ng8Ho/Ls+VnVs/VS7yp/sEz2Z6krKc87xu2aMvnDzzP/cB4/T5+ee9pfZ+knxV7jMmy/9EJniRrnqfsU9+Cg4Wem5Osnpsf3dO23afFnllJVs/Nha1XZuLyNDQY0rclLe7Y6GnwLfngmWxPkjXb85vqtvJ1vDjPmz4O34Jw09XPHs/iq62eH65reSdzOWo57gTPb95p28RzrNgzy2rI84B5ZRah6wyg4cVphvrhrfst+d9i+/yO0qFF6PQIXffCvI5w0tVXntq1O8caPH5JeWyj56dJVs+dL7amZMByHfrcfeXc9H7HNt3dcf6GPJ/w0qTDunqw0HOzMb0+LfbMsuZ5Zv3M6plV3PLmNZ7ffKftfUNfr+8929UbAAAAAAAAAADOHKfHyF9nhYqr4jQ2Pdn72jJWGVc2assrxtGzA5UwRCpeU6BKp2/0YYxhtUHds3O0/Eim1jyXq6FBtpGkeEuc959mt1zOeh2XRXK5dMy8odG1k5XVOj9tnKzJCdKlWcq6pG34WUJCgnTYIe/4XLdsJTYpa7KyjPPXXpaiFFWpusY7EnJLqWSdNltjjdsMGNjxlLe+/VLume+/X6xhKNwAi+J9aeA+6lTdccmiRh0LOfTTq6a0RI6YTOXlGh+oG6eBAwwvw7XPpuKDyZqa7ctnSVKcUlKS5aqulkPSwMEJ0oF1Wr25Xu6WUYMd5GFA+2wqPhinqbmZfulnnZKrlGabtmwzjhZP1qRsw9TC/UdoZLLkOmoYIewnThaLL33djXIedkhxCZKrsW0UtCRdmqWcEb7yJSn28hRZ1ahjR72vu5auLh1zSQmDLG2Lkq1KUZ3qfCNHa0pL5EieopzL2jZR/AiNvLRRe97pcDyuSWSusz2ntpdUKf6GdFklSRZdf2NKgJH+4QiVHmHUvRYhriP8dE3Q3Q+Y2p14i1qT0uWU45AUN1hyNfqlpEkY577PpuKDUtY9/u8XP6DtOgIK93xCpEmHdfXCVKUPdshe5UubqgqVfSdDd6ckq8xe5V12qEr2w8kam2YJ73pbDJ6hpdN5wDcAAAAAAAAA4Mx0WgR/nVtLVKnzVbdpkRYsWqQFiwpU1RRrCggla84LT+ruczcpd8wojc6Zr7W72gfoPrTN1535tZL6yf/BmO25DmzSkh+macQVY3XTPQUqftcwH2mY4uNDBFrUoAaHpJdnatiw4Ya/mSqWdLxZkrNBDkmJid7JT8Pm288v+GXmqtfGB6dq9Ijhuu7mPK0uqVVnrrLhiEO61NphED1sDQ45VKvlE4zpMFzj82slX/Ao9sblKnkoVXUPTtKIUROVu6xcjiAzewfV4JBDCUowPmdYkgYNVoIkxxHDtNlBdLSNc2eBZt+UpmGjM3TnokLZD3b4cwEDhxy+w3YtXa1KS5XsxeWtUw27SotVHDNSoy7xvm444pBq8zXer6xN1PJataZxuCJxne04K1RcJcUf2Oyr64u0aqdbsR1O/WzXXL/ryfFNyx0qPcKoex0y5VdY6Rqn882/2Gh2qrJgjjJHD9foidO0oPB11bdvukzCOPcGhxxK1vCh5n1D6NL5tGhLk47rarKuvyFONfYqOSVVv2GXNWWErCkpit9mV7Uk9zvVqhmcrtQLFd71toiP7/hHMQAAAAAAAAAARLHTIPjrGwl4WbISDMHa+MRkWVzF2uIbJCZJGpCuOb+v0N4dGzX/8lqtmJqm3A3GUGatCvOrlPbYWs0ZuEm/erSDsYT7CjR5UoEcPyjUW3+t1I4XV2np7SPMW0VM/O1r9e67+9v9rbzBsNFJw/+dEWy/5lqt+s9JWnU4S0Vv7tdb29eqYHGuUszbhXLSrc7GX4NL1dId7dPh3f/N9T33M1ZDJ69Qye7dKnksU7GleRo/bqmqQwbqzNxym9Ol+YRpQee5SuZozE9sGjivWHv3Vqrk2RWa/91OBu1bdDpdLcpZMFsDS/I0PmeO5k6fqOvm71HO40uU0d+wWepi7TCn77v7tXl6+OcZ0es0cG4tUWV8sqxDDAsHJCrZ0qgtxcbKbpSqRTsqtKP1r1C3DVbY6RFW3QtHl9K1UcVzxiq31KL5f9mtvW9uUdEjczVpsHm7wEKfe4By3qHunY+/jutqyrXp0ttV2t9cq+3bzld6aoKUkq70T1/X9n1SZZVNujbFNwLcK/T1AgAAAAAAAABwZuv9wV/fSMD0e1Zp6eLFbX+PLFDOkEZtKW0fEIq1JCvn/i1amSlVllQYRrLGKe3+Qq3MSNHdC6ZIf7xPq/b57dqqxlYixyW3af6UZMV2avRlZyVo5JVxcr1uV02wAOaFKRoZL9l3tr/WDoXar9am4oOJuv0XU2Q1Bgc7YfiVqdIBuyqPmNeEwdUgvwGFl6cqTVWyV4UxzDAmVkPTZ2vNc7M11FmsLR3E8du5PFVpqtf2KtMY57crZVecRqZ0FKzriFv2Upt0Y54W3mCRYXLtTutaurpl+22B4n6xReWrZyjnv5/V67srtPSGttHnw69Mld5+XZVhTusdWOSu05/3hx66YbYKjHV98QotuiVBrhKbKgPWkVjFWyyytP7F+epsqPQIo+6Fqcvp2mRXmU3K+u8FGtsy13JYwjj3YOW8I10+nw4Eq6upYzWhea/22Kpkb7xO118mKSZV13/HoeqaKtXukSakpvo2DuN6AQAAAAAAAABA7w/+OreWqDImU5PSzWuSNeFGQ0DoUJFmzCxSdcuzRN31qquX4i8ZqrZJjxM09lrfsyCvnKdf33JcT91bEDCYED8gTqqv1R7f8Vy7ijRjYYl5s4hI+fE8pTnW6Kf3bmqbFrWpXhU761u2UPaUBLk25GtVlVNuSW5nlVb9PF/GR122l6Jp/5Us1/r5mt3y3E23U5UFS7X2kKQB8YpXvWqqfcHWo9Uq/OlCFZsPo+Cjhy03ZmtCTLWeXLZJdU3e5yPXbZ6jX71s2vDyVKWpVluKa+VultyHyrVgaoH2G+dntWRrzu0Wlc2fplWtU3a75ayyq9rl/b/iwbu0pNTROiLW9V6dGmRV8hBJSlDipZKqq1TtluQOMnLW9z7VS+9ufR/3oU2afe96uVLnaeaV5h3CFau4AZL27fG+v9xylC7SjEdrzRuGFHa6+mmQ46B0osmt2EHJSrssQfGm+J0le7amDrBp7l0FhrriVKW9unVqZA21yqpa7XnblzbtEjFy1+nH90OPrBvbVXZZv5OpBFexbG+b13QkdHqErnvhCStdA+kfp/gYqbq62ltW3Q7ZFs30ThfdKnC5DnnulgnKyZCqf7tUG+u9G7jrN2l2R+1YWOcTjlB1VVL/VKWnOlT5vE0116X5ZhyIVdp1qapcn6+yA6lKT23LsJDXG5BbFYvGatiYRapoMq8DAAAAAAAAACD69Prg76svV0kZE5QWYPStNcMQEIpLUVqf9brzGt+zIEdM0pMnc1UwO9gkxrEaO3ehso6u0YJn2wcPEibP07REuxb4jnfdAw7lrJjtNwVpxAzK1pqXFmhU7a81foTv/K++Tau3OloDR9bZT2ppeoOeunOsRgwbrhHjlqpxxgJlmQ5llpBbqBfmWbV74SSNGD5cw0aM1Qyb9PW+kgZna35uoip+meZ9z+sXyvGfKzQn2XgE73NTi2dN0lPtk0mKz9TS53J1/rZFyhw1XMOGj9KdtlTdfqNpO0uW5uQmqqYgRyOGD9eISYWyLF2t6abpZFP+p1hrfiStu8N3TsNGadyizdp/2BvtGZqaqD2LJmqE75mfo++t0sjFC5Tji/CPnTFPVkeRbh0xXMNGzNSWIIMeve/jVuFU7/uMmLBIuy9foJKnsw0/Fui8sbmLNdbte/9ho3Try4n69ZJM82ahBUzXFM2Z7pc5JgnKnpGhOl8atz4XdXiaMmdtUl2zpJgULdzypKZpnW5trSsTtOBPtW0BtQuzlfd9i8p85eK6/PbDqiN2nQZO22ZVxmRoYstgT6PLMpQ1OPBI/+DCSI8w6l5YwknXgNI17f50HS+a6i3To6Zq45AlWvp9/60CluuQ5x6nrF8/p2kD7Fpw0yhvOb+rXCN/nttBOxbe+YQjVF2VLEpLT1b1rmqlpba105a0dFlra1WTnK40Y2UMeb2BNKrhiFM62qAGgr8AAAAAAAAAgDPAWR6Px2NeeFpzN8rZ6Jb6xsliHubXBe6jTjXGROZY4XC7nGo8Eau4AS1T15o0NcrZpODrg2l2y3W0UScCpUvLMS1xgafwbXbLdfSEYjt8T7dczrbjV9w3XDPem6fy1mf1+rZqub5g79Wio/NtyZfmIOnkKwN9+1sUH2o6685sGzZvWigix/RP1w412bVgwq8V99s/a85/NKrR9wjj43WFmn1nkRIe2a2CTMMxmhrlbHKrb5yl3YhYGdM4aF5F8jp7QCfTI2TdC1eIdA3I3ShnY4h63UFZDXXuYde7FuGcT5g6rKtdFOp6/bgb5XT3DV1/AAAAAAAAAACIAtEX/EWvECz4ix60bb6G5Q9VyV9maKhxeXO55g7P04lVu1Vw4xkUACM9AAAAAAAAAADAGabXT/sMIExDrbLWr9OKZ6vkOOr2jp4+YNeqmUtUfNk85WWcYYFO0gMAAAAAAAAAAJxhGPmLHlGzYZHWOcdrzn+ld+sZuugc14FNenJZkba8Uy+nO04JF1qVdttszb8lRfGhpseNQqQHAAAAAAAAAAA4kxD8BQAAAAAAAAAAAIAowLTPAAAAAAAAAAAAABAFCP4CAAAAAAAAAAAAQBQg+AsAAAAAAAAAAAAAUYDgLwAAAAAAAAAAAABEAYK/AAAAAAAAAAAAABAFCP4CAAAAAAAAAAAAQBQg+AsAAAAAAAAAAAAAUYDgLwAAAAAAAAAAAABEAYK/AAAAAAAAAAAAABAFCP4CAAAAAAAAAAAAQBQg+AsAAAAAAAAAAAAAUYDgLwAAAAAAAAAAAABEAYK/AAAAAAAAAAAAABAFCP4CAAAAAAAAAAAAQBQg+AsAAAAAAAAAAAAAUYDgLwAAAAAAAAAAAABEAYK/AAAAAAAAAAAAABAFCP4CAAAAAAAAAAAAQBQg+AsAAAAAAAAAAAAAUYDgLwAAAAAAAAAAAABEAYK/AAAAAAAAAAAAABAFCP4CAAAAAAAAAAAAQBQg+AsAAAAAAAAAAAAAUYDgLwAAAAAAAAAAAABEgbM8Ho/HvLA3amo6rk8++USff37SvAoAAAAAcAY555w+Ou+889S/fz/zqoiiHwoAAAAA0Cnsh0bCaRH8PXbMpc8/P6nzzjtXsbF9ddZZZ5k3AQAAAACcATwej9zuE/rkk091zjl9dP758eZNIoJ+KAAAAABAp7AfGim9Pvjb1HRcTU1N+trXBtDZBgAAAABIvs73Rx8dVf/+/SP+y2v6oQAAAAAAs57sh0ZSr3/m7yeffKLzzjuXDjcAAAAAoNVZZ52l8847V5988ol5VbfRDwUAAAAAmPVkPzSSen3w9/PPTyo2tq95MQAAAADgDBcb27dHnsdLPxQAAAAAEEhP9UMjqdcHf+WLpAMAAAAAYNSTfcWePDYAAAAA4PR0OvQVT4vgLwAAAAAAAAAAAACgYwR/AQAAAAAAAAAAACAKEPwFAAAAAAAAAAAAgChA8BcAAAAAAAAAAAAAogDBXwAAAAAAAAAAAACIAgR/AQAAAAAAAAAAACAKEPwFAAAAAAAAAAAAgChA8BcAAAAAAAAAAAAAogDBXwAAAAAAAAAAAACIAgR/AQAAAAAAAAAAACAKEPwFAAAAAAAAAAAAgChA8BcAAAAAAAAAAAAAogDB397i5HF9dtK8EAAAAAAAAAAAAADCQ/C3VzikzQ8t0a/u/18dMK8CAAAAAAAAAAAAgDAQ/D3VPtyhgvvXaPuHxoVfV/KwgfrG5VYlGBcDAAAAAM54hw459Mgjv9WhQw7zqohxu9363e9+r61b7eZVAAAAAIDTCMHfU+2Lz+RqbNRnXxgX9lPyLXN0361J+opxMQAAAADgjHfy5Ek1Njbq5Mmee1aQx+PRJ598qs8+O25eBQAAAAA4jcQ88MADD5gX9iaNjZ8oPv488+LO+/Qf2lHyv/pT8Q7t//ALfS0hVvV/eVl/63+5LrpAkhr115c36ZV/na+Ui85v3a1x7ytaX3VCQ4d9XbGtS0/qX7tfU8n/blHJ/9Xrw+ZBuiTh3LZI+heNqrX9RS/9uUTle/6lxhiL/uOb58p9eL9276rR3r9/KFfDP/X+/nd06KyLlDQoVn+vWKeXDvq/t042aPcrZXrp5RLZaz7SF5Zv6cIL2s5COqTtv98p10WX6Guut/XSuv/Vn+3v6sOzvuV/PgAAAAAQpSLWZzSI1DE/++wzbd36ul5++S/6298OKC7uPA0YcIHOOussSdKHHzr18st/UVzcebrgAm9f8MSJz/Xqq1v16adNGjToGzp8+B/as+ev+n//75A++ugj1dT8TZI0aNA3VF39jt5993194xsD9Ze/2LRlyytyOA7rm9/8hvr39/60uOV4hw8f0UUXXdh6btXV72j37r9qyJAL9dlnx7VnzzuqqXlPR48eVV3d/9M//nFEQ4ZcqJiYmNZ9AAAAAACR6zP2lDMjPvjpXv3uod9q8+5GxX99gM5x7tLvHnpcL76+Xwc+atnouA7v36+/vn/Ub9cmx379df8/1NS65Lh2P/uwlr+4V58ljdH1SV/RgS2r9EjJP1rX//X3q/S7ig/1tauu1/VJUs3/PqU/vnNSJ52HVFv/oT5vPVabj983vfene/W7+1fpj5X/0FdHjZH17L9py+plWt76PpJ0VAf27lfVX9bo/seq9FHfAfrqFwe1Y8PjKtzNr7UBAAAA4MvS0ODUypWP6803/0/Dhyfpiy88euqpQv3lLzZ5PB5J0ieffKJ33tmvjz5q6wt+8UWz/va3Azp8+J++43ykgwc/UHNzc+s2LQ4f/qe2bq3QQw89qsOH/6GBAy2qrT2gJ554Vg0NTslwvPr6/9du37/97YC++KJZTU2f6f3363X8+Gd+2wAAAAAATj9nQPD3uKqe36BaJen2X9yjn9x5m3J/co9+PT1F/cybhuGzynX6Y+1gTV40V7njrlLquJt134/T1PTa/2r7vyXpb6p657iSvz9Dk6/zrr/3wYXKvbyP4kZ8V7nXfUtSnK74wW3KvfM2fW9EnPkt2s45Nk2zH7xHPxyXpu9On6sHcobqX6/9QZsPGrc9qr+7RujeB73X9pN779SYuJOq3Vtn3AgAAAAAcIo0NzfrpZf+otjYvrr33nt0443jNX367frBDzL1+utv6v336827BJWScrnGjLlG55zTRxMnjtOdd05RSsrlrevPPjtGP/1prv7rv36s3NzbdPfd0/T5559rx45Kv+N05Otft+h73/uu+vX7ii67zKo775yim27KUN++55g3BQAAAAD0ctEf/P2sWrvfk7767e9q1LmG5eedp853Y49r1+46KflKjTEe6z8uVIL+ob8flKQB+toFUu3WLar92Pc8ps6msu+cB193vS4y7PuVtGs1KrZRe98+ZNxaF41O01dbt7tQF10o6bNG8ZttAAAAADj1nM6P9cEHDl111UjFxbVNBXbZZck677xztXfvfr/tu+P88+M0cODXWl8PHPg1fetb39ShQw653W6/bQEAAAAA0a+zYcnTz7FGfSTpG98caF7TBY1q/Lek/Rv085//yvC3QbWSPm+WpAs1+b9v05hzqvW7pffrvmV/UHlto/lAHfOdc/z5plHBZ39VX4uTGv/tPzV1QP9ulMu8DAAAAADQ4z799FN9/vnnOv9873N8W/TrF6tzz+0vl6vnemsxMTHq2/ccffHFF63TSwMAAAAAzhzRH/xt4RuEGwnnXHWHHn301+3+fjLKt0HccE2+d6FWLJiuSd/8ULbfLdMj28II2Jq1O+fP9fkX5mUAAAAAgN7oiy/8n9Pr8UhffEFAFgAAAADQc6I/+DvoQl0UK73/3t/Ma8Li+tQYgR2oiy7qo8/ff09/DyMI2+eriRpz51xNTpYOV+9X2ON/g53zx+/pwMfS4MRE/+UAAAAAgF7DYvmazjvvPL333vt+o28bGpz6+OOPddFFF/ptb/T555/L7T5hXhy2f//7mP7xjyP6xjcGql+/fubVkiSPx6OmpibzYgAAAABAFIj+4K+SNOaqOH1e/Yo27z+qk5JOfvw3bS7aro/9tvMGdvX+Xu34+KT0RaNqS9boxb2f+22VfGOGBrsq9bunK/Wvlriw+x/a/c4/vP8fsangMZtaZ3o+eUiHG6RzvjFQcZL0rW/qqzqqvx/wbnCy3eheSUrSTRO+pc93b9CTrzd4BwA3/k2bn7bp8FdG6KaxpumgAQAAAAC9Rnx8nK655mrt3btfFRU79cUXX+ijjz7Wxo0v69xzz9WVV6ZIhiBxdfU7On7crY8++ljr1m3SsWPH/I43YMD5Ouuss+Rw/ENffPGFTho6kkeOfKjXX39Tx4+79dlnn2njxj/rs88+0zXXjJYk9evXT9/4xkA5HP/Q4cP/0IkTJ1RSUqZ9+941vIP0la/00/nnx+mDDw7rxIkTOnnyJNNGAwAAAMBpKOaBBx54wLywN2ls/ETx8eeZF3fKBcMSFftepWxb7bK9ulW2Nw/pm9dcps/q/qHzrhinK7/p3W7gwHP0t/+r1Jtbt+vVsh2q7ZeuvLHNstfHacx1Q3WeJH3lQo1OitH7r9v055JyvfrqVr26bY/+FTNUIy7/umI9J/XxO1v10uZX9MqrW/WqbZf+2f8q5d45RgP7SjpvsM5zvKXt9u169dWt2n40QRmXW/TPPVv1Vw3XxFGDJElf+Y9RSjrrPW3/y6t6pXSrXt2+V//8ylW6494cXdb64+1/afer+yXDNUjyHuvTi9rOGQAAAACiVCT6jGaROOaQIf+fJKmsbJtKS8v1+utv6rzzztW0abfra18bIEmKjY3V559/rsrKt1Vevl2VlW/r2mtT5fFI5513ri69dKgkKS7uPP3jH0dUUfGGysq26ejRf+vyy4frwIE6/fvfx/TJJ59q8+Yteu21Ch0/fly33jpZl156ceu5nH/++dq9e6+2b9+h116z67zzzlVq6lU6fPgfuvrqkerTp4/69OmjmJiztWNHpWy2bdq9+69KSblcsbGxrccBAAAAAESmz9iTzvL08p/yHj58RIMHewOi3eZuVONn0lfi49TnQ5uWrtiub9xueFavJH1xUo2uz6SvxCkuRB/35KeN+uxz3/HMY6hPHlfjJ59L53xFcef2Ma2UTjY26rPmc/SVC/qp/VqDlvMJchwAAAAAOJNFtM/oE8ljnjx5Up988qnOOeccnXtuf/NqSdLx48d1/Lhb5513rvr0Cdzv83g8+uSTT/TFFx7FxZ2ns88+WyUlZXrvvfc1c+ZdkiS3+0TrOrOW8+jXLzbodNDynctnnx3Xueeeq759zzGvBgAAAIAzXiT7jD2hfY8wmsXGKe6CAIFao7P7KO6C0IFfSepzbgfH69PPe5wgAds+cXGKCxX4leF8ghwHAAAAANB79enTRxdccH7QwK98UzNfcMH5QQO/knTWWWcpLi5O558fHzC4269fv6DrZDiPjgK/8h1nwIALCPwCAAAAwGkqcK8QAAAAAAAAAAAAAHBaOXODv/2+pStGDNclXzOvAAAAAACg9xs8+JtKSrpEZ58dY14FAAAAADhDnVnP/AUAAAAARJWe6DP2xDEBAAAAANGht/cZz9yRvwAAAAAAAAAAAAAQRQj+AgAAAAAAAAAAAEAUIPgLAAAAAAAAAAAAAFGA4C8AAAAAAAAAAAAARAGCvwAAAAAAAAAAAAAQBQj+AgAAAAAAAAAAAEAUIPgLAAAAAAAAAAAAAFGA4C8AAAAAAAAAAAAARAGCvwAAAAAAAAAAAAAQBQj+AgAAAAAAAAAAAEAUIPgLAAAAAAAAAAAAAFGA4C8AAAAAAAAAAAAARIGzPB6Px7ywNzl8+IgGDx5kXtxpTU3H1dTUpBMnPlcvv2QAAAAAiFpnnXWW+vY9R/3791f//v3MqzstUn1Go0gdk34oAAAAAHz5Tod+aCSdEcHfY8ca1dz8hS64IE5nn81gZwAAAAD4Mn3xxRf6978bFRNzts4/P868ulMi0Wc0i8Qx6YcCAAAAQO/R2/uhkRT1PdCmpuNqbv5CX/3q+XS4AQAAAKAXOPvss/XVr56v5uYv1NR03Lz6tEc/FAAAAAB6l2jvhxpFfS+0qalJF1zQvQg+AAAAACDyLrggTk1NTebFpz36oQAAAADQO0VrP9Qo6oO/J058zi+tAQAAAKAXOvvss3XixOfmxac9+qEAAAAA0DtFaz/UKOp7o738kcYAAAAAcEaLxj5bNF4TAAAAAESLaO+zRX3wFwAAAAAAAAAAAADOBAR/AQAAAAAAAAAAACAKEPwFAAAAAAAAAAAAgChA8BcAAAAAAAAAAAAAogDBXwAAAAAAAAAAAACIAgR/AQAAAAAAAAAAACAKEPwFAAAAAAAAAAAAgChA8BcAAAAAAAAAAAAAogDBXwAAAAAAAAAAAACIAgR/AQAAAAAAAAAAACAKEPyNtKZ6VZZWqa7JvKKHuBvlcpsXdo5z8yItsTeaF0eYW9VPz9FTu8zLw+PcVy7bznq1XmqzW67OpvGpzhsAAAAA6EHuTncGnaopLVfNEfPyXioC/d0zgevAJq1atEgLFuWr+JB5bSBu1e0sl22fs21RF/rY7voq/376aamX1gm3Q5WlJSp+uVwVB7zf13Q+n788zn2m8hUJp+A7nXbfPX3Jwq5jprYy0H5uV2Po43zZjlSpcNkiLVi0SIW7esnZdqFtPKOdgnoaVFfy6ss83y44Lerxl65RdZsLtGDRIi1YViKHeXUgTfWqNH8W6MJn0B65951qp1mdQMcI/gbidqiytFyV9aYafqRWtgCF37mvXLYqh7fxddq1Yk6+7Kekntdq1ffSNHpcvqrNq8LVZNeyZXVKvDTOvCbCYpV8SV899+h6dSVp9j+fp1n5djVIktyy3TtKo6+eqY2dOdgpzZvOcx8q15IfjtXo4cM1+vqpWmLrpScKAAAAoId4A1E2419VfcAvn9ylczRi9CjN2NyZfkONnpuTp+dqzct7owj0d88ERzZp9g8WaePfjpvXdKBB9vw8zXq+xve6a33shm35hn766aoX1okmuxaMm6jcRYUqK39KhW8ca8vng53J5y/P/ueN5StCTsF3Ov7fPYWhfo0yh6VpSRcHOoQSXh1r31a226+2QJmj0zRuWS9uTZurtSTnLi23N0g6LinWvMWXoGtt4xkt0vXUF5Qzfi6q2OeUu9m8YRfzKtLn25NOh3rcCzg35Cnzl5v0/qfmNR1w2rXC77NA+3Y1HD1y7zvVTqc6gZAI/gYS26jK/DzNXuf/6d9RslCz5tylJ6uMS53anp+nX9mcEf5Y4tDan07UjPUd/T4lUdffmKKUrHQlmleFyfnyGhV/e5pyBpnXRF7sDdN0m/MpPbvXvKazYpWcnqGU74zXyAHmdadG5bKJGr/MryB0T/163ZmzRI5rl2h9xRbl3+jW2lnZPdaBAAAAANAbeQNRsxYt0fL8fC3Pz9evfjpJo0eN1YwN9X5bxlqv04QRGcpIsfgtP1Ui3idqp/v93c4Jpw/e+zjtJapsztT961Zo6eJ5yrrQvEU4vuw+9qlJ+54us5E6vnvbZm10pmtp+UYVPLZRRbkJcpSu9+bzc93JZ7MIpPvOfI0fl69K8/IzRZ9YxSpBCQPNK06lMNrKIenKGpGiSTcMbVsWkbyLQBlqUV2sLc5EzXn8SS1dvELTrjRv0MMOr9eMcTO19rBx4ZfdNqIlKDf3Qe9nouX5SzTvh2M1YtQkLa8yzmL5ZedVBOtCMIHqcU8KWCd6O6e2l1RJmQv1wiOLtfQXmUowbxKWMNrVnnRK0r6ny2xPHx/hIPgbULKGp0iuA3WGUapOVdprFR8fJ/sbxt98OFRbK1kv7VpT0pETDQ41dDjEPlYp/71WL/wiVfHmVWFxaMuGamV9f3yEA9fBJCvnloHa9FL3O0MJk1fphceyNTTGvObUcB91yHE0wM/vuypxin7/epnWzE7XUEuixv5iheZc4lSFvTf9/BgAAADAqWCdsVblr72q8tde1Vu7K/XCjweqYtE0zd1m+KLzwmwVvLhKOV/Kt1I90Cdqp7v93c4L3QfvfY43uiRJfbvZN/6y+9inIu17usxG6vgNRxyS4jTQWPB9o9y6m89m3U53d4MchxvO3GlII5wfXRNGW9k/RXNeXKv7Ug2z/kUo77pdhlq4XHIpVrF9zCtOkWa3Gg436IRpROmX3TbCK+Mh72ei8tcq9NbuV7X0BpcK75qmQsPv4r7svIpYXQgmUD3uSUHqRO92XI0uSX36mld0Uhjtak86RWnf02W2p4+P0GIeeOCBB8wLe5PGxk8UH3+eeXHYurp/7D+36Q8bv1DqPTfoIklqflvPLXTqpllDtbVC+sGtKd7Kf7hUq393SKn3zFDa1yUdq9aLz7+npB/doqHvr9eqh5fp8Vfq5f7GFbriW8YQq1vOfS/r6cef1qpHN6jSeVJDk636aqxvSovXSmX7c5VqGv6lg/t2amttjK64eoj6G44gSTUbFmn1/kH6znDfzwybG1X9YoFWrlqm58oPq/G8IbIOiVfAz05Om1av6KObltyoS88xLG+qV8UfntHjv/Ud44Ikjfz/2t7ZaV+jh6rO1Xcudsv2xCItefqgLrrxKg3q450yu+L3a/To8if0yjuH1Wdoioae3/bu8X2P6MWVtbriJ+nqaLCxc2eRHluR35p2/fY/o1c+ulZ3+NLdaV+jh0qa/NPE7VTNn5/R6icK9MimKjU0D5U1eUBbYLs1b76vgW8+ocUPF2idvV6fWsx509F1OFVTuk2lZTa984FTRw7s0tZtH2vQDVYN7HC/tuPanlip1Y8+qhcrnTp5oVXWgd737tPHmEtHtOPZDTpy1XT9cNSXcpsBAAAATomu9tladHf/QLp7zK7vf1Blj5fo6LU/ausHnB2rQdd8Vxf9rUCPrzupMXdd6+1LOe16almpPr38Kl3U0ikK1SfyHV9Z9yjt45b+6l45zr5EIy829RuD9m1C9InklsP+Rz25Mj/wsTvRZ+1Wf1eSu96u59f8VquXF2nroUYNuDhFCYGyJWAf/Aud/bciPbN7gK5NGeT3Hk77Gj204d+69NpExTvtemrZ2+p/w1C5S5/Q4oeX6rnywwG+A+goTYNpS8uHN1WpoTlB1ksHKtb3M37nvnK9Ztsm+4F/yfnhAb0d5HsD7/Pv1uihlQVaZz+sc5OHylW6Xm98LUs/yxjiPVagPnaI7wZcezboD+9dqjtutqjqiaVa8uh67ahr0teHX65BX2ndzOtorTb+Ll8rzNsETHvDdYRKsw762G06KrNtdWJsTLkeX7xUqza8IUdscrs6Ebw8dXT89oIfJ0Cebtumrdu2aeube1T34b+9yxoMdSJYura9m7cMFRTo4ee2yXFykK6wDlLs8Q7SPcx65txXrq2lNpXtO9R6rh8PukHWgdLB8idUrCz9LD1Gtpay8c9zZU1JVLx/Q9Nxe2HUpe90lnVQLjr+7il213o98NQufTU1RYOM35k57Xpq2QYdvfRaDR3s0v893qC0X2V4vzuU95Fejz9S0PpdX8KlVg0014cWEapj5raydb+W7y5Vq42LHlONL38C590lOly0Uhv/fYnGXOr/PVTNhkVavWeArr3C0BaGXXc7zgPJ+4ziba+V65U9B3W04ZDe2emrP7WbtOCx1xVjvM+ZrkW+89v00eW6atDH4ZU3U33Q36u0raxcL71ZoyMNh/TOzm16L+ZyXTWkf+C2MUTbrE6dU5vWfeLf09rVy/TQ8g2qdJr3qdXGRZvVcPlV+mrtei1Z+Bttjb1S37nYm2eu2k16ctlKLXlumxyu/rpo+BC/9/P/Tnepliwt0tZDJ/TNdm1H27FWbXhDdU0DvW1HyzWa7n0LHl6jgwk36qpz97V+Lz7yfIds+Z0oU4Ecq9aLz+/UgKx7NOE/fMv6xMuakaaTW57Q6n2DdOskq/p38T7WqXYlWHsbdl3ozn1MAct++PtKHcYizFvWB6oTSerzer4eD/G56EQnyljQNA2mw3bFey8u22bXex9678Ut9bgdV702rnnY+77/PFfW/3DplfX+5czcrirE/Vsy3PuuOuqtw4+VqvqffXRpgHofrH4FTnvDdYRIs7DuQR2V2VMc2/qydb3P5tXd/XsaI3+DSLg8RfHNe1Tb8guiarvsg1KUmpEia61dlS1Dgt+rUY1GaHiyYWc1qmLpJI1/oEqNA4bq639fryVTp6nwUMt6tyruu0Zj7lqvekuqpt+WLMeGRcr8zwLVSFKTQ9U7q1Tj/QFvhxp2bdLGXS1P8XCr4sEs3frbeiV8L0/Tvy1VLJqqFTuD/I7vnSpVXpKsZGOtO7BGmVfnaMnORg3/3t2a2Neu5XeN1ezStmMcP2DTxiq7CqfmaPnevkoYbFHfWEkuu+aOm6jZL7mVOm2aUvtX6cHvTvX7FZaSrUpxVWtPB9MW1D2bozF3Fciuobp4QKOqHsjQrGL/bY4fsGmjrV6tT7tx2zV39FjlrquX5dvTdNslh7Xxl5M0ucA8ctahZ+8Yq1vXO9Rv8FBZnMVaMjXL/xf0HV5Hg2p22gKff4f7SZJDhVMnalaplDotTzlWhwrvvDvgFA7ODfl66kiqbsuM/IhyAAAAAKebOGVNzpSc5dq+z7eoqV5lG2yqb/lFfdh9IqnywbGt/dWLtUeFcyZqyrOGjluHfZsO+kRqVMV9EzR+1iad+PY0Tf92nCqXGo/duT5rd/q7dU9P0oibf62KJqtyfpyhvvZ85Y6bI1ugEQgB++Dn6FKLSxuXFZn2cWr7swUqa4rzTiXYVK+yDU9r3qSxmvxMvfoNHqkEV2f7mYH40nJmoWoHZ2nmtyXbgzka/cMi1flGgnxYY1fVwWPmHU0aVXFfljIXbpLzgqFKONehtXfkaPl7/lu162OH8d2AJOlwoW69bqrWHuynhCSLnKVLdeuk+aowpmV9kSaPydGq2gTlTMvW8IZ1bdsETHufkGkWbh+7ozLrVb9+psbdsU6OcxOUcLJKT83J0a+2tV1rx+Up9PFbdHyccPPUp6N0lbx5v8hXhs5N18wfDFbtmrv00/WODtI9/Hr2YY1dZe90MJ3je+s1Y6KvbCRIlWvyNHmR3TDSNFR7EUj43+nMeL5Wg39wt8b2sWnJzWmabDpuqO+eYpMHyrUpX88ZyoEkObcWaVWpW3GDJMmqu1ZN0/CWlYeKNOW7ebIpVdPvydbww0XK/dl6BUylCNYx/7YykAZVbtikyiPeV4HzLkGDY6tU+Ohm73eTraq1aeUmvR+T4D9rYNAyFH4etGh0VKvi3QAPmDxSpY3G+5zU7lrku/4tLz8VurwFqQ+NjmpVVNUq0KW0axvDaJsV9jn5a9i1Sc8tm6YxE++TrSFeF4+MV+2zeRo/1XjsBlVusKny5fm6aeYmuQZblNDfG5yqezZHo2/+tWx9fNf3/EyNH+dfVo4fsGnjs/OVeV2OnjzQTwkjB8sVoEzVPZuj0TkFqh2Srenfs6rh+am66Zf2tjRqqlfZhirZn52qyb+pVt/BCbL0N0cRO1mmOiMmWTm3JEv211XpKx/t8ircOhZOu9JRextGXej+fUwByn5n9g0RizAJXCf6KjmMz0XhlrEO0zSQkO1Kg2p2VqneOBt4IC675t40SQs2O2VJSlC/g+t0a05+u3Qwt6uh7t+t3lioMRMXqqopXhcnSXva1eGO61fgtPcJlWbh3oM6KrPSKY1toYd5ejmH45/mRZ3S5f0/LfbMSrJ67i3zvnx/TZYnaX6Fx+PZ41l8tdVz71bD8uxCzwct+x0s9NycZPXc/OgezzHTsW4ubN3K4/m4wXPsZNtLT/UKz7ikVM/it1sWVHjuTbJ6bn7GsE8A2+dbfeflad2n5Zw9Ho/HY3wPkw+eyfYk/dxmWuryNDQc93v9p59YPUl3bPQ0+JZ88Ey2JynJ6rn5mTrDdsc9ZXlWT9LPituu2+Px7H90gt++Hk+N5zffsXp+1XLKZjWrPePaHdt3Dj9oS+cPnsn2e+3xeDzHGlyGVx7PnhUTPElXL/HsaVlwsNBzc1KqZ9amtrPxeFyeLT+zepImrPbs93jCvI4PPM/9wJjunvD2O1jouTkpy/Ok8dIC5U9doedma7rn3q3+1wMAAABEoy732Xy6u38g3T1m1/fvoB/o62u29EW9r7M9zx1s2yRkn6jl+CsM/dWWfos1z1P2qSe8vk3APpHHc/yVPE+SNc+zxbjjO6s945Kmef7U4Ol0n7U7/V3PsQaPX9f22EbPT5OsnjtfNPYHjQKk/clKz+KrrZ4frjPs82mxZ5ax7x6xfqa/46/keZKSJnh+845h4bFizyyr1TNudU3rIm//fJ5nu2EzI+9xTP3Lk3s8y77jn3/t+9hhfjdwdZ7nT8bi3u4cazy/mWD1jHu07Zxb0ufqJS0lM0Dah5Nm4faxPZ6gZbblva/NK/Y0tO7r/d4iaaFh25DlKdjxTUIeJ3Cetl8WOl0D5/1xz/HW6wyU7p2rZ+3Py2v7fKsn6do8zxZD2fC2Mwtbtw3dXph0pq5NWO3ZbzjvY8W++tRaLMP77unNB1I9SbetM9TR46ay6++DZ7I9SVlPed43LgyafpGqY+a2MlB99uVry/0jWN79c53nh0mpnsWVhmUd5UnAMhRmHphtnedJMt3TAi4LcC1hl7eO6kPA92qfluG2zeGck9n2+VZP0g9WePa0qxNWz6xXWsqK9/qTrp3n2W7czlemZxUbr8/bTiTl2Twte4dVpmpWe8YFvEbzvc/qScou9LxvLOPmzyadLlMm5s8+RqY8M+dVOHUsvHYldHvbYV2I2H3MVPY7tW84sQiTQHUijM9FYZWxsNLUKNx2JdS92Hccc/2pXuEZF6hdMR4njPt3WHU4nPoVKO3DSLPO3YMCldlTH9v6snW9z+bV3f17GiN/g+k/QiMvk6r31Upyas8b9Uq70iopRek3yPfcX7dq36lXfEqK6eHhyZqU3TK1iu9YyZLrqOGnJwMsivc9g8B91Km645JFjTrWrV9EDFTCEKl4TYEqnb5fMYV6zkG7OfDjZLH4fnflbpTzsEOKS5BcjYZfuUkaPENLpxseLtVUri2lUtbkTL+58K0pI6S392p/65I4nR8vHQ8yZ31NaYkcMZnKyzU+uCpOAwcYXgYRb/E986DZLZezXsdlkVwu+f9mNkEjr7IYXscp48YM6aBdVYc7cx0m4exnSVBCTL3+WLBJdS2/CmqXP7VaNTNfrh8/pZU3nKJnOAAAAACICuH1iaTEqwz9VUnWjEwlNNtU8XaYfZuA3LKV2KSsycoy7nhZilJUpeoada3P2qqT+8Zb1Nq1dTnlOCTFDZZcjX49247FpCojM07VxTa1jElzb7OpLD5Lk640bhjpfqYvLVN/qtsvMyyOz9Rtt8TJ8bKt3QiVwHzHSZ6mOcb+ZYxFXw/5dKFwvxtIUZrxmU7x4zXhO5LDXuUdabLPpuKDyZqabZwuLU4pKclyVVe3H43SIpw0C6uPHZ6072fK0rpvskZeJeloY9sIvUiUJ0XwOCHT1Zf3V96tX/jlfaxiO0yjTtazjlw7WVmGsmFNGSE1u9TYpDDbi0DCq2tp02+T1XDe8TdO0dR4h4pLvTMhhPvdU9qNWYrfVaxXW0baNZWrzBanSd9N8d/QZ+DgBOnAOq3eXC93y/deQdMvQnUskgZlaNKVjdpSWtW6qMZWIkdqpq43JntHwsyDiAunvHW6Pph1sm3u8JyCuDRVKX51IkNZg6WynW15IkkT/meJxhq2qyktkSN+iu7KNF5fsm7PTZFKi/1HJ4YoUzWlJXIkT1GO3zWO0MhLG7XHb8R4gu5+ILfjZ+xGokx1WZh1LFS7ErK9DaKn72Od3TcSsYhwPxeFKGOdTtNItSu+41inzfarPxowMPSzfcO9f4eow+HXL5Mw0qxz96COfFmxLUQawd+gEjQyJU6O+nq5m2tU+XayxqZ5bwTDr0yVa1e1HKrX+zVS2ki/OZ+DchwxTMHiqtfGB6dq9Ijhuu7mPK0uqW1tNLsuWXNeeFJ3n7tJuWNGaXTOfK3dFWqug/acOws0+6Y0DRudoTsXFcoeaMqh+Hj/RtHZIIek4pnDNWyY4W9midQcfiem4YhDutTa8QeHIFwHNmnJD9M04oqxuumeAhUHmjImgNj+vgB4czeuI5z9+o9X/kuLlVb3a2WOGqXx0/NlO2SaauRQlewHUzRtSnhlCgAAAMAZwuWSS1K/DvpKXe0TtfTvjnenT6QGNTgkvTzTf79hM1Xccuxu9Vk7uW+zU5UFc5Q5erhGT5ymBYWvh54KMIC0W25Twq4i/bFW3i/+S21KmJKtwKGfNt3rZ/rSctBAmb8bT0hIkA471NEEr218x7k00fSD9fCE9d1AO7GK6++7bklqcMihWi2f4H/t4/Nr27YJJJw0C6eP3R2OhrZ0jlB5ithxQqarL+8TBrcrQx3rZD3rNIcanAqzvQhPoLpmGWi66pjBShjc9r1c2N89pWbrtiHVKtzgDSy4t9lUNvg2Zfv9+KNN7I3LVfJQquoenKQRoyYqd1m5HB0UyYjUsYiyKOdHGXJtWO8LFtaqrNihCbdkhV+OwsyDU8NU3jpdH8wi0Ta3nFO4vINozHNF9zVNsdxwxCENTmh3XpZBg8N4T/8y1XDEIdXma7xf3Zyo5bXmcuc7tw5FoEwF4W464f2ng3rctTpmaldCtrdB9PR9rLP7RigW0bXPRd38bBCpdsV3nMTELnwq6vL9278Oh1+/TMJIs87egzqr52NbiDSCvx1IHpkmVe1RbW21qs9N0cgLvcstaemy1lar+lCNqg8nyprcyScUNNdq1X9O0qrDWSp6c7/e2r5WBYtzQzSSYRqQrjm/r9DeHRs1//JarZiaptwN4Vc9V8kcjfmJTQPnFWvv3kqVPLtC878bboMYp6lr9+vdd81/KzS2dZsTcp/026m9k27zZ5rQ9hVo8qQCOX5QqLf+WqkdL67S0ttHmLcKUzjXEUjo/WIvydbKLbu19y+rlNW3WLMmTNCSXYZD9E1U+i2TNdL46ygAAAAAZ7yarSVyKENpV5nX+PSKPpEUf/vaAPvt18obfBt0p88a9r6NKp4zVrmlFs3/y27tfXOLih6Zq0mDzduFIfk2TbvSoWJbrW/UX4KyMrryY90upOlJ3xfbBu7mTveWAx4nlO59N2CWqqU7zNe9X+/+b26IoHToNAvZx46ISJWnSB2nRRjp2oW8D7+edV/I9qKr2n3vFOC7qLC+e/KOnHSU2FTTEuTIypDVvFmrWA2dvEIlu3er5LFMxZbmafy4paoO8IV+ZOtY5MRmTNHUc23aYnd7R5odztCEGzr5vafCzINTrSv1IZAAx+lS2xxpgcp0V9M8dbF2BKibm6d3voxGrEz5cctus0mD05UapA2NbB0Lo70NqGfvY2HvG8lYRMQ+F3UhTduV5y62K53eJ8L37y7Xr1BpFv49qFsiWZ7Qowj+diA2OVlDXfXavrVajhvS2wrwhSkaGV+pPS/VqiZmpJKNs8SEo9am4oOJuv0XU2Ttb14ZGbGWZOXcv0UrM6XKkoqAv7wYOChBqqs3TKXglr3UJt2Yp4U3WNSp2/CFKRoZ36gKe6hpFhx6/0CiLh5iXu41/MpU6YDd8PD68NTYSuS45DbNn5LcySlbpEq7XYr3BffDvg6TTu4Xm5iuOU8Was4lTm15pbptxaB0zVmc3UFHAgAAAMAZ5+gmPbXGofjvT1ZGkD5kd/pEzjdsqlGq0i7vfN+mTYJGXhkn1+t21YTxJVM4fdZgQu7bZFeZTcr67wUa2zJHX5d5Ry05SmyqqapQ2ZBMTTBO1RdE9/qZ3rTU65Wq9EtLpyor6qXUVA03Lg4q2HFC6cZ3A81Vsm+T4q/0PR7r8lSlqUr2qrCGx7TpZJoF7WNHQqTKU6SOo3DStat53yZkPeuWzrUXHWlf1yS7aYpcHanS9gPyPc6tc989Wb4/TRMcJSrbV6XtWxOUdWMYQY6YWA1Nn601z83WUGextrQrkhGsY5EWk6rs2xNUVvq6aqrsctyYFfS+E1CYedBlrgYFK/XBdb8+eAU7Tmfb5k448rperQ2dbsHKdOVOQ/0IxlSmhl+ZKr39uiojNX1rd8tUAO69BVpeKllvmxzkO9Ru1DFzuxKyvQ3iFN7HQu4b0VhEFz4XmdutzqZppNqVYMcJpTv3b1Md7nL96kyahbwHdVNEyxN6EsHfjiQma2RMlQqfrTI1IilKv6FRW/5YLNdVIzp/Yx8Qr3jVq6baV1mPVqvwpwtV7LdRooYnSzXVVXI1S3K3++1We4eKNGNmkaqP+l6761VXL8VfMjTgVBqxyckaWlujutYPLLGKGyBp3x5VuyXJLUfpIs14NJybVIpmzk2VY83dmr3Z0fpLM3e9XZX1hs3qa1Ubk6zkIMFfy43ZmhBTrSeX+Z5X0OxW3eY5+tXL5i39xQ+Ik+prtcd37a5dRZqxsMS8maRaPbt6vWqcbu/1bZ6juesbZf2vll+nhHMdCUq8VFJ1lTed3G65w9jPvW2pch80TLdwtF7v/0uyXtr2cd1tm68Rw8ZqgT2M/AYAAAAQldwup5xOp5zOelWuX6rM6xepbGC28n+VHvQLzPD7RJLtmXxV1Hv7HK5dBfrp0mpZbsnVJIu60SeSUn48T2mONfrpvZva+j1N9arY6duxk31WP53Zt3+c4mOk6upq7/m7HbItmumdUi+o4H3w2Iwpmnq0RAsK7ErIDDTqLxL9TH8pP56ntE/Xa25LWjY3qvo3d2vJLoumzs5uf81BpPzgNiW41mtFQZW8p+dU5W/mhEiLTnw38F6hVq2v9R3boY33ztfaT5M18w7fz+ct2Zpzu0Vl86dpVev0wW45q+yqbv3iM1Dah06zcPrYbQKX2bCEVZ7COH5YxwlTGOmacsfdsvrKkPd5kG45qwq05I8tQwACpHtn6pmkhMRESXtVuddb9sP56qpFyPYioPDqmmv9/LZyc7Raq362VNWWKZqT7b2KTn331H+8brvlmIoXFsiekKkJQWO/blU8eJeWlLaVV9d7dWqQNcB3YBGsY8EEGgVq0FHeWW/JVUrpU1pQXKsJN14X9L4TsAyFmQdhuTxVaarVluJauZsl96FyLZhaoP0hpxpuL2R9GGqVVbXa87a3PgUry5Fqm4MqXaPldt/zOlvTLVvTsjo+siV7tqZaqrXkZwW++ttWP9Lm3u0/Ii9EmbJkz9bUATbNvavlWPLeO+zVCi9e5W43GjNomTpUpMnDh2tyUdvQpEBOtHwuOlwrW8FMjbutSA1XzlN+bqD2Xp2rY6HalTDa247qQuTuY/46tW9YsQiTDupEyM9FIcpYeGlqFKl2JUXZUxLk2pCvVVVOuSW5nVVa9fN8/+d1m3Xm/h2iDodVvwKlfcg068w9SEHKbJjCKk/dOD4ihuBvh6xKuUpyuxOV5vfgd99zf12NSkixdv7GPjhb83MTVfHLNO/87NcvlOM/V2iO3wfIBGXPzpTFtkijhw/XsOvyFfJHGnEpSuuzXnde45v3fcQkPXkyVwWzg3wgTExXxqC92mNoqMbmLtZYd5FuHTFcw4aN0q0vJ+rXSzKNewVlueVJldw/UjUPTtQI37zzI24tkM3R9osU59tVqsuYoLRgv0SPz9TS53J1/rZFyhw1XMOGj9KdthTNmR7007UkKWHyPE1LtGuB79qve8ChnBWz2998lKHbr6rS7HGjNGzYKI1fWKmL/2utigwfFsK5jrEz5snq8KXTiJna4gxjv6FpGvrOAo0f4cufa/JUeeViLTTcoBoO18stpxqcYfyKBwAAAEBUqlszVWPGjNWYMZM0o6BKA6esVvmrizW2gy+8w+8TJeq2DGn1raM0bNhwjZ5aJFfWCr10f1tgOWTfJkifSIOytealBRpV++u2fs/Vt2n1Vof3C63O9lmNOrVvuqbdn67jRVO95z9qqjYOWaKl3zdvZ9RBHzwmVdlTpJra84NMbZiotAHd72f68aXl8OpF3rQcnqZbi9ya9nSxFgZ53mhAl83WmsXp+vCZuzRmxHANGzFBS1x3a2GIbn7Y3w1k3KaRO+do3IjhGjZiohbsHKq71xVqmmGUWcr/FGvNj6R1d/i+Axk2SuMWbdb+wy1fBAZO+5BpFkYf2yhgmQ1LeOUp9PHDO064QqbrhbkqWjdPw6t9368MG6UxP7VJ3+jnO0KAdO9UPZOUfrfuu8yhwh96y/6Ml9tddHCh2ouAwv1Ox6rdC33l5pqpKnTnas2WBUpp+S6qk989pWXfJtXWKj5QkMNgaGqi9ixqK6+j763SyMULlBOgSEayjpklpKTIcqBAmfeWm1e16SjvBk3W7Rm1qnkvQ5PSg4d+A5ahcPMgHJYszclNVE1BjkYMH64RkwplWbpa07sy1Wqo+nBhtvK+b1GZ77va6/KDfAsbqbY5mNRkqeA2jRjuS7fGTK3cuFhjQ42ui0nRwi1Papq7SLde472+8Qv3aPj9W7TmFlMBTEzV+R2VqZZjaZ3vWN57x4I/1YZ+fujgFI201GvVTfNlM46ODlamjjbow2bpwyMdtx1l9431fi4al6NfbXYpbcFavf6H3A6f2x12HQujXQnZ3nZYFyJ3H/PTmX3DikWYdFQnQn0uClXGwkpTf5FqV6yzn9TS9AY9dedYjRg2XCPGLVXjjAXKMm/oJ/z799ApGR3X4XDqV5C0D5VmnbkHBSuzYQmrPHXj+IiYszwej8e8sDc5fPiIBg/u+gNQu7t/j2pqlLNJirPEBf8VXVOjnE1u9Y2zKD7oRibuRjkb3VLfOFlC7FRTMFGzm1ep/L+NtdMtl7NR6m9RfKgPFwF59z8REyfLAOP7O7V26lhV/Wi3Cm7s+LxajxHGNRi5jzrVGBPGPs1uuY42Sh2ma7DraFntTee+7dIpxH4tedpuP/n2PaHYjsoEAAAAEEW622fr7v6BdPeY3d2/O8LuE4XV7wvRtwnaJ/KOXm48Eau4AXHtp6HuRJ+1nc7s626Us1GBzyGYIH1wx7M5Gl+cpXLzs+gOFWnyhGJNKtuoaYMj0M8MwH3Uqcbm2I6/OwilpQ8cIK+CC6eM+ITz/YbvHIL284Okfcg067CPbdJBmQ0pnPIUzvHDOU5nhErXUGUoULp3pp6Fyp8wdNheBBLOdzphpEvY3z0Z63kHQdcWrekd8noiXMcM3C6nGhXiujrIu4r7hmuGntS7y9P9lgcUqAwp3DwIrbV8hHntoXRUHzpaZ9aZbcNhTHO3y6nG5vb5Eo6O6pPfvSycMhUsbzvS0saZjhusTLmPNkrx7c81MjpRxyLRrgRNr+B1TerkfcysM/uGk+cmwcp5sM9FnS5jodLUrLPbB9NybgHqSVCduH+HVYeDlhevYGkfKg3CvweFPocOhZO/3Tn+KdDdPlt39+9pBH/PdEc2KXfi65r65qpuP28hpNoCjf+JSysrOveLHAAAAADRq7t9tu7uH0h3j9nd/dHLuOyae9NMOWdXqMg8gqqTQSEAp5tGVdyXpRlHZmvH7yMwre/poL5IkycVauQfKiIzmhVhCRYcjaRgAbseR5mKLh18LvrSyhjQBd3ts3V3/57GtM9nukHZmvOfe/Tkho6frdB9blU8v07W/8kj8AsAAAAA6P2O2LVq0Xzlfm+migfNCzyVIoAo5VRFwSLNvTNLM4oH6r77z4DA7771WrBojjJvzteHWUuUR5AO3UWZii58LgJOKwR/oZQFFdpseI5Bz4jV2IcqVZAZZ14BAAAAAECv4z58WE71U/KPnlT52iDPFuyfqAm3ZCixp2fSAnBquR1yOKV+ydO05pW1mpZo3iD6OBwOSfHKuH+j/vJQujp4zDx6wMArs5Vz5UDz4ojqd0mGcjIS1fLk755GmYou4XwuOtVlDEBwTPsMAAAAAPjSdLfP1t39A+nuMbu7PwAAAACg53S3z9bd/XsaI38BAAAAAAAAAAAAIAoQ/AUAAAAAAAAAAACAKEDwFwAAAAAAAAAAAACiAMFfAAAAAAAAAAAAAIgCBH8BAAAAAAAAAAAAIAoQ/AUAAAAAAAAAAACAKEDwFwAAAAAAAAAAAACiAMFfAAAAAABOM65au4pfLpGttFrOZknNTlU+m68FixZpQVG13OYdepOmelWWVqmuybyie9z1VbLtrO+5a2+qV2VpuWqOmFd8WZyqCfN83C5jqgTYr9ktV4TzI/IaVbe5wFvGl5XIYV79JXG7GnuuzEWhHq+nHehKXjn3lcu2z2le3DudFvW4FzhSpcJli7Rg0SIV7gqvRDj3lbcrt/7tajgCtL2noV5ZJ5obVWMvUfHL5bLt8p1bF/L5y9JT7WKP59WRWtl64PNcl4X7+dLcVgbaz92oTlfxU62XfvbvfNuInkLwFwAAAACA04ijKEejb56jVX+2aW1BsfZLqn44W7kFdrkkHZcUa96pN3HatWJOvuwR/j6yYVu+ZuXb1WBeESlOu1bMydNzteYVwdU9PUnDRi9VtXlFRNTouTDOx106RyNGj9KMzS0Jbt7PLdu9ozT66pnaGOE8iSTnhjxl/nKT3v/UvOZLVFugzNFpGresZ3I4GkW6njr3lctWavyrUl2gL567mFf7n8/TrOdrzIt7odOjHn/pmqu1JOcuLbc3dOpuuf/5PL9y275dDYe57T099b464VDhD9M0eVaBNpav06rimtZ8XvXGafGpKOLtYosez6vaQs3q5Oc5273DNezOTerELuEL6/NlgLay3X61WvW9NI0el99Dn98io/rhbOU+6i03vaWUd61tRE8h+AsAAAAAwGmjVhufr1XC9OdU/uwqFf1lgcbG2LVxvVND71mtgsWLtTI3xbxT1+zM1/hx+ao0Lw+bQ2t/OlEz1veWMZqnXmxMrDQ4QRbzilMo1nqdJozIUEZKsLOIVXJ6hlK+M14jB7Qsi1DeHV6vGeNmau1h84rOcmp7SZWUuVAvPLJYS3+RqQTzJj2sctlEjV9W5b9wSLqyRqRo0g1D/ZfjlNn/fJ5m3btAD+bna3l+vpY/OFOZo0dpzMxNqms2bPhl51XE6kIwgepxzwpYJ3q76mJtcSZqzuNPauniFZp2pXmD8IRuV3tYt+/PYejp94jU8fdt1tp9CZr2h1dV9NhzKrk/XXpjs9Y6EzVz9apu5bNZt8t8j7cDvV/fPpIGDfwSPxeF01Ym6vobU5SSla7ElkWRyrtIlXtVa8ufnRqat1prIvnZP2yBPyd+6W0j/BD8BQAAAADgtNEgx2Ep/qv+X6ocb5ZiY/r6Les2d4Mchxu6NY3ciQaHGkJNvxfNYswLvgQXZqvgxVXKaf0Gs72Eyav0wmPZGmo434jkXbNbDYcbdMIYhOuS42p0SeoT4TLeCe6jDjmOmmpD/xTNeXGt7kuN81+OU+vSu/XCa6+q/LVXVf7mbr21doa+bl+kO3/pnQ1B6gV5FbG6EFygetyTAtaJ3s7lkkuxiu1jXtFJYbSrPSoC9+eQevo9InX8BoccitPXjYG8Zu84yG7ns0m3y/wpaAd6vV4wPDV0WxmrlP9eqxd+kar4lkWRyrtIlXu5dMzVA5/9OyHg58Qvu22En5gHHnjgAfPC3qSx8RPFx59nXhy2Tz75VHFxXd8fAAAAANBzuttn626fMZDuHrNb+7udqvnzM1r9RIEe2VSlhuahsiYP8H5X1lSvytdsKiut1kHXv3Rw305t3bZNW7fZ9fb+w2pw/UsH9x1UzOVX6aL+kuSWw/5HPbkyX4+/sleOsy/RyIvj5fddqNuhit+v0eO/Xabnyg/L/Y0rdMW3YuXcV66tpTaV7Tsk54cH9Pa2bfp40A2yDpTch8r1+CMFWvXoBlU6TyrhUqsGfsV40JZzLZXtz1WqafCda22Mrrh6iPofq9aLz7+npB/doqHvr9eqh5fp8VfqW9/bz9FabfxdvlY8ul476pr09eGXa5D5vXxcezboD+9dqjtutqjqiaVa0sE+rtpNenLZSi15bpscrv66aPgQxZu/JHbVa+Oah73v/c9zZf0Pl15Zv1MDsu7RhP9wyJa/Uhv/fYnGXNr61aAkqWbDIq3eM0DXXjFIXz36th4/mqpfZgzxrmxuVPWLBVq5ypvejecNkXWIKU9aueXc97Kefvzp1rQemmzVV1uT6KDKHi+Rsu5R2sct6Rggn512PbWsVJ+2lou2/Sb8R8sma/RQSZM3f4Lk3bCzd2r5U7v01dQUDTqn5eAtx9+go5deq6GGpHDXV2lbWbleerNGRxoO6Z2d2/RezOW6akh/7wYtebu0SFsPNar/hcm66PxAKeFUTek2lW2z670PnTpyYJfvOE2qeGKZnvl/g/Sd4QPbtjZei3eBnlr2tvrfYFXsrnDK22N66tFH9WKlU+cmp2jo+f9WTek2lZbZ9M4H3vffuu1jDbrBqoGq1cZFj6nGVzf8j9PBtXXmnFrVauOizWq4/Cp9tda7z8ObqtQQm+yX3077Gj1Uda6+c7FbticWacnTB3XRjVdpUJ+2+v7o8mV6sdKpkxdaZR1ofL/w3sOr4/Yl2Hn0/6uvnt6aovjD5Vq+cpP+PfRaXXq+8djedN0T/21d8a1AZaLNwfInVPzRtd7j+ZbFfitV373ogFYXrNPJ66ZpzCC1HtOcV+56u55f81utXu7NqwEXpyjB0HwfLH9CxcrSz646qrWrl+mhx0pV/c8+ujQlsV2b0dKurNrwhuqaBuoK6yDFnh26LgTbr/W4u9Zr1SO/0cMdtVeByr7CbK9bNNWr4g/PtN4PGi9I0sj/r+VIRt462a5OXPoPPRdGftZsWKRNH12uq+Lf86bp8g2qdJ4ra7s07biMBdJR2+6ur9K218r1yp6DOtpwSO/sbKnH7Tl3FumxFfmt9bLf/mf0irGctWtXFbk223esYNfe0f25o/2k8O9BHb1Ha51Ij5Gt5V77zwD510F56uj47XRwnPZ5us37ueiNXar5oMG7rN732UPGNvAJvfLOYfUZmqKh5vtOp+8D4dXRjtqB1s8v/zlU9S8W6KGlT+iVuhP6ZgefX4K1F0bht19t5ebhTVVqaE6Q9dKB7Y97pEqFj6/U8sdKVXdykK7o945+98pRjfnRLRr5SXjteZ/6bXr7a1P0w1G+FtvtkO2JlVrtS+/29yWDjj4jS1Lr58vva+CbT2jxwwVaZ6/Xpxb/e2u7ttLwuXSk79xrNizS6v3ezxeB8y5JfV7P1+O7B+jalEF+dchpX6OHNvxbl16b2BY8DqPcd9R++QnQH/h40A2ynmXXU8ue1d/96pJTFU8sU+lnbfec1vvzsH6qDqe8PdbSpvnq+YnAnxOvuHqI+gdsG0NfW2fOKZK61WeLwP49zVyFo07fvufoiy++MC8GAAAAAHzJvvjiC/Xta4wineHcds0dPVa56+pl+fY03XbJYW385SRNLvA9ILDJoeqdtWE+J61RFfdN0PhZm3Ti29M0/dtxqlw6UVOerW/bxGXXgokTNeP5WvX79t2aNLhWT951t9Yelj6ssavsnQBT/h4q0pTv5smmVE2/J1vDDxcp92fr1W7LJoeqd1appnXYnVmjKpZO0vgHqtQ4YKi+/vf1WjJ1mgoPGTapL9LkMTlaVZugnGnZGt6wTrdOmq+KoMeUdLhQt143VWsP9lNCkkXO0qXt9ql7Nkejb/61bH3SNfMHg1X7/EyNH2c6rsuuuTdN0oLNTlmSEtTv4DrdmpOvtifnJWhwbJUKH91sWCZJ1dq0cpPej0nwfhmZPE2P/cjqW+dWxYNZuvW39Ur4Xp6mf1uqWDRVK3YGGv/hVsV912jMXetVb0nV9NuS5diwSJn/WWB6P6nywbGt6Xix9qhwjimfm+pVtsGmevPoDIPjB2zaaKvXcQXPu77JA+XalK/ntvmfr3NrkVaVuhU3yG+xGh3VqqiqbRt5aeTL2yU2aeyPszS4tlAzJkzQ3G2N5i0lNahmZ5Xq2606rnrbJm3c5f+URL9rUcv1l2tTGOXt1utztMTmUuIP7tbYPjbNvS1fle4G1ey0aU/AqR4bVLlhkyqPGBaFc23hnpOfBlVuKNSKaWM1/pc2NQwYqpH9a9vl9/EDNm2ssqtwao6W7+2rhMEW9Y31lelx3vo+2Hd9S25O02RjWQnzPcJpX4Keh9HgwYqtKtKqTaaHoO7apBUb6qTB5h3CF3/jZGXFOGXb2nLs9nlV9/Qkjbj516posirnxxnqa89X7rg5spnryhsLNWbiQlU1xeviJGnPs3kaP7XIb1rpumdzNDqnQLVDsjX9e1Y1PD9VN/lGHndUFzraT5Lc9kW6aepTqh+SrTnTUiX7Qt26rCrgqLF2ZT/c9lqSDqxR5tU5WrKzUcO/d7cm9rVr+V1jNbs00DsFqRNh5mfDrk16btk0jZl4n2wN8bp4ZLxq26Vp6DJmFqptb3RUq+Ld0HfQumdzNOauAtk1VBcPaFTVAxmaVWzaqF27GsE2O8S1B70/h9ivM/eg4O/h8956zZjou9cmSJVr8jR5kb2tXIYoTyGP3yLEccLNU6mtDZz9klup06YptX+VHvzuVBUak74L94Fw62hH7YDkPb8lkzL0q52Nik8aqLr1S3XrXUV+9TVUexFQyPbLV25mFqp2cJZmfluyPZij0T/0b+NUX6TJ4+7Sqjeki5Pi1bhzocbPKWlbH2b9H3jDPM2/oSUy6VDh1ImaVSqlTstTjtWhwju9n0PbCfUZuZVDz94xVreud6jf4KGyOIu1ZGqW3z24XVsZQMOuts8XgfOur5ItLm1cVmS6Zzi1/dkClTXFtXs8RUflPlT75SdYf6CpXmXmzyS+z0plB9qu9vgBmzaWbwpd3oqm6rqbfy3b0URN+nG6ZJvvLdtBPidKgdrG8K4t3HNCJ3l6OYfjn+ZFnfLpp595Pvro3+bFAAAAAIAv2Ucf/dvz6aefmRd3Snf7jIF095jd2f9Yg8vv9Z4VEzxJVy/x7GldUuG5N8nqufmZDwxbtV92/JU8T5I1z7PlmGGzd1Z7xiVN8/ypwePxeI57yvKsnqRr53m2G7c5frz13w+eyfYkJc3zbDes/uCZbE9S1lOe9w3LPCeNL4zan5fH4/F4DhZ6bk6yem5+dI+n9a0/LfbMSrJ6bi5s2bbG85sJVs+4R2va9vO4PFt+ZvVcvaQtNYw+eCbbk3R1nudPxuQ/VuyZZbV6xq32HadmtWdcktUzq9iQzie975WUZ/N4rz5I2lSv8IxLsnru3ep7/c91nh8mpXoWVxq28UtjM2963FtmWBQ07Twez8cNnmPG9dUrPOOSUj2L325Z4EvfFYZ09Hg8+x+d4Emy5nnKPvUtOFjouTkp2/PcwZYtfOfRch0tafeDQk9bTgXOuzcfSPUk3bbO03Z5xzvME8/WeZ4kv/f2tOZt0s+KOz5vPx94nvuB1ZM0vyLEsgDX0onylpRd6HnfkObHW+tD4Pdqn5ZhXltY52QWXn57663Vc/MzdYatfGV6wmrPfsP1HSvO8yQlTfD8prWahfceoduXYOfRPn8a1t3mSbp6iedNw3ntf3SCJ+mOjYZyFtz2+VZT2W1hzjNzXnk8nmMNnoa2Js/jObbR89Mkq+fOF9ve2Xv8FZ497a7V6pn1im/nmtWecUkTPL95x7DNsWLPLKuhvgaqC2Hst32+1ZP0c5thg+DthjltO9deuzwNfonh8vzpJ9YO8sGcvl7h5Gc4aRpOGfMTVtseJB+MfMfxL7e+tGjXrpiOE6E2O5xrD3R/Dr1f5+5Bgd7D05J/1+Z5thjutd5rWGjYNnR5CnZ8f6GPEzBP2y3ztYGB2ubWY3XtPtCZOtr+vLw+eCbbk2TN9vymuq38Hi/O827r8C0Io70wC7uuBTyu4bNTkLQ5tuluv+sJp/77OVjouTkpy/OksboFS7twPiMfLPTcnJTqmbXJ+G7ez45JE1Z79vuWmNvKQPV5+3xTXgfKu5OVnsVXWz0/XGd4v0+LPbP86r2/gOU+3PbLT4DPab7PFn73OV+5NW4Xfnkzt4XHDd2EAO/vCZCWYV5bWOfUA7rTZ/NEYP+eFvUjf/v376eYmLP14Ycf6fhxtzwej3kTAAAAAMAp4vF4dPy4Wx9++JFiYs5W//79zJuc0eItvudRNrvlctbruCySy6Vj5g075JatxCZlTVaWcb65y1KUoipV10hqKteWUinlnvkaa9wmtuORdgMHJ0gH1mn15nq5W0aEBH1mWkeSNSm7bZpW9R+hkcmS66hvZMY+m4oPJmtqdrJhnzilpCTLVV0dfBTA4BSlGUegxo/XhO9IDnuVHJJqSkvkiJ+iuzINz/2MSdbtuSlSabF39IYvbazTZvunzYCBftP3aVCGJl3ZqC2lVa2LamwlcqRm6nr/RzL7DFTCEKl4TYEqnb4xQR2l3QCL4n3r3UedqjsuWdSoY6aRFolXGdJRkjUjUwnNNlW8bVgYIWk3Zil+V7FebRlV0lSuMlucJn03xbRlB/bZVHwwTlNzM/3Pe0quUppt2mIaWRwZ4ZS3OE2dl+v3DMDYEPWhnU5dW4hzCiKs/B48Q0unGx645yvTadNvk9VwffE3TtHUeIeKS/1HTnX8HmG0Ly3M5xGA5YYspbiKZWs9/1qVFTuUljlWAatRJMVbZPFlsdvllOOQFDdYcjWaxoNdmqoUv2vNUNZgqWynt+7XlJbIkTxFOZcZtokfoZGXNmpPkFFeCnO/gYMTpNKntKrK2TaSsKN2w6Bz7XWcLK2J0SjnYYcUlyC5GjscHWcWdn52mKadKGM+YbXtYagpLZEjJlN5ucZyG6eBxufJBhORNrvz1+4Vzn6dvAd15NrJyjLca60pI6Rmlxpb0zky5Slix/G1gVmTTW1zygjp7b3ar67fB7pTR/1cmqWcEW3lN/byFFnVqGNHva/DaS8CCqeupf5Ut/sdN1O33RInx8s278j1fTYVH5Sy7vFPm/gB/s9QD7v+t7AkKCGmXn8s2KS6lrLTQdqF9xk5QSOvMr5bnDJuzJAO2lUVaERxd8SkKiMzTtXFttZRuO5tNpXFZ2nSlaZtOxCp9qtTwilv/z979x8fVXXg//8FAUKjCdINlm5S9APKj0RNQEpiRaiFgDWhKkkViLUBW4GtAl0BXQtRARUI1RCtmK6atBaiLGG1JDUyEUxUmrQi8SMkrpR8Fjp8i2YqMtHIIGG+f8xMMnMzP5MJhPB+Ph55KOfec+6959eduWfOuTGzWe7RF0YG+prQQUjXFuCcJHS9fvAXYNCgaC6++CK++OJL/vGPTzl69Jj+9Kc//elPf/rTn/70pz/96e8c/P3jH5/yxRdfcvHFFzFokOdDIwHrwVJW35FK0jWTufkXBZQFu5yhhyaazMBrCxk9OtHtbyFlwMlWwNKEGYgf6vVxnE+RN62j/PEUDj06g6Rx08lZW4k5jGN15mPOJXybzJhpYN009/NPZGpeA7gvQxhQJNFRtMVpOmaGuPgODyFjh8YBZpos7XkzfLhxwT6jWLJ+koZ1a4nz4ZXjIee02zM6pO8whiUvb2LBRaXkTBzHhKzlbN7rZ6DP2si2R7OZkJTIDbctZmO5lyX+vImJIcZVzuGWksmcy+oo2uoYLLTtNrEzbg6ZITzkdJRtPPHGdzsOjSPevQ6cBZ71LZ74bxv3CFEYri2YfTx4K29nWBtnnY4dYqiZEXHExwVxTI9jBNG/GOL5NXQmd9/UzOaSSsfAyX4TZUfTyMrw3oqC5xx08/egutVCTcES0ickMmH6XFYUve1leXFvohkUA66RnqZjZmjIY6pHfkxnXUN73+NNMPESfrGNwvkxbJs3maQJWSwtqcPqJ013ofbXlj0FLLo5ldET0vhpbhHVh0P72RF0pTzd8zSEOuYUVN8ehKZjZhiZ4DHAFbSw9NmhX7tDMPFCvAeFzDOfw1KfwpWOsw8sW+ieN4mMXlgOrc5h5E7eB7rSRgMzY3bdpoLoL4Ljpa0NHdKh7cTHx8NRM0248mYMiSMMOxmF2v6jppL36ipSDz1G+rhxTL07D9MR351UZz8jR0YNcPxPSPkUnNTb5xC/t5g/NOAYTK8wET87kxB+Ehe2/qvrDPUtLp74zvSFbrp+be3nJJ1gnArc0/T0qdMiIiIiIiJy7nTHd8auptnp+B9utE8ZNcl+z5Z6+0nXsne7lhmWh/O2zJoxzLHEm8+leO1uS8O5L/9o4HVpOpfTJ+1/q9pov2dygn3U9avt+7wu02c8LyfjknB2e8flFHcts4/ytbynDx2W8XNyXxb2reUJHZdBtdvt9p1uy/n5yhtvy+k5l/y77/WTzvJbbN/hddliTyeb6u3/9UiG/RrDErNtnEviXf/zLfYDbekZl601/tvJeJ4d8rtjvI5556PsXMs6TttoP+Bc8tlzaW4Db8sk7lpmH2Vc5tFut9tPm3wes0P98Bnm5Vo6XL+9Y1xf59TG+7E65KWvdIzXFsw5ddCx3Oz2juXd4frd9zHWafsh+6aMAEsj243HCKJ/8XUevsJrVtu/61z29sCT0+yj7i3zscxlRz6XfW5batKVkvHanEuB/nC1/a22ZWU7Lo/ZYelPu71DWb213N/yyE5e2kJQ8VxONtkPlK6233yN7zhe89YeXH99omyxfVRChn3VribPZTi9pWe3d8gDDwHKM3CeBlfH3AXVt9u9l4M7X+l0qGfGNhy2Pju4a+94fw4unkvAe5DXYzh4LT9DvgZTn3yl7y6YdIzH9hp2uMh+m5+leO12P/13Gz913h5cG+1wXk4drslurBch9hdOXsvKS1vrsGy13W7/W2FGe/n4yhtv1xOg/fty8lCV/akFk+yjRk3yXk7BfEY2tksXw3l2yG8v8TrknbdrtdvtdnuT/Q9znEtkf1lmv8+4hLaBt3rvq9/p0H958PI5zfj5z25vK+MOyz4HU9+8nVMbL8e3d8xLn+kYri2Yc+oOnf7O5tTV+N3tgpj5KyIiIiIiItLT1ZvKMV85h+WzxxDZpV/axzP22misb1dT72uWw7BkxsZAtXPZ0pBFRDJi0iIKX1zECEsZO+qMO3TR1SmkUkt1bRdnJbXWUr0bYq5NJh5IvDYFDlZT41q22KlmTzXEJDN2WIh5E5FC5p3x7Kx4m/raasw3ZZAWZdypo8jYMWQ9vIMN6VBTXtVxdliDibLDw7nzwdkkBJGeO8u7JupJIfVq45bwiL1lLtPM5ezcX8tbu+LJuMl9ae4gXJ1CKo28VWu46vdqqCaascmBZlz7Z/msE3XG1zmFylc6Ybo2b4Iqb191+lgtbx2E1GsTPMMNPI8RRP8SqpRM5sSb2FHdQG21mWnpU/1O2A2otZltzxZijkkn80YfKbVUs9MEGb9cwWTXsrLBOvY2bzS051vitSnw3tvUGJb3DSSkeJGxJMxcQfmGdKgt561QqmrA/tpGdYUJblrMyhtju5b3dLI8PfI09DoWVN8eBF/pBBS2Pjv0a3cILV7Ae1CXhKs+hSsdVx/YTFW15xL3Hnz138HqShsNQkj9hT9e2hpv11DjUW8s1FQ1QkoKiYSYN51p/0Dk8Eks2VTEkist7Hi9QyfVpc/INdWh9QOhcawCYy43UV9bxc7L0pnmvoR2EHz1O6H2X161Wvi0E3XG1zmFylc6Ybk2CUiDvyIiIiIiIiI9QMzgaGhsYJ/z3VbWvcXMX1lu3C0oyT9bRqq5kHvuL21f5rOlkao9ja49mPtvY7CWLGeR632QNgs1BWvYfMSxR/zw4cAH1HxgA2zYbDaqHp3H6gpz23vtrB8fookExlzmDPAwnMQxUF9X61gC0eZ7Kb8OYjNZcmcsO5fPJb9tWUobltpq6vw9xPq4iPySBiw2wGZm2/3L2fzlGBbe5ViALzZzEdmxday+t4C64wA2zNuXsLSkmdSlC5zL9CWTOTse69a8tnf42Sy15P97nuPddwYJt+eQXPEcK8oamHbTDb4fch4pZv7CYudxAVsjhxoh5soRHZbDY3AMMTRSX+e89uN1FN2zkjLjfoDp+TyqGh15a91bwD1r6oi9PYcZHRI1OG0McOen7KKmMuf2E5StLKA6Pp1p/sZ+RySQQAP73nNch83WXrZ1axa0la3tSCmL7i/BmrKMhUEvIe18aL27jDKLDVqbqXthIb96LaQ3QTrEZjD3duc5ud7b2NLItkcLqGoBiGf4SKCuljqb40K81uawXZtvnSvvZBYuTXG2d2f7PV5H/r1rqIudzZJMz8iBjhG4fwngtDH/HO//21m4kh0fpzFjkqsV2ajKnczoibnOcvDhtBWLxYLFYuFQbQmrb53Mil2xZK1byWRfA3FR0cREQF1dneNcbGZMuQsdS6gaVRSyrtrZT7blWyZznUuZxmYuInuwiaXzXP2Ksz+trqOtu/LSFgLHM1O0cCFFbn3goYONEDOcK/yWN468C7q/jiR6MLB/n6N+Y8Nckcv8J71lhou/NuGrPN0EyNNQ61hwfXtgsTdlMi2ijk1rne8gbbVxaPsSfvWacU+DMPbZwVx7x/tzEPFCuQf5OEZwgqtPgdMPLp3gOPpAc+GC9j4QsDVWU+PK1k7dB0Jso176gWAF7i98CKatfVnCUle9aW2m7qkFrN4bS/aiTEfdiJ1GVhrU/WYN25x119ZYyiKvn1GDaP9Ott1ryHnUbTn644387RNIGNnxh1LBf0Zu4IWNJdQ7Pgi29QMJ/5YToB+wYfP3uchP2UWmzSb7eDkrCqqJT0/D38+pvNX7cPVfbT/0Kit3fA4+XkfRwpXsCKGeucRm5JDlPCfXO8JtjaWsfqra2X78fE50E7Zrk07R4K+IiIiIiIhIDxA/cxlzh1ez4jrHu9xueMRM1vpFfh8i+TQ0k8JXVzCu4TGmJjnfDffdOWzcZW57SBifU8TLyxJ4f+UMkhITGZ00mfkmuNT5ajQmLeCBq8wU3TGO0aPHMf+1fzIiZTj7cqeT5Hzf3IT7axm7agVZ3h5yEk/monRiTblMSExk9A15dJzL4Vvyf5RR+BPYcleq891245iSu50DR70/YAIgbQ5j9yxhSlIio5Oms2LPCBZsKWKua2ZBRDIrd2xirq2YWdc50py6ch+JD++g8Pb2i0hYtIk1k5p47qeTSRqdSNKUNTTPX0FG2x5uhs7kzrQG6gM85CQ6mdR+JfzUWb6jk2aw6XQOBYu8PPqKy2R5znCqHnJe+/dXYv7xepZ0GGgdzpw02DhrnKM8souxZqzn1Ycn+R6EJoHUFCi7bwbPeR9HCVh2qZlzoKGBmAAPORmWyeJbYtnpvI4b8hypOMrWRlG2IzxpWi7vX72C8t86HzQHKfmuZUweUM7SieMYnZjKvfUZ/O7hFONuQYhk8sOlPH27jSJnmY8eN4P8YzEMcj4Mnjx/GQnmYmYlJTI6aSE7fEyACte1+ZI6MtTydoi9fRPlDyfw/kpn+70umyJbDoU7VpBsmEUV8BhB9C++xCcnE3uwgPT7Kz3CY2+Zw7SGBurTMpjUNmDbTNMxCxxvosnf4O/BQmZNnMzEiZNJv2cjNZfO5unXd7LmRn/vlZ/E3IcncbI421ne2Wy7bDVrbjHuByNmp0HBHEc/eV02Rc3pbNi2qn1g2dWvsMXZryQyOmkaK/6roX1Qw1tbCBSvdRBjx0eyeV57H5heaGPu04uDemAeSn89OWcVk23O+j16HLNeG85jq9ONu3nw1ya8l6eblDH+8zTUOhZk3x5QTDprXsxh0O5c0sclMjpxHD81JbPk7g6dr6dw9tnBXHuH+7MlcLxQ7kH4OEaQgqpPQaQfVDpBcvSBY6l/tL1NJM0qwGR2Ddx24j7wSYht1Fs/EKxA/YUPAfsvZ71JrMt11JvEVGYV25j72zJWtv1gKZqMx15k7uBqVtzsqLtJ8yoZ++85Xj8DBGz/LiNSGfHhivb6et1iaq5dxUrDD5II6TNyGneOr2XRFEe9mrqyhiv+bTPFOR0HlNvEJTM2tpH8m5dj8jVz3l/ZRaSQORvqGwaRkdah0XvyVu/D1X+RzNwHJzGgfDkTkxIZPXExB24p4uHrjfsFIWoSa7ZtJNtWTM5EZ5nPKMAcE+Mc/PX/ObFN2K5NOqOP3W63GwN7kqNHjxEXN9QYLCIiIiIiItIt3xm7mmZX49uOW2iOiCY2JtBwTnBsVgvNpyKJHhztfam8VhvW482cGuDtmDaslmZORUQTO7h9m+24heZWP2m6a2nG0mJjQHQsHZIPht/z86GlGUsLRMdG+xwUC5gvuKXjbx+g6oFE5rOJj9ZNMm7qyNaMpdkGwVxPENfh4CgnomKJ8feg1aXVhvX4KSIDXJfPsjtSzMxpZczYua19YN2PtvpivA5nXgwI9ry9cdaPoK89EH/n5G+bUSj7BqWapaMXwqYDbLgxxPJ257c9hX6MoNqRgc1qoRnD8VurWXrNQnjmABtudN+5GYttgJdzDRNbM5bmwG0c13m3evaFHfhqM04+24LfeM5+GC/xghB8fx1cmXvwVc99laehvwwmT0OtY6Hu750zz722Ez/C3Gf7vxbv92cCxQvlHuTnGIEFc43BpB9MOqEI4pi+6rXPbaG1UZ/9QLD89hfeBdXWgjivtrrlZx9/7d8r1/V4y2+DoD8juz4bBJtHrnuBv+vyk0fmF7KYWpZB5X/n4GeY2cl3HfTbdoMV5GfXYPk9pxDqot90zpGufmfravzupsFfEREREREROW91x3fGrqbZ1fhynmksZuaMIsb+vsptlkxv1kzVAxnMP7aId34XntmsEgz3gVnjtnA5G8fw7tALWaQXJfNyVceZyHL+8VeeIf1YRkTOO/7af69krWbpzQuxLKqiWLNZzytd/c7W1fjdTcs+i4iIiIiIiIiEan8JK3KXkH5bHp9mrGZxrx/4tVBVkMvSn2Ywv2wIDzysgV/puvqSXFbcN4OZeU1krF58YQwU9GIqT5EL1wXX/o9Vk5+7nJwfLaRs6DKvy1WLnEsa/BURERERERERCZHZbAZiSHt4G396fBIxxh16G5sZswUGjplL4eubmTvcuIN0ryGk3p5JardOMDkbx3Bn5qgZGJzGyv8uY4Pfd/RKzxdceQ65NpOsa4cYg0XkvBZc++9NbEePYmEgY36yicrNOYzo7YPdct45L5Z9/td//RZ9+vQxbhIREREREZELmN1u5//7/z4J+3JbXV3Cq6vxRUREREREpPt09TtbV+N3tx4/87d//37YbKeMwSIiIiIiInKBs9lO0b9/P2OwiIiIiIiIyAWrxw/+XnzxxXzxxZf08AnKIiIiIiIichbZ7Xa++OJLLr74YuMmERERERERkQtWjx/8jYoaSP/+/fjnP49z8qRNg8AiIiIiIiIXMLvdzsmTNv75z+P079+PqKiBxl1ERERERERELlg9/p2/Li0tJ/niiy/4+uvTxk0iIiIiIiJyAenfvx8XX3xxtw38dvX9TV2NLyIiIiIiIt2nq9/Zuhq/u503g78iIiIiIiIiZ0NXv8h3Nb6IiIiIiIh0n65+Z+tq/O7W45d9FhERERERERERERERERGRwDT4KyIiIiIiIiJhY2usxbSnEZtxw9lga8Ya4oEt+ysx7bcYg3ssW6gXeCE6VkvR2lxW5OZStDfI/DrWgKmilkMt7UE2a3OI9dhCfUUl9ceM4eeXntomrA3VlL1WjqmiDksr0Gqh5oU8VuTmsqK4LsSyOru6q1/s9rJqaaSmR9Xp4NuYZ1/pJV6rDatbe++Zmjm0vcBRx9eWYzZuPkdC7xsvbN3eTv0Ivay8tJWe7Lxox+ee9WAp+bm5rMjNo+yIcav0Vhr8FREREREREZGwadqdx3151TQZN3SSrbEWU0Wl21819ce8PcpsIP9HqUyYkkedcZMfB15azH0v1RuDeyRbxRKSJoxj/vZz8xD5vNBax+qseayrbgJOApHGPbxrKOK+JXlUu7K2oYD0CalMWRtKbarnxSWLebHBGH5+6YltwlycxYTblpD/RxObC8o4ANQ9kUlOQTXW0Er6nAh3v+jS7WVlqWZ9iHXadH8io39aSvf0UsG1sY59pTGeDdP945jw3YVs654TDQvL1sWkP1TK3740bjmHOtU3XtjC3U4t+90/E1U6frjk7YdhnSorY1vpyc6PdnzOHStl0a25bPufk8Yt0stp8FdEREREREREeqym3Xnct2Q5v8rLY11eHuvWLmfm98eRNCOPGqv7nsP5/k3JJGdMYrh78NlytIT5Uxay+ahxQ/hEJtzAtKQ00pJjjZu6x548pk7Jo8YY3pPVlbHDMpwlz2xizar1zL3WuEOQLptERlIyM24cYdxydpyNvO/uOhu29BvY9lID8Xe/SOUL+RT/aQWTI6rZVmJhxC82UrBqFRtyko2ROqVm7XSmrq01BofAzOZ7pjO/pKfM0Tz7BvQDhg7hLPVSXgXuKyMZMymN5B9MZexgV1iYyi5sbdfCW+W1kL6Sl3+9ijUPphNv3KWbeW0P57pvFMdg8v0reNT1uejRhaRPGMfEhaUcanXb8VyXVdjagi/e2nH38tomejhLdTk1rek8vGU9a1YtI2OYcQ/prTT4KyIiIiIiIiI93FTy3nyDyjffoPKtGj7YuYrJx4vJmVfs9qAzkuRfbublB1OI8Yx8drTaaDraxCn3B6/hNiyTglfyyTpbo9u2JsxHm0JcMvIcs1qxEklkP+OGEEUls+SVzTyQEm3ccnacjbzv7jobtvSbMB+FmG96DuSdbIXIiAEeYV1lO27GfLxruX6qyUzThbwMaU+Ygh1EXxk/M5+Xn85kRER7WFjKLmxt9yTNVqBfeOt4KLy2h3PdN4rDyAW87Ppc9Of3+cvm+VxanctPH3KshgA9oKzC1hZ889aOu5PXNtHDnWx21IgBZymPpOeIeOSRRx4xBoqIiIiIiIhcqJqbvyAm5mJjcNA6H7+Bbbnbabp6PN9sKCH/ibU8UVpLU+QYxl4RQ9tYlqWa59a+R9SNI7BVPMuKJwo5HH8T4/+1H9jMVP2ukCfXreWVGgunhyWQMMT9SXyQxwDAhrn6D2zakMczr3+Aue+VHvtYqgt5vPYifnCFDdOzuaz+7WEuv2k8Uf93K7//eCR3zUom5mgl6zaU8vmI6xk5yD3tBrblPs2+mO9xzb/6H6Wz7tvK7/cMZsa9aVzuDOs3KIEfTmjl1WcKaIi/gxljogCo35rLxgND+UHikLb4tsZqXir8DRvXFbPrSDODr0gm3q14Dlc+SxkZ3Dv+OJs3ruXxpyuo+0c/RiYPJ8ZwataGUjat3UD+1nc51DKEaxKGEtnXsTT17p2VvPrneo41HeHDPbv5OOJqxl/mOC+ON7DtP/NY/2QJ7xxq4dLEqxn6Dbd095aQ/+uneOLF3ZitUVyeeFmHY4Or7Cv48urxXO5M2nakkmd+XUD+k1upsZwmfmQCQ9zS9tDSSNXvn+eZ36zlxcqjNF8yirHfcSZkYNlfya4KEzv3H8Hy6UHe272bz/q2suPFwOVZvzWX0n9ezfiYjx15um4rNZaLSAghT31y5eUaR3lGDRvD5YMcidoaa9n9ZiWv7zvM8aYjfLjnM4bemEB7bXBzrJaiZzaw7ukKDp0eyjUDP+Q/Xz/OxJ/czthBtF1T/dAbSWhLwIZl/2v89pnftuX3iDEJfLOtiR1m5zPlkPELUj9ztC9vbceVlq/25TXv3c7Db561NlP3SgEb8p1lfPFlJFxmPLb/OtvWJiZFYHp2DaufLOGdf3gpPz/1yV/6HfhJh5ZGat40sbOijsPWTzi8fw+7du9m1+5q3jtwlCbrJxzef5gIV5to6wOf5fUPj9JvRDIjnPWjzfEGtv3n0zz35JO8UmPhojHJjBj0OfUVu6nYaeLDv1s4dnAvu3a315+g2mhLIzVvVmD6Yy31Tc5zbYjgmu9exul9zn7xxyNofKWAx9c8y+uHTvFtQ19AoPI16Ez/tdrfNVgb2Vb4hKOv+sdFJPwfK6+X7GFwxi+Y9n/MmPI2sO3zK5k40vMnNvVbc9m4bzDXXzOUyMbdvPcvs7ljnHMfmxnTsxvY6Mzvjvcld2FqYx36yvZ40/6Pa5dCHi9v4ZrvXkaUj7Ib3XcP657byzdTkhna35W4K/2tHB95PSPcsiLYtuu3DMD53tXd7NxdzcefOurjxxFXM/6i93hu7Qv8r0e/ZKHq2bVUfNXevtruz6MHUhegvoXeHrz1jf77ZnD/7JJA5F5X2TVi+9Y1XPOvPuqD4fPOqifW8GLl0Q5xfH0eGdovlPPyfwwI3L943PueeIgnTRcxfspwjrvaadpl2PaW8EgIdcqbw5XPUvbP6x2fs5xhkf+awg8vP8jGgi2cvmEuE4fS6+9jGNuxMyyo/top0GfEdo42aWwT/xLzAc8ELM/wffb2xl+/YtlfyZum3VQf/MRRDs57kpc78QWp89/ZHLoav7v5+OggIiIiIiIiImdXEzVbi1g/dzJTHzLRNHgEY6MaKFoyndkvNLbv1tLIzq21VL+Qzcyn6hgQF09sVCRYq1k6ZTrzX2og7tYFTO5nYvVtqcx0jxvsMWim6oFpTL2vlFPfm8vd34umZo3nPicPmthWW01RdhbrPhhAfFwsA4zPb+PiiKwtJr/U8PK4vaWs33oI4owRQnDVTLLHQNXu2rZZJU17S9m2t/2tmod+O4Ok2x6jqiWBrJ+lMaA6j5wpSzAZZ3a9u5KJ01dS2xLDFaNg3wuLmZrtPqsYDr2QxYSsAhouy+TuHyXQ9FI2Nztn2DSb66iqbWifbeOusZiZE7PIb4gna24miU1bmDVjOVXOnW3Vudyc/RyNl2WyZG4KVK9k1tr2a/LQ0sjOrSYaXed/pJjZP1yMiRTu/kUmiUeLybm3BK+Llh4sJP27Waze00zijxYwfUA16+ZNZlGF1yPxaX01Oz80pHRpcOXZtLeUF9fOZeL0BzA1xXDF2BgaQsxTr5x5udoEk3+WQVxDEfOnTWPp7mZwlcNHQbz4r7GYmVPmkf8uXDEqhuY9K5m6pNywUxM1W0upOeb6t42qB65j4rwSGmNTuHvOGMxbc0n/cQHGNznWPDqZqY/U0jx4BFewL+T25TXvnfznmY2qRzOY9ZtG4n+0mLu/B1W52azf07GM/dZZgI9LmD89m82HBxIfDzWFi5mZW91eLwPUp4DpuwRIhxYzdXsagnt/rLMPXPSqjZS5c0mJquXRH2ZT5J71jcXM+n4Wq01Whjv7yaVz8qixNVG/x8Q+L0tUB91GW8zU7aml3tdFW6tZPSONX+1pJmbUEA6VrGHWvGKP9uq/fH0Itv+67TFM/Sax8NY4Gl5ayNQp7f0QOPPv5hms2G4hdlQ8Aw9vYVZWnlv9jicuspaiJ7cb6nwdpRtK+VtEPJHAkBuXsfxG10iTmaLs6dxXASlzF5OVYKbopwt8LAUexjZm7Cu9OHnQxDZTIyfxXXYDxgzBWprHi7s9S9uyq5j8ChvRQz2CA7fdQGXQpon6PbU0Orq2di2N7PTolwBO0mgqZefB9vd5njxoYltlacD61pn20LFvDNw3g+vcKyldM6Ot7C793xJWZ8+l6IhbWu5aGtm59bcsmzGZmc83MjBuLPHWMlZnZ3ik7fPzSNDnFfgYwfQvTXtL2VlbxtLbFlB6PJ7Y+AEdfnwUGWKdCkXMTTPJiLBg2uW6RxvLKoxtrAfcxzC241D661A+I4KzTXZsE/2DKs/wffY2CtSvfFpfTe3hE8ZocqGwi4iIiIiIiEgbs/kfxqCQdD5+lf3+UQn229bvs59wCz3w5DT7qITF9p1fOgMOF9lvG5VgH5VZZP/baddeJ+07FyfYR03baD/QFma3nyhbbB81apr9qXpXSHDHOPn6YvuohMX2He47fbjRPmXUXPt/NTn++ffnM+2jRiXYb3v+kNtOzvBbi+x/d/67acsc+6jvrrb/2e28Djw5zT7qrm12Z1J+OY6zzP6WcYPdbn9reYLHsd5anmAftbyqfYcTTfamk+3/tJ/YZr9nVIL9p6+0H9mRxnr7vg7XmmC/73Vn5PqN9imjptmf+tBtnxNl9vsSUuyr3nP+e9cy+6hRmfYXD7vtY6+3PzUtwT7lybYCsNvtVvuOexPs3129z253Hf/fTW7b7Xa7W155OFxkv83tGH9/PtM+KuM5+9/c9/EV1261N3lkhtX+Xz9P8FsO3vI+mPIMW556cOTlqHvL/NZd7+XgzpmOR/ux20+ULjDEc7SV+3e172P/rMl+wj1/69bbp4xyP99wty9DvQ+YZ85z3um23Wd98J1Xby1PsI+6frF9h1tX5riGlW7nE0R98pG+pyDSceXr866W7i3M2Qd6qx9taXkv+5MnXcf/u/3FWw19SKhttMN5Ofz9+Uz7qIRM+1N11rawk2WLHfljdgYELN+Ogm9rCfb7ytqPbT/tzIvFJrtjL2f+Xb/M/pZ7WnXr7VPc28E/ttjvGJViX1Xjto+h7no4XGS/bVSGfZP7bcJn3oWvjRn7Sm/t2Xiv8lV2f34kxT5qzha3+njSow838t12A5WBkZf66Lz/e/RLzv3czzuo+tbJ9tAxL4Psm53nftuTbmX3ZZn9vlEJ9tuKPPO8zeEi+22jUuz3lbpXLsc9dNS0jfYDzhDvn0dCOa9Axwimf3G2x1GT7PfvcitnL59NQq1TRsbPPu2MZWYsq/C1sZ5yHzO245D66yA+I3oy5q9D4PIMX556CLJf8VoOYrd36TubQ1fjdzfN/BURERERERHpQYaPb1/GDyAhLZ34VhNV77kFEs+CR3La33HWUsmOCki9ew4Jbu/0irlpNtkxZsoqPGdq+j+GDVO5CTJmkuG+01XJJFNLnfv0kLj5rLnbz0sVgdgbM0i2lmFqO/8GdpaZSU2fjOcbPLtBTCyxzsnFNqsF8xGIjgNrc/sMKQBGppDsca1pZMTBzj21ANRXlGMeM5usq9z2iUli7Mhm9vmY2QLAfhNlh8eQnTnGLTCa5OQxWOvqMAND4uKh4jnyay3tM1OCfC/bkLh4OLiFjdsbsblm+fmMG01sW2Y0Yzlqhuh4sDa3zZgJRtDlGe483W+i7HA02TnpnnV3dg7JrSZ2GGbd+LTfRNlhyPiFW/sBYgYH8U7EwbHEOOPYjls4dBJiaeaEYeZe2NqXQeA8G0L8ZVBWWECNxZkfPutDANfPJMNtBlpCchK0WmlumxEVnvoUtnScfWDGTEP9SE6C9z7gAG51aJln2UdG+l+BoCtt1MPIDLKS2utZ5NXJJNDMieOOfwcuXx+CaWsxs5mX7lbHI8ZwZ04yVJQ5Zrk58y9h7iImu6c1eIjnO9SHpjHj2mZ2VDjSBqg3lWNOSef73jr02HjiIxr5Q0Eph1x1x1/ehaWNhVfqTRnE7C3jDdfsyZZKdpqimfHDZMOevgVVBuEWoL51tj10EFLfPIYZmW5lF5XE2DFgPW6c4uwunrHj3StXNGk3pcHhamrdZ2EaP4+EdF4BjhFM/+KStpzHbvR/PwlHneq0sLSxnnsfC6m/DvYzYgDBlme48/Sc9CtyXtHgr4iIiIiIiEhPFhNDDHDSbQlPiGaQ+8MhSxNmIHaI4el7RBzxcWA+1r4Uslcex2iiyQy8tpDRoxPd/hZSZjwPZzy/hs7k7pua2VxS6XgQt99E2dE0sjK8jRSEwuYYiPL1UA+g1UJNwRLSJyQyYfpcVhS93XEZTa+c+et8cth0zAwNeUz1yI/prGsAPMrFoMmMmQbWTXOPl8jUvIa2eAm/2Ebh/Bi2zZtM0oQslpbUYfWXppvIm9ZR/ngKhx6dQdK46eSsrcTsZwzUsqeARTenMnpCGj/NLaK6M0sBdro8u5inTWbMxBNvXENzaBzxBFHHXZrMmBlD4gjjhiBYG9n2aDYTkhK54bbFbCwPcjnizrYvg8B5NoYlL29iwUWl5Ewcx4Ss5WzeG1SFD5KZJrcLDkt9Clc6zj6wbKFnWxu9sBxanQ/yXXXo28bI/nWljQZmxuysuoHLN1he2lpcfIcf28QOjWsvU2f+DR8eb9jLKJasn6Rh3VriHFhw/Phj2u0ZHdIHIGoqea+uIvXQY6SPG8fUu/MwHfHTSYWljYVZSiZzLqujaKvjR1S23SZ2xs0h81rjjr4FVQZnRXt962x76CAMfXMw+7iLjBrg+B9/n0e6eF4exwimf3GJiibg8HkY6pR3zkFcfycQljbWc+9jIfXXnf6MaNDZ8uxinvacfkV6Kg3+ioiIiIiIiPQWp40Bp7B1CAtOzJ2b+eijAx3+Ntxo3DOQSNJmzybGVEZ1i3OWWFoaaVHG/ULU8jY7d0H89Sl4H65opmzJZHIqYln+p/f54M87KP71UmbEGfcLUsoq3vGSH9vv9n70dimseadjvI/+O8dx3hHRTF70Iu+8X8X2B5NpWJvNhHmlwT2MJZIRM9dT/v77lD+dTmTFYqZOWUOdl4eE1vIlTPy5iSHLyvjggxrKX1jP8h8GOndvwlieIeeprWN9bj1lCAiGl3QCaW0g/8czyD+aQfGfD/CXtzZTsCqHzs7T6nT7CpRngyex5HdVfPDONpZf3cD67FRytgZXm0IRrvoUrnQcosne3DFvPvpoPZPb9ulE2XepjYYoUPl21mlbx3deessHb2EGkWmzyb7IxI5qW9uPP6bd6Hu0KfLKTDbseJ8P/pRPxoAy7ps2jdV7jXuFv42Fj2MmnbncRD02TBUm4jPSSDDuFkiwZXBWdaI9eOUlnU71zeEWzvMKpn8JVpjqlFGDibKjMC0lxbjFIcxtrEfex4Lur8P5GTF85RlynvbIfkV6Cg3+ioiIiIiIiPRglndN1JNC6tXGLW6GJTM2Bqqdy3y2OVbLWwch9Vr/j6A8jxHP2Gujsb5dTb2XQcROSclkTryJHdUN1FabmZY+1e/ElMBs1P0mj52txiWV3bRUs9MEGb9cwWTXun7BOvY2bzS051vitSnw3tvUGJZFDOjqFFKppbo2iKkkkbEkzFxB+YZ0qC3nrY5PKn2LiGTEpEUUvriIEZYydtQZd7BRXWGCmxaz8sbYLuZ9J8uzq3l6dQqpNPJWrSFj3quhmmjGJgc5OOYrnUAaTJQdHs6dD84mIcSB7nC1r1DyLDJ2DFkP72BDOtSUV3l58N0V4apP4UrH1Qc2U1XtucS9h86WvUtX2mgQQilfv7y1tYPV1LiWJHWq2VMNMcmMHebnHuJNRAqZd8azs+Jt6murMd+UEdSPPyKHT2LJpiKWXGlhx+sdOqkwtrHwi71lLtPM5ezcX8tbu+LJuMnHfceHoMqgs1otfNqZOtPV9uDiK51Q++YQ1FQHkW9dPC+PYwTTv4Soq3Wqg9Zmtj1biDkmnUxfP8YIWxs7D+5jgfrrrnxG9KIz5dnVPO3WfkV6BQ3+ioiIiIiIiPQgpufzqGp0/I7fureAe9bUEXt7DjOM67p5SGbh0hSsJctZtN3smAVwvI78e9dQFzubJZmekQMdI/lny0g1F3LP/aXtywi3NFK1p7E9EX86zERwzIrYWbiSHR+nMWOS60GbjarcyYyemEuV33eTnaLZYsFisWDeX0n+wmnMeqGJ5AfXM9fXw62oaGIioK6uznEuNjOm3IWOpQWNKgpZV+18b25bvmUy17mUcWzmIrIHm1g6r4A61/sSbRZqqutoe345IoEEGtj3nmOg12YDYjNZcmcsO5fPJb9t2UIbltpq6qwAZooWLqTIbduhg40QM5wr/JY3jrx7dB6rK5zlDVg/PkQTCYy5zLArkUQPBvbvo86RGZgrcpn/pLfMaBc/fDjwATUf2BwzqNoK1Vd5uglHnrpz5mXdmgVteWk7Usqi+0uwpixjYaDlFV1ip5GVBnW/WcM2ZxuwNZayaGW5cU9Pg2OIoZH6OmdZHa+j6J6VlBn3C1P78pb3AfPsSDHzFxa7bWvkUCPEXDmiw7KQ4KPOBiXI+hQw/SDTCYqjDzQXLmjvAwFbYzU1rmyNzWDu7c465HofZEsj2x4tcPY/8QwfCdTVOs7HZsMWchsdTuIYqK+rdSw12vGifQpYvr4E09Zi61h9rytdG+btS1ha0kzq0gXOWX/JZM6Ox7o1ry1vbJZa8v89Dy+vmiTh9hySK55jRVkD0266wefAvW33GnIedVuO/ngjf/sEEkZ6GXgLYxvzye+MOD9lFzWVObefoGxlAdXx6UzzM67js+0GLIMguAbpy8qx2Jx5tHAlO4KvZu061R68CFff7FMDL2wsod7iyE9XviX8W4AZqyGdV6BjBNG/BHLaMOPYZ50yU5SVyOisYvy86RtOW7E4Pxcdqi1h9a2TWbErlqx1K5nsa2A3jG2sx9zHPITQX4fyGbGNnzbhszzbhSNP3YWtX5FeS4O/IiIiIiIiIj1I6kjYOGsco0cnMiG7GGvGel59eJLPh+susbdvovzhBN5fOZ2k0YmMvi6bIlsOhTtWkGx4L27AYwzNpPDVFYxreIypSc73jn13Dht3mf0PQgDxycnEHiwg/f5Kj/DYW+YwraGB+rQMJrU9mGym6ZgFjjfR5Hfw18TSiZOZOHEyU+9YwbbPUli5uYqXc4Ybd3QzibkPT+JkcbYjP8Zls+2y1ay5xbgfjJidBgVzSEp05ltzOhu2rWp/gBqRzModm5jLFmZd58yPpGms+K+G9gd0wzJZfEssOx9KZfToRG7Ic8xsS/6PMgp/AlvucoSPHj2OKbnbOXDUBq2DGDs+ks3z2relF9qY+/TioB7ajUgZzr5cZ3mPTmTC/bWMXbWCLONDTmByziom24qZleQ4zqzXhvPY6nTjbp4mLeCBq8wU3TGO0aPHMf+19qkz3svTTcqYruepgSMvbRRlO/IraVou71+9gvLfZgbxUNglmozHXmTu4GpW3OxoA0nzKhn77zn+l2iMy2R5znCqnOU7+vsrMf94PUs6POAdzpy0MLQvb3kfKM+ik0ntV8JP27bNYNPpHAoW+ahNPupsMIKqT0GkH1Q6QXL0gWOpf7S9TSTNKsBkdg0ERDL54VKevt1G0U8nO/uFGeQfi2GQc1Bw8vxlJJid55O0kB2fhNpG48lclE6sKZcJiYmMviGPjlftQ6Dy9SHo/stW7Ex3HFNX7iPx4R0U3t7echIWbWLNpCaec+ZN0pQ1NM9fQUbbHm6GzuTOtAbqff34w2VEKiM+XNFez69bTM21q1hp+EEShLmNdZBAagqU3TeD57yPowQsu9TMOdDQQEx6gOVc/bXdAGUQWDJzH5zEgPLlTExKZPTExRy4pYiHrzfuF4xOtAfj7Emn8PTNvgwndXAti6Y48nPqyhqu+LfNFOd4+QGBQfDnFfgYgfsX3xKvTYHyxaT/1rPyea9TFj49Bhxr8j/T9WAhs5yfi9Lv2UjNpbN5+vWdrLkx2rhnu3C2sZ5yH3MX0meq4D8juvPXJryXp9v2cH/2Dlu/Ir1VH7vdbjcGioiIiIiIiFyojh49RlzcUGNw0Dofv5qloxfCpgNsuNGG1dIMUbHEeBtY86fVhvV4M6cGRBMbY3wUHvoxbFYLzaciiR4cTaRhENkXm9VCM4bjt1az9JqF8Izh3WW2Ziy2AV7ONUxszViaCer8bVYLza3RxA72cy4tzVhabAyIjsXbKduOW2hujSQ6NtpzIMJvuTjK4hRe4gWh7ZgBrzG4MvfkPLcIQ774Kk+g6oFE5rOJj9ZNCkuedmBrxtJsY0BI19FRW90OJc9bmrG0EESc4PLaf/vykfcEyDNn/uC1rnXks84GFOQ1Bkw/uHSC5yffXPzVIa/bQmyj/sonGJ2IH0xb81/fnFx13N8+hnYekOt6vOW3UZjbWJtWG9bjp4gMcF0+8/5IMTOnlTFj5zbfK0608V0HgyqDQIIso6B5rfNBbDMKZd9guOd5nOMeirFcguHvvEI+hu+y9cd23IIt0nB8X3WqpRkr0R3PNVzC3Mb812k/+eWrrdFeZsHexzyF0F+H8Bmxja/65Ks8z8Jn71D3F4fOf2dz6Gr87qbBXxERERERERE3Xf0i3/n47g+HjNvC5Wwcw7tDL2SRXpTMy1UdZyLL+cdfeYY0KCQi55/GYmbOKGLs76tY2eVlfc8HzVQ9kMH8Y4t453fGWaPSbXwOpoXR2TiGV6pTvYu/8jx3n73Fv85/Z3PoavzupmWfRURERERERKTb1JfksuK+GczMayJj9eIOA4VyflF5ilzA9pewIncJ6bfl8WnGahb3+oFfC1UFuSz9aQbzy4bwwMPGQR2RUKlO9S4qT+m5NPgrIiIiIiIi0iMMIfX2TFK79QfkZ+MY7swcNQOD01j532Vs8PcuOjkPBFeeQ67NJOvaIcZgETnPmc1mIIa0h7fxp8cnEWPcobexmTFbYOCYuRS+vpm5/l4zL+EXNZxpt6cx3M/yuF12No7hTnWqdwmqPM/2Z28RBy37LCIiIiIiIuKmq0t4dTW+iIiIiIiIdJ+ufmfravzudt4N/ra0fMVXX53k1KmvOXPmjHGziIhIj9a3b18GDOjPN74xkKiobxg3d6szfynhzAevcebvddBy3LhZRESkZ4saTN/vJNM36Rb6Tpht3BpWXf0i39X4IiIiIiIi0n26+p2tq/G723kz+Pv111/z+edWTp362rhJRETkvDRgQH8uuSSG/v37GzeFlf3ofk6XLsV+ZJ9xk4iIyHmpz7Cx9MvcQJ+4q4ybwqKrX+S7Gl9ERERERES6T1e/s3U1fnc7L975+/XXX2OxHNfAr4iI9CqnTjnub19/3X33N/vR/XxdmKWBXxER6VXsR/Y57m9H9xs3iYiIiIiIiFzQzovB388/t2qJZxER6ZXOnDnD559bjcFhc7p0qZZ4FhGR3qnluOM+JyIiIiIiIiJtevzgb0vLV5rxKyIivdqpU1/T0vKVMbjLzvylRDN+RUSkV7Mf2ceZv5QYg0VEREREREQuWD1+8Perr04ag0RERHqd7rjfnfngNWOQiIhIr6P7nYiIiIiIiEi7Hj/4q1m/IiJyIeiO+92Zv9cZg0RERHod3e9ERERERERE2vX4wV+961dERC4E3XK/07t+RUTkQnAB3O8s+ysx7WnE5hZms7r/KwgtjdRU1HKoxbjhfGKhvqKS+mPG8HOstZn66nLKXqvEtNfiCDtWS9HaXFbk5lK0N8SyOsss+ysx7Xeed9ichbI61oCpJ9XpYNtYqw2r+z7e4tmaCbWJn3WtFmpeyGNFbi4rius8+qdzKeS+8YJ2FtqpHyGXlbe20pOdD+24B7AeLCU/N5cVuXmUHTFu9cbGoT2G+5axXw2CrbG2w2er805PbRM2MzUVjs9FVQeboVPlfK50U794FsrK2/cFubD1+MFfERERERERkQvZgZcWc19eNU3Of9sqlpA0YRzzt4cwYGepZv2SPKpDiNLz1PPiksW82GAMP5fMFN2Rysz7CthWuYX8snporWN11jzy37UCJ4FIY6Qe5cBLi7nvpXpjcBedhbJqKOK+UOp0ayVLRyeSszXYCCEKqo3ZMN0/jgnfXcg2134d4jWQ/6NUJkzJoyeva1D3RCY5Tzr6pZ5SyzvVN17Qwt1OHYMmJve/2kavA6CdKqsObaUnOz/a8Tl3rJRFt+ay7X9CeQ1WE9V57vctL/1qEJp253l8tjov9cQ20VLNiinTycktYmflcxS9e6K9nA+HUs7nSrj7RaezUFbG7wsBNRaSPjqV1XuNG6S30OCviIiIiIiIyHkkMuEGpiWlkZYca9x0VtSsnc7UtbXG4PDak8fUKXnUGMPDJVzp79/O5v3xzP39GxQ//SLlD0+Cd7ez2TKchRvzWbNqPXOvNUbqDDOb75nO/BKzcUPwjpYwf8pCNh81brhARAwAIHbIuWk3DpGMmZRG8g+mMnawcZvLcL5/UzLJGZMY7goKU9mFr+3WseOPFkYs3kjhqlVsyEk27tDNvLeHc903imPQ5L7c1azLy2NdXh6/umcGE8ZNZv7WRo89z3VZha8t+OKlHXcr722ip7NUl1PTms7DW9azZtUyMoYZ9whGMP1qdzo7ed/ddTZc6dt2b2ebZRJrKrdR8PQ2inPiMVeUOMr5xa6Us0E47ovh+ix4vuoXSSTxxA8xbpDeQoO/IiIiIiIiIueTYZkUvJJP1tl5otyB7bgZ83EvU7nCydaE+WhT9y1dF670m8yYieZS9wfOrY55kJH93MLC4FSTmaauLBfYaqPpaBOnWo0bLhwDI4whZ1/8zHxefjqTET7PJZLkX27m5QdTiHEFhanswtd2rZywQqRzQP1c8NoeznHfKA4J8zdT+eYbVL75Bn95v4aXfzaEqty5LN3tWP4Vzn1Zha8t+OKlHXczr22ihzvZbAVggM/+MDiB+9XudTbyvrvrbLjSbzpmBqIZ4l7xnfeurpazh3DcF8P1WfB8Fc7ykB4p4pFHHnnEGNiTNDd/YQwSERHplWJiLjYGdUnrzg3GIBERkV4pYtoyY1CXNDd/0aX7clfjW/YU8/T6PJ55vRHbt65h4IHnef2f13PXrGTHQ2RLNc+treDLq8dzeZQzks1C/R+fZ+OzBfy6tJam1hEkjBncvhTriTpeeeljRv3kFob8+VlWPVHAlupGvoy9hmv+1bBgq81M1e8KeXLds7z+4VH6jUhmxKB+ziU9d1Ox08SHf7dw7OBedu3+jKE3JuCYNGDDXP0HNm3I45nXP8Dc90rGXhFD2xiozYzp2Q1sfPJJXqmxcHpYAglDOi4Wa9lfya4KEzv3H8Hy6UHe272bz4beSMKQw+x8phwyfsHkiEqeWbWG/K3vYo4c43kcHO9Wq/r98zzzm7W8WHmU5ktGMfY7jszynb57Ak5+0rE11rL7zUpe33eY401H+HDPbnbt3s2ud/dS//cmR1hjBNd89zKiAI43sO0/81j/ZAnvHGrh0sSrGfoNz8NZG0rZ9PRvyX9yKzWWi0hIHk7MqUZq3qzA9Mda6ps+4fD+PexqcKbb2kzdKwVsyHee38WXkXCZIS9c57qzklf/XM8x57l+HHE14y+L4nDls5SRwb2TIjA9u4bVT5bwzj+cx/ZIKED5emgvq9TPSsh/Yq2fOO3pPlFaS1NrPAkjhxBpnK5wrJaiZzaw7ukKDp0eyjUDP+Q/Xz/OxJ/cztgvKlm3oZTPR1zPyEHukRrYlvs0+2K+xzX/Gsnhyr1cOud2xjr3sR2p5JlfFzjz+zTxIxMYYiiTNmFqY5bqQh4vb2mvF23x2s+rfmsuGw8M5QeJQ3yU3Sj6vZ3HM+8P5vrkoR75aaku5PGtnzPy+uFug07Bt12/ZYDzvYVvmthZUcdhq6M+fjb0RhIspax4+m0i3PslZ/7Xu7Wv+q25lP7zasYP/SxAfetEe/DWN7rSWbuB1S/uxmyN4vLEyzyOZaku5PHai/jB6IHUvVLA42ue5fVDp/i2lzbq0hbnCpvjOtYUs+tIxzht1xvzMZufeIgnTRcxfoqzbFx9wppidh1pJmrYGC4f1H5iwR4DAvUvDWzL3U7T1eP5ZkMJq1c+xa7Ia/nBFcfb2um0/2Oj7g+rQqhT3jja/fHrf8Id45x79o1k6HU/5PL/KeCZLaeZOO96hnIe38eC7HMxtGMILS7YsOx/jd8+46r/pxkxJoFvdrxlOtuksU2coe//FPN8oPK0VPPc2veIunEEtopnWfXEGl6sPIrtW6HkqS/++xXL/kreNO2m+uAnjnuxqx0bk6GZQ9sLeXxDAVuqj3LRmBFYK0p4918yuDftMkdaxn4V//dvAOu+rfz+45HcdVssta6+qEPbcfLVvrzmvdt1BMiz4O5Bfuqs2/1jxN9c91rHZ0dj+dkaq3mp8DdsXOfobwZfkUz8xQHS90jBwXc6Xsp0t/Nz0Z/3cejTzx1hTe1twtU35299l0MtQ7gmYajhvuOsQwUFPPHibsynh3JNwlD4X2/3RcdnmrP6WTNA+XroVP+11v81+Pm+ELm3hEee28s3U5IZ2t89UjXPrd3K8ZHXMyLOyl+faSL1V2lc7txs3VtC/q+fcuS3l/tlb9PV72xdjd/dvH2MExEREREREZFz4NALWUycV0A1I7hicDO1j6RxX5lhp5ZGdm410eiaZWKrZumEyeRsaST2e3OZc+VRtj00g5kFxheWmXnhrsnMKjEzMG4EsZYyVmdneM7GslazdMp0Fr1qI2XuXFKiann0h9kUNQI0Ub/HxD6vS+w1U/XANKbeV8qp783l7u9FU7NmOrNfcC31aaYoezr3VUDK3MVkJZgp+ukCr8v1fVpfzc4PfS+f2FiykCl3bcF8UTzxp2t5bkkWv9rtNm/jYCHp381i9Z5mEn+0gOkDqlk3bzKLKhz7BEq/TYB0ms11VH0U5MvbGouZOTGL/IZ4suZmkti0hVkzllPlmPQEwKHibG647TFMx4cz42eTwLScWWtrsbWYqdtTS73bvg42qh7NYNZvGon/0WLu/h5U5Wazfk/HOSzN5jqqahvokITLxyXMn57N5sMDiY+HmsLFzMytdpsNE6h8vat5dDJTH6mlefAIrmAfRUuMcZzpLiyiIS6Dhd8D06NZTLijmEPus3kai5k5ZR7578IVo2Jo3rOSqUvK27fHxRFZW0x+qaHO7y1l/dZDEBcJDGHSsmVMcq0ye6SY2T9cjIkU7v5FJolHi8m5twSvNSOMbezkQRPbTI34e/Nh095Stu11vLXPe9kNYEyslW1rizF5zDaz8NYLBexsiSbePTiYthuoDFxazNTtaaBDzT9Wyzb3fgmAJmq2llJzzC1kbyk7XnsuQH3rTHvw0jc6+9QJtz2Gqd8kFt4aR8NLC5k6xbPtnTxoYltlKatnpPGrPc3EjBrCoZI1zJpX7L0+uOK8sJz0G7LYdHAg8WPjsFas6dCum/aWsrO2jKW3LaD0eDyx8QMcAyrOPmG1CSb/LIO4hiLmT5vWsa4EcYzA/UsTNVtN1Ly2nJsXlmKNiyU+yjisExlinQpFNBkz08FSyVv7nUHGsgpjG+u++1jwfS6GdhxaXBtVD1zHxHklNMamcPecMZi35pL+4wK8vp3da5voz8hgyrOlkZ1bf8uyGZOZ+XwjA+PGEm8NNU+9CdyvfFpfTe3hE8aIBs1UPZBB+spSLJeMIP4iM5vvymLdx557dehXA9y/2xwtYtYNzr5oVCyWUNuX17x3CpRnQd+D/NVZHHm0ZkbbvfbS/y1hdfZcio6073HotzNIuu0xqloSyPpZGgOq88iZssRZNwKl385/OsGWqcOhF7KYkFVAw2WZ3P2jBJpeyubmh6rd7nXNVOU669BFzv67cB73lJh93Bc5u581A5WvV8H3X/NfaiDu1gVM7mdi9W2pzDR83gr0fSFyzBCspXm86H7OgGVXMfkVNqKHAiQwL38uic5ttupcbs5+jsbLMlkyNwWqVzruux4pyPmkj91utxsDe5KjR90+IYqIiPRicXFDjUFdcmrpt4xBIiIivdKADZ8Yg7rk6NFjXbovdzp+QwFTbyskZtkOtt/tWguzmW33pLKiaRmV/53jeFh7pJiZ08qYsXMbc53vTbNamomJjW5Lqi5vOrP+6wZe/ssKktviPEf842UUzHSNfjVTdl8qSz+ez/Y3FpGADdOScdzXup6/PJ3eNsOr/qnpzKy7h3d+l0ksZopum866kZv4aN2ktuPZKpaQdD9s+HM+Ga6I+wuYmlXHgndeJKulmJnTSpn2px0scF1aq+8l58wvZDE1bziFH61ncltoNUtHL6TmpvW8+ut0YiMAGsifksVz12/io1Wu82nGYhlAbKxrloQzD22rnNfgK32jwOmwezmjFzbygFtZdAxrIH96FmU3baPyl2Pa0iq7L5VV39rMX1Yk+yh7GzZbJJGRtF1747I32H63awjGEcbTB9iQ5gzyk6cdz8uh6oFE5r+bxoZt+WQ4q239U9OZ+XwKhQdWMTmY8u3w2k7n+d69meJlzhnrbemO4em/5pMW5Ux3SQMLtr3BkqucO1nLWXTdcurnb6Ny0Zi2/Hsuehnlr+S0Letp3b6QCQ81tV2PpSSbiU+NofjPK0h17uNZdz2ZX8hi6qtplO+YzwhXoJ/8C08bcx63LMNve656IJH5uLUxb2XXWsvq6+Zx4JdVvDzbebyWchaNW82QzTWs7PCuaT9tN2AZGHmpj97O0VVHNx1gw42OkGDqW+fag5e8dKaT8OsaCtKdZdfaQP7NWTw3ZiMf5E8l0lUmT8KCLUUsSXLsZytfQtL9Zh54cxtz49oP4WJ+IYuphfGs+WM+Wa7u3ku+VT2QyPzXYsnYVMaGG131x1mnR3rpa93aR3DHCKJ/ceZXWWw6hX9az+S26buG8gm5Thn5KBdcZZPHcNexjGUVtjbWjfex2ND6XM92HFpcjluwxsQS49r+QR5T7yhlss9y8JL3wZRn2PLUU7D9SqB7sSOdfZ7tp7WOddOyKRrfXn4d+tUg7t/hbl+e9T5wnp0M6R7kvc662hXzN1P8S+e9tqWcReOWY37wDbbnOM/HasESGUtbdlhLmT8hF9uqKopvj/WdvlHAdLyXaYewhgKm3lZORof6sZohv3fUTe9lb8NGJJERPu45R87WZ83A5WtsEyG1tYb5bP/TIhJcn3fKlzDh/gYW/PcbLBnj6x7Z8ftCzaOp5Hy8mHc2z3aej42y+8a51V1PVQ8kMv/0Rj769dT2QD/51xt0+jubU1fjdzfN/BURERERERHpAeoryjFHpLM4x/0liNEMcX+frA9tD8xbbVgtjZwkFqxWPOdfxDN2vPvjqGjSbkqDw9XUHgVaKtlRARkz2x9kASQkJ8F7H3DALcyTDVO5CTJmtj8wB7gqmWRqqasHYuOJj2jkDwWlHHLNQurkw6TUW1wP4wDGMHY8cLzZbWZCdPsDX1szlqNmiI4Ha7Pf2ZYdhSmd/SbKDo8hO9N9EC2a5OQxWOvqMLvKPmY2yz3K3jXQ5csQ4i+DssICaizOq+9knnL9zLaBOFxl3mqluYXgyteH4ePbB34BEtLSiW81UfUe7emm3MOdroe/ADHpzLk9GvNrJscst/0myg5Dxi/aB34BYga3DxIBxN6YQbK1DNN7rpAGdpaZSU2f3PEhLDAkLh4ObmHj9kZsrhmufvIvLG0snCJSSEuPpq7M1DYL17bbxM6YDGZ4HRzyJsgyCDe/9a2z7aEjVzrzXAO/ABFjuDMnGSrKPGdEjswgyznwCxB5dTIJNHPiuNs+RnHJpLo/842ZyrQfgLm61nP2XtpyHmsb+HXV6Wiycwx97ewckltN7HCfqRXoGEH0Ly7T/mO128CvF2GpU50XljbWnfexLvW5IcYd3D7waztu4dBJiKWZEx2nOvoWdHmGO0/D1a840xkzlyXu7Scilkv91WMI/v4dxvblIYg8C/Ue5NsYZmS63Wujkhg7BqzH3WaTxrQP2NqsFsxHIDoOrM0hfZoJWzr1FeWYx8wmy6N+JDF2ZDP7PjS3l/21C3jQo+ydA7++nK3PmkGUr3fBtbXUu+e0DfwCxNw0m+wYM2UVjpUQgv2+kHpTBjF7y3jDNbeypZKdpmhm/LDjwC+uOlnxHPm1lvbP1J3MP+kZNPgrIiIiIiIi0gM0HTPDyASPAa5gWQ+WsvqOVJKumczNvyigLMjliCOjBjj+pxWwNGEGyhYmMnq029/Ccmj192CviSYz8NpCz3ijF1IGnGwFoqaS9+oqUg89Rvq4cUy9Ow/TkTAuJGduwrW4JoBlTwGLbk5l9IQ0fppbRHWQyxAahSWdJjNmGlg3zTNfp+Y1OPLdVfZx8cSHVPZjWPLyJhZcVErOxHFMyFrO5r1uD3u7zEyTheDKN1gxMcS0xXGmO3RIh8HZ+Ph4OGp2lGmTGTNjSGybGuXD0JncfVMzm0sqHQ8t95soO5pGVoYxdYfIm9ZR/ngKhx6dQdK46eSsrcTsp0qGpY2FWertc4jfW8wfGnA8LK8wET870zFLMihBlsFZ4apvnW0PHbnSMV5b7NA4j+P5ZsYcUgZEEh3lpayjotvfW4urTscTb1x5eWgc8YD5mL+DGo4RRP/iMiAq8Oh51+uUD1YrVmCgnzINSxvrzvtYl/rcEONaG9n2aDYTkhK54bbFbCz3stR6EDpbnl3L03D1K850Rg7v1JLjnbt/d759eQgiz0K9B4XKox9ptVBTsIT0CYlMmD6XFUVv0+in+vkUpnSajpmhIY+pHm1tOusaXHnvLPv4uA51yK+z9VkziPINlre2FjvEcNURccTHtZdp0N8XUjKZc1kdRVsdg8a23SZ2xs0h08ePeRJ+sY3C+TFsmzeZpAlZLC2pw+qvnkuPp8FfERERERERkZ7itC30d2vtL2DmjALMtxbxl/9bwzuv5LPmziTjXkGKJnvzAT76yPjnfUlGdzF3bvYSr32518grM9mw430++FM+GQPKuG/aNFbvNabSddbyJUz8uYkhy8r44IMayl9Yz/Ifhv7oOFzpOKSw5p2OefNR2xKVnSz7wZNY8rsqPnhnG8uvbmB9dio5WzszRBBYoPLttNOnjCHYWo05YcN22hDUQSRps2cTYyqjugXqTeWY09JIizLu5xLJiJnrKX//fcqfTieyYjFTp6yhztuDzrC2sTAaM4e515opMzU4Z/TEk5HmbZnmAIIqg7OsM+3BG2/pBKxLZ4OXOt3asRyCE0T/Eqxw1SmD+l3lmEkjdbxxi1NY21j33ce61OcGG7e1gfwfzyD/aAbFfz7AX97aTMGqnIADtl6FrTw7kafh6le8pBPIWb9/exUoz0K4B3VJM2VLJpNTEcvyP73PB3/eQfGvlzLDy3L2/oUrHaeUVbzTIW8OeC4Z34myP1ufNQOXbxcY7w2c6ni/8HZv68Cx0oW53ES968cfGWkkGHdziYhm8qIXeef9KrY/mEzD2mwmzCvt1A9PpGfQ4K/IBcZm/ZSmpk9psga+RYiIiIhB7ET6XjuTvtem0zeknyF3Xp8r0un7HWOoiPRGidemwMFqalzLswWp3lSO+co5LJ89xv9yeF7UVFdDTDJjhwHDkhkb00xVtWOGQPDiGXttNNa3q6kP4qFl5PBJLNlUxJIrLex4vc64uYtsVFeY4KbFrLwx1nO2XUjClQ5wdQqp1FJd63t6TGfL3iUydgxZD+9gQzrUlFeF+UFdaOXrj+VdE/WkkHo1benydg01HulaqKlqhJQUEnHlXyNv1QZxVSmZzIk3saO6gdpqM9PSHe909SsikhGTFlH44iJGWMrY4aVKhq2NhV0sWT9JczzYra1i52XpTHNfRjOgIMugs6xN+K71vnW1Pbj4SqdmTzeVSWst1bsh5tpk/4NCvur0ezVUE83YZD+xjccIon8JTVfrlBfHS3mu0EzMLTN9/hgjbG3sbN3HutDnBozbYKLs8HDufHA2CT7yK3idK8+u5Wm4+hVf6QTShft3uNpXKHkWxD2oS1qq2WmCjF+uYHLby3o7IVzpuPrm996mxucy5p0t+3bd+lkzlPINoGNbg+o9tZ47HavlrYOQeq1j2NbXvc2b2FvmMs1czs79tby1K56Mm4L48UdkLAkzV1C+IR1qy3mrQycl5wsN/or0NrYTNP19P7v2HKTps44DvO+uTGLs2CTGrnzHuElERKRX6nNFOn1/8AT9bp5H34SrjZtDk/BL+s3eRL/ZT9HX509mwyijkv4LXqTf4o/pN8m4UUR6m9ibMpkWUcemtc53lbXaOLR9Cb96zbinp5jB0dDYwD7nuymte4uZv7LcuBvQwAsbS6i32AAb5u1LWFrSTMK/uWYUJbNwaQrmwgUs2m5um1Fga6ymptGVRjzDRwJ1tdTZAJtj5kHyz5aRai7knvtL25ctbGmkao8jom33GnIedVvS8Hgjf/sEEkZ6H+SIHz4c+ICaDxznauv41caHSKIHA/v3Oc4PG+aKXOY/6fmALnD6waUTlNhMltwZy87lc8lvW+bThqW2mjrng8/YjByyYutYfW/7+yBtjaWsfqraWQ7DSRwD9XW1jiX4bDY4Usz8hcXUud5JamvkUCPEXDnC+zKJIxJIoIF97znOoeM1+xaofH0xPZ9HVaMjgnVvAfesqSP29hxmOE8w+WfLSP2yhKWudFubqXtqAav3xpK9KNNxHbHTyEqDut+sYZszLVtjKYu81nHHLJedhSvZ8XEaMyb5ekBto+rReayuaK/n1o8P0UQCYy4z7BrWNuaLl1mg7vyUXWTabLKPl7OioJr4dD8zevy13UBlEIyrU0ilgR1lDdhawXakkhXZBRwI+G7OjjrVHryIzVxEtjMdRztpL5PUpQsClEkQPi4iv6QBR3Gb2Xb/cjZ/OYaFdwVI2dkn1K1Z0NYn2I6Usuj+Eqwpy1joviRnoGME0b8EZKh7PuvUkWJmJiYys9jnm04Bx7tALRYLFksjNSVrSP9+LjuHZJL3q0k+B+LC18a67z4Wcp/rLpS4g2OIoZH6Omd5Hq+j6J6VlBn38+C7TfgszzbhyFNP4epXkm+dQ7y1hPUFtc42YKHmqSWO5YF9CuH+HZb25S3vA+VZaPcgX3U2KFHRxERAXV2dI47NjCl3oSEPg0g/qHSCE5u5iOzBJpbOc/XNzrKtrsOVrcl3LSDBWYcc7++1YaktYPUfnP2Pl/vi2fusGah8fQmurVlLlrene7yO/HvXUBc7myWZjpYT0veFqKnMuf0EZSsLqI5PZ5rPsV8zRQsXUuRWzw8dbISY4VwRbIOVHkeDvyK9he0Iry9PY8SI0Yy9Lo27bp/E2GsuJ/779/P6/wZ99xIREek9vrOEfg8dcQye3jzPMQA8r5IBj75Nv4ldHAQ+S/pED3L+3yD6XOK2Ie1F+i99m/4/XeIWKCLnvZh01ryYw6DduaSPS2R04jh+akpmyd0+n9QAED9zGXOHV7PiOsc7x254xEzW+kVeHvCmcef4WhZNGcfo0eOYurKGK/5tM8U57Q/FYm/fRPnDY6l/dDpJzneYJc0qwGRun/Uyef4yEszFzEpKZHTSQnZYgKGZFL66gnENjzE1yfnus+/OYeMus+NB3ohURny4on3bdYupuXYVK50PsjqYtIAHrjJTdIfjXOe/Fvy0g8k5q5hsc57f6HHMem04j61O99wpiPSDSidIyf9RRuFPYMtdqc53w41jSu52Dhx1fleLmsSabRvJthWTM3GcI99nFGCOiXE+VIwnc1E6saZcJiQmMvqGPOqik0ntV8JPneU+OmkGm07nULDIx8DTsEwW3xLLzocc53BDXggzYQKVr1fDmZMGG2c5rmdCdjHWjPW8+rDbAJAz3cS6XEe6ianMKrYx97dlrGwbAIsm47EXmTu4mhU3O/NmXiVj/z3HSx2H2FvmMK2hgfq0DCb5mTU3ImU4+3Lb6/mE+2sZu2oFWV6qZDjbWAdxyYyNbST/5uWYfM1w8ld2ESlkzob6hkEBl3P113b9l0EQYjNYkjOc+oIskhITSZpRROyajdzdmSVBO9MejGkARCSzcscm5tqKmXWdo91NXbmPxId3UHi7l4IO1fAUBu1ZwpSkREYnTWfFnhEs2FLE3CBmFDv6BBtF2Y4yTZqWy/tXr6D8t4aBsSCOEbB/8SmB1BQou28Gz7kPWPiqU8eb+LQVPj3Wsb90d6gwm4kTJzNx4gzmF9QyZPZGKt9YxWQ/PwQIZxvrtvtYqH2uu1DixmWyPGc4Vc72Pvr7KzH/eD1L/DZvP23CV3m2GU7q4K7nqYdw9StXLaJw1SQ+fX4eE5MSGZ00jdXWBawMcCsO+v6dNoexXW5f3vM+UJ6Fcg/CV50NyiTmPjyJk8XZjmONy2bbZatZc4vnXoHTDy6doLj6ZrY4+2ZH2a74r4b2gdthORRvWUZinfMz8ehxTLzHBN8a6Nzu5b54Fj9rBipf74LtvxJ4f6Uz3euyKbLlULhjBcmuVRFC/L6QmjkHGhqI8frjD6fWQYwdH8nmee31PL3QxtynF3f9h1JyzvSx2+12Y2BPcvRoEPPXRS501jdZNvlOShzvfSdyyKXE9AM++5QmGzBkARX7HuYqYNfib3NXKZD5B8wbpxhTEpFzKC5uqDGoS04t/ZYxSOQCMod+Dz9F32jnP10/4+0f6fj54+kPaS2cSuv/c48ThEmlDPjRROAEZ/44ktPVxh3CbSoRWZn0Of1XWl99EdcH974/+Sv9kobBp5s5tf7fDXFELjwDNnxiDOqSo0ePdem+3NX4YMNqaebUgGhiY3zNk+rIdtxCc0QQcVptWI83Q3Qsvnd1nkNENLGDvexka8bSbGNAVCwxhgE2m9VC86lIogdHd1y+s6UZS4v3eB0FOAe/HHHxe5xg0g8mnRA4895f2QaVf+5l5ywL/KTpznbcQnNrJNGx0T5n4fnj9/y8Ci4PgzmvtmP72YfWapZesxCeCe59xG3HDeJ6wtvG3NiasTTj/7r85JH5hSymlmVQGfAdlO31xVsb9JV+KIIqoxD4rW/e2oMPftPpBI88b2nG0hK4/LzyUx4hHyOI/qWDVhvW46eINOSLrzplO94MMeHJQ2/C28YC9PF+8t5vfQmxz/UQStxgytzIR5vwVZ4cKWbmtDJm7NzG3Lgw5KkX4ehX2srbS1n5Fty9B4LM60Dty0feB8qzUO5B/upsQK77jL/jBJN+MOmEwme+tfNXh7xuO2ufNelc/GD6r0D1DdqP7XcfQzsP+OMkZ5p4z+/epqvf2boav7tp8FfkvGdj1+JR3FVqA65i0R+3sXycc5bQ6RPszV/Fe7f+mvlXOII0+CvSc4X7A4MGf+WCNr2cAWnjARv2t9L5uuxDR3jsTCKy/o0+H83j9FtHjLECO+uDv95FLPiYiCsGafBXxKn3Df6KSGcdeiGL9KJkXq5ymyXTm1mrWXrzQiyLqigOx2xWCYrPwbQwOhvH8Ep1qnfxV54hDQqJyPmnmaoHMph/bBHv/C74JdcvFF39ztbV+N1Nyz6LnO/+5ylWlDpmM/3gGbeBX4B+g7h2afvAr382jpTdz00jvk18vONv7M+eY6/7Gl6nbRwse5Q7Jl7etk/85Un8fNN7nkt9/b2Iu76bxNjcN8H6HoU/SXLsO2eLnyXBREREwugS17pyn2D/2DnwC2DZTutzUz0GfiMWH2HAY0cYsPiJ9v38hDt8Amc20f/RTxiwwfn3UCkRHusoPUH/x44w4OFSImLn0W/px+37Plrp2DfhEfo9dMQtjc1EuH8jm7jZkcZjf6XfxPZ/Rwx33u9jsxzn6NouIiJygaovyWXFfTOYmddExurFvX/g91g1+bnLyfnRQsqGLvO9rKVIsFSneheVp8gFzEJVQS5Lf5rB/LIhPPCwBn4vRBr8FTnPHal+kyMAkXNZfKvbwG9ITrDr/gl8b8EW9tsiGfLtSxkSA00Vj3LL9LXsP+3Y6+Bzady44Dne/V8bMc59OP0prz82g59v+bQ9uVYbf//HpzS9u51ls2ewerdj25BrrsHPK15ERETCp/GIc4nkYfS9o5SI7/p+x2+fyEhw/QUR7jCSvrfOpM9FgPM+yTcnEnFHqdvgrTNu9NVE3PcEfYe63acvupqIzL/S/66F9P2mW/rfnEpE9iPt/+470Hkegxyf3F3/dn2K7+s6R+d2ERGRC5KZo2ZgcBor/7uMDTe63vvQe9mOHsXCQMb8ZBOVm3MY0dsHu3uYgVemkZU2HOfbJ7vF2TiGO9Wp3iWo8owazrTb0xgecGlcETmv2MyYLTBwzFwKX9/M3OHGHeRCoGWfRc5zbcs4p/2GQ0UzA67F73XZ5788RMLMIqyRU8h75w/M/jbACV6/N4mfv2rjh8/8L/95ayR8+SYFG2z8cOnNXHkRjiWnl4/iri02SHqYPeULGAbwv89x48RHOQgQM5E1//UHchIjHQ/H+7mfjYi4C/dSIVr2WS5sw4hY/A4R33G7M375MWc+LKJ1W/u7cwH6Lf+EvpfSYQllr+Ftyz4D/9+LnP79f3DGAn0yKun/fccAs31fJl9vfgd4kv4bsukD8NWHnPnjLzn91xNELKh0LNkM0PwerX9cSOu+kfR7cDN9YwHbe7T+Kp1Wj+N5LjPt9dxELmBa9llERERERESC1dXvbF2N3900P0Ckt4gZFHDg15ddm4uwAkN+/qBz4BdgED+8JR2A199+xxF00RQWPewa+AWb9QRXpzgHkD/4kL+5oraJ5NaNzoFfNPArIiJn0xFaN6bTuvdjOOMMumgkfVOfoP/av9Lv+119qdUJzrznGPgFsJc9y5lmx//3+fZMjz0B7PuncvqvHzrO6yPXMtQnOLM7ndZ9R4BKTv+/jx3BkTGOAWMREREREREREZEQafBXpLf4xyc0GcOCcoSD+x3/1/T7bMZ+N6n9b/F2xwbXcpaA7X/fpHBxGmNHfJsRCUmMXfyn9o0dDOPqKzs7JC0iItJVH9JacgOn1mfSWvMO9q+cwf2G0TejlH4e7+ftqu3gSn/AJf4/ZLsGo0VERERERERERMLM73MpEen5rrjqKsf/7N3Px26DtJ1iM/z7oksd7/91vovQavoFYyfeyerS/VwyaTFrXjKxZ+PNhkgiIiI9jOUdWrdl8vXK73J6r3N2LcPok9pxhm5YnLF5LCstIiIiIiIiIiJytmjwV+Q8N2zSFMd7dm1FFJadMG528Dso/C2+5Vz5csjPN7Pvrx90/Ht4IvAe6xdsx0oktz7/EbuLHiTnxqsYFjPQmKCIiEiP0Oc7jnfwtjvCmZItnHHO0O0zIJzvxV4I0c7/PfWJBn9FREREREREROSc0OCvyPlu1EKWpzn+d9e9Waz/i9sA8OkT7MpNYez9b2JtDzWI5Ie3OGbvNj3zSwoNL+612VzTgU/wuQ1gGCOvGOTaysEDrvcWioiI9Bx9vl9K//vK6b/gCfp+xy08LYO+33D8v/14ueO/XznvdYNGERHr2q+Uvpe6YnkzkD6XtA8u971jTnu6jS+279ZdXEtH9wuwxLSIiIiIiIiIiFxQ9KxI5Lw3iFs3/oHZQwD2UzBzNPEJjnf2jrh8NHe9eISm0ny2/9259yDnO3hN+aze/SkAkbc+zMokR/zV37+cm+bez7Ll93PX9MsZkfDv7PoSYBjDvgNwkPU/nsG9y+/nru9fzo0bDjrPQ0REpKcYT99x34W+kfS5Yh79Fn/CgMeOMGDtJ/SfPt6xy5fvcOaVIwCc+btzKejI8UQsPcKAx47Qf/pEOG18H4K7SPpMqmTAo3+l/8oj9PvuSEfwp5tpfdWRbnc68w/nMb6ZTr+H3qb/Q5X0u9a4l4iIiIiIiIiIXGg0+CvSG8RMIa+mlv+ccxWRANZPafrHp9iAyMQ5/Odfd5DjnPV07V0PchWA9T0KX3XN2h3G/Nc+cMa3sd+0hZItW9h1AK7KGM+gVoArWf7Sw1zbD2h6j1e3bGHXlzez5s0XmN12IiIiIj3Be7Q+mU7r3g+xu8ZvIyOhn/P/j22n9flMWp3/tL+6ljPHnDv2i4TISOz/bxOn3zvs3MOLzypp/dsRuGgYfVw/rPqsktYX/71tUm53OvPGi5z5zHnO3xxJn29eTZ8rnO9xEJHeraWRmopaDrUYNxi02rC67+Mtnq0Zq7/fufQErRZqXshjRW4uK4rr6Cmna+vxGdezWPZXYtpvMQafFaGXlYX6ikrqjxnDe6huaMfnsrykp2nm0PYCRx+8thyzcXOP15nzt3Foj6ENGO+pQbA11mLa09hj7lvdyWZtDvk6z6t+phPlLyJyrvWx2+09+pVkR4+eL5+2RXqI0zasx084Bn6jLiXmIuMOgO0ETVYbRAxiyDedD6xd2uJHEjN4EJGuB+XG7d7iikiXxMUNNQZ1yaml4Xyfqcj5q88V6c4BWhscLueMj2cMfRJm0ucbwKfbOeNcMSOg70yl76UxcOI9zvyt+2f8GrWd81cHOVOvVzHIhWvAhk+MQV1y9OixLt2XuxrfryPFzJxWxoyd25jr8zcfNkxLxnGfaRJrqjaRFestXgP507N47sscXn5nGcnGJHqIujWTmVUSw+TMsUQPn8mGnHN/praKJSQtMTH58SoKZzrfFyB+VT2QyHw28dG6ScZNnWChvqKOo+5Bg4eTkjycGMNX1M6VVTVLRy+ETQfYcKNxW0/TPe04vOUl5zPL1nlMzD1EcvpkrhiSwoIH04k37tSDde78zRTdNp11I11twMs9NQjmF7KYWpZB5X/nBHHMnseyv5J9HqPl0Qz/XjIjjB1tQwFTbyvkZM5m3nkw+F7o/OlnOlf+ItLzdfU7W1fjdzfN/BXpbfpFEjPkUoYM8THwCxA5iCFDLvU+eNsW38vAr/t2b3FFRER6IPvfyjmzdztn9voe+AWw12937BfswC/A3ysdcc7BwC/u56yBXxHxEMmYSWkk/2AqYwcbt7kM5/s3JZOcMYnhrqCjJcyfspDNHqNqnbAnj6lT8qgxhoesjh1/tDBi8UYKV606BwO/ZjbfM535JZ5zxSITbmBaUhppyXoCfG7U8+KSxdyXu5p1eXmsy8vjV/fMYMK4yczf2uix57kuq5q105m6ttYYHEZe2nEowtXmzwPdXxa9kYW3ymshfSUv/3oVa4IaOO1JwnX+wdxTu5P3e1F3O/DSYu67fwWPOvvZdY8uJH3COCYuLOWQawklgMsmkZGUzIwbR7gFnkVh+8zhy7kufxGRztHgr4iIiIiIiEgvEz8zn5efzmREhHGLSyTJv9zMyw+mEOMKarXRdLSJU+4PdTvD1oT5aFPIS0B2ZOWEFSIjBhg3nDWnmsw0GZd6HJZJwSv5ZHVqtE3CJWH+ZirffIPKN9/gL+/X8PLPhlCVO5elu5vbdzrHZWU7bsZ8vOstwTcv7TgU4Wrz54HuL4ve6CTNVqDfueuDuyZ85x/4ntq9vN6LzoaRC3jZ2c9W/vl9/rJ5PpdW5/LTh6qxuvaJSmbJK5t5ICXaM+7ZErbPHL6d6/IXEemMiEceeeQRY2BP0tz8hTFIRESkV4qJudgY1CWtOzcYg0RERHqliGnLjEFd0tz8RZfuy12Kb7NQ/8fn2fhsAb8uraWpdQQJYwbTtu7OiTpeeeljRv3kFob8+VlWPVHAlupGvoy9hmv+tX11Hkt1IY+Xt3DNdy8jyiPe7Ywd5NinfmsuGw8M5QeJQ7A11rJ7ZyWv/rmeY01H+HDPbj6OGEW/t/N45v3BXJ88tO3V6W3pb/2ckdcP9xh0suyvZFeFiZ37j2D59CDv7d7NZ0NvJGEIgA1z9R/YtCGPJ0praWqNJ2HkECK9/Sy9pZGaN03srKjjsPUTDu/f40inTzXPrX2B/21LE8BC1bNrqfjqasZfFuUIqS7k8dqL+MHogdS9UsDja57l9UOn+Hbi1Qz9hvuBwNpQyqanf0v+k1upsVxEQvJwYk41UvNmBaY/1lLf5Dj+roYIR35aqnlubQVfXj2eyx2Ha09n7QZWv7gbszWKyxMvI8Yt00I5J5e2OFfYMD27htVritl1pGOc+q25lP7zasbHfMzmJx7iSdNFjJ/iLJvjDWz7zzzWrylm15FmooaN4fJBHifGc2vfI+rGEdgqnmXVE2t4sfIotm951ikAbGaqflfIk+ue5fUPj9JvRDIj2tJqYFvudpquHs83G0pYvfIpdkVeyw+uiOFw5bOUkcG9aUOp+8OqkOpUR4fZ+Uw5x6//CXeMc+7ZN5Kh1/2Qy/+ngGe2nGbivOsZiuvaDGUVqI050yfjF6R+VkL+E2t55vUPMPe9krFXxHics+/8sFBfsZuKnSY+/LuFYwf3smv3Zwy9MQFHtW1vC17Tbm2m7pUCNuSv5cXKozRffBkJlxmO7eTejiH4uN7bvKMNtZXXpAhHvXuyhHf+4Wwbnhng/zo8eNYPR742You7hmuGRmI7Uskzq9aQv/VdzFFjSR3h1rhwz+u1vFJj4fSwBBKGeNZP25FKnvl1gbMtnyZ+ZAJDvhGoLAycx3nmN478M7aDoNu5q806827c+OFE2R1l09b2r7maoW1Jd3f+tKf/bYtbWpFjfJSZI9927q7m408d+eaqH4ScD7ms/u1hLr9pPP32dDZ/vPB7zf7P31Mzh7YX8viGArZUH+WiMSOwVpTw7r9kcG/aZeDtnorjPlX1++fb6krzJaMY+5329K37tvL7j0dy122x1Lqu9VALl3rr8139tHGfFj/3Ivz1QQ7e24T7gX07XPksZf+8nrtmJbf1yZH/msIPLz/IxoItnL5hLhOH4qxbT1PvcV+2Ydn/Gr99xnVvPc2IMQm4LyLY1s+MP87mjWt5/OkK6v7Rj5Eh9DP+P3O019P8re9yqGUI1yQM9fjMYd1bQv6vn+IJH/XYxVv5BxsXAtcVETk3uvSdLQzxu5u3r1giIiIiIiIicrbZqlk6YTI5WxqJ/d5c5lx5lG0PzWBmQYNhRzMv3DWZWSVmBsaNINZSxursDI8ZjycPmthmauSkRzxPTXtL2ba3CYBmcx1VtQ3tM3kAGMCYWCvb1hZj8phxZOGtFwrY2RLdYQnNT+ur2fmht6Upm6l6YBpTFxbREJfBwu+B6dEsJtxR7Ll8pEuLmbo9DXRYrb+lkZ1bS6k55h54kkZTKTsPtl/tyYMmtlWWsnpGGr/a00zMqCEcKlnDrHnFuJ/doeJsbrjtMUzHhzPjZ5PAtJxZa2uxtZip21NLvWeGOLQ0snOriUa3PDn0QhYTbnsMU79JLLw1joaXFjJ1ynKq3OIHe07uTh40se2F5aTfkMWmgwOJHxuHtWINs2Z4pt20t5SdtWUsvW0BpcfjiY0f4BjYaixm5sQsVptg8s8yiGsoYv60aZ6zY1sa2bn1tyybMZmZzzcyMG4s8daOdQprNUunTGfRqzZS5s4lJaqWR3+YTVHbSstN1Gw1UfPacm5eWIo1Lpb4KOPwWmTIdSp40WTMTAdLJW/tdwYZyyroNgY1j05m6iO1NA8ewRXso2jJdGa/4LastN/8aKJ+j4l9XpdTdraF+0o59b253P29aGrWuKdto+rRDGb9ppH4Hy3m7u9BVW426/d4n9fm3o5Dieu9zbv5uIT507PZfHgg8fFQU7iYmbnVbrPrAl2HURM1W8vYUZDN1PtNNA0ewaBDxayes5jnSnKZkrWRxoviif+ilufuy2T1Xreozrye/1IDcbcuYHI/E6tvS2Wm+7GOFDP7h4sxkcLdv8gk8WgxOfeWYPZbFgbWalZMdxxn4PcWMCOugU3zFrQtix18Oy9ixfQs8g8OJD7eRs2zi7l1TQlFd6Vxb0UTMaNiOPTSGmbdV+rWx3Vz/rjSf24hU+7agvmieOJP1/Lckix+tbtj/XDU4Voa3boAl6Dzobaaouws1n0wgPi4WAZEdiV/DAJes+/z99RM1QMZpK8sxXLJCOIvMrP5rizWfey5V4d76sFC0r+bxeo9zST+aAHTB1Szbt5kFlUY8vJoEbNucLajUbFYvPTfrn46vyGerLmZJDZtad/H373Ibx/kr010TcxNM8mIsGDa5eo3m6jxuC/bqHrgOibOK6ExNoW754zBvDWX9B8XUN+ejMO7K5k4fSW1LTFcMQr2vbCYqdnunwv89zO+P3M462lWAQ2XZXL3jxJoeimbm91mLNuqc7k5+zkaL8tkydwUqF7puP8b0sFL+YcSN+i6IiISZn3sdrvdGNiTHD3q8Y1ORESk14qLG2oM6pJTS79lDBIREemVBmz4xBjUJUePHuvSfbkr8a2WZmJi25dOrMubzqz/uoGX/7KCZBwPc2dOe474x8somOl6j2kzZfelsvTj+Wx/YxEJgPmFLKaWZVD53zmOwbQjxcycVsaMnduYO8wRq+qBROaziY/WTXIE7F7O6IWNPOC2D621rL5uHgd+WcXLs53Hayln0bjVDNlcw8prnfu5Mb+QxdS84RR+tJ7JzjBbxRKSljSwYNsbLLnKGWgtZ9F1y6mfv43KRWPcUnCpZunohTQue4PtdzuHBI8UM3NaHsM3HWDDja79zBTdNp0dGe37mV/IYuqTsGBLEUuSHPlpK19C0v1mHnhzG3PjgIYCpt5WSMyyHWy/27UusA2bLZLISLwfHy956Uwn4dc1FKQ7y661gfybs3huzEY+yJ9KZLDnZGB+IYuphfGs+WM+Wa4q5SXfqh5IZP5rsWRsKmPDja7600D+9CyeG7mevzyd3jZzq/6p6cx8fgxP/zWftKhg65QN05Jx3NfqJa26e3jnd5nEOvOrLDadwj+tZ7Lb9F2PutaJOuXJR7ngpX4YyyqYNuZK/+7NFC9rn/HmmW/B5IejXq4b6dbGXG3hftjw53wyXBH3FzA1q44F77xIVqzj+Dx9gA1pzu2tgI/lRj3bcWhxvbZ5V5rvprFhWz4ZznrnuP4UCg+sYnJQ19GenoPj3GpuWs+rv04nNgKwljJ/Qi5VVy2ifPN8RkS29zlVs7dR+csx4Kp7DfPZ/qdFJDivxVq+hAn3N7Dgv99gyRhnW3k1jfId82l782jbtXsvC0/O47xnqL82G0RGdqmd1+VNZ9YLJ8l4uowNaY4wS0k2Ex8dwob388mIotvzx2v6NJA/JYvnrt/ER6u85YuXfAslH/IaSPDoX7uSP+6CvWYv52/guDft8+w7W+tYNy2bovHt8TrcU2nGYhlAbKxrKmsz2+5JZYVtlbP9B9t/O/rpsptc5elIq+y+VFZ9azN/WZHso88L3Aed9NsmAqt6IJH5Hy9zu2YXY746+x33+/JxC9aYWGJcx/ogj6l3lDLZrY93pJ/Dy79bRrJHH1JIQv77FNwUGVQ/4+0zh6OelpPR4TPHaob83nEOVQ8kMv/0Rj769VRXLJ/5Yyz/UOIGU1dE5Nzoync2whC/u2nmr4iIiIiIiEgP0TYo1WrDamnkJLFgtXLCY694xo53f1wYTdpNaXC4mtpgZreFIiKFtPRo6spMbTOwbLtN7IzJYEbAQToXG6ZyE6Tcw52uh7AAMenMuT0a82umjrOBwmFkBlnOwQWAyKuTSaCZE8cd/66vKMccM5vlOe4vhHUN/AbPlc4810AIQMQY7sxJhooyzxmuAc7Jq7hkUt2fK8VMZdoPwFxd6zmDK205j7UN/AL7TZQdjiY7p31gACBhdg7JrSZ2eMz2C1CnWirZUQEZMw1pJSfBex9wwC1s2n+s9hj47SAsdarzgmtjMHx8+8AvQEJaOvGtJqreCy0/PDnbQsbM9oEMgKuSSaaWunqAIcRfBmWFBdRYnGXkdUDBm67ENbh+ZtvAL65ra7XS3EKQ1+Fd6i2ugUcgJoExcZDww3THwCZARBzxcWA+5pzN7Mzr1LvntA3yAcTcNJvsGDNlFY7Zh0Pi4uHgFjZub8TmmjUYyrU7j5P8i+We9dfZIXSlnY9JGAOkMMM5sAkQOzQOMNNkmNraXfnj4pE+Yxg7Hjje7H3Gohch5UPcfNa4Dfy26UL+QOjX7JuzHo+ZyxL3vjMilkv99WEARLcP5tmasRw1Q3Q8WJs9V9wI1H/vN1F2eAzZme4/gIomOXkM1ro637N0g+iDutwmumJw+8Cv7biFQychlmZOGGcwj0xpH/gFuCqNjDjYuae2S/1MfUU55jGzyfL4zJHE2JHN7HPOFB4SFw8Vz5Ffa2mv/0HmT2hxg6wrIiJhpsFfERERERERkR7CerCU1XekknTNZG7+RQFlH3l78t1RZNQAx/94W0K5i1Jvn0P83mL+0IDjYWyFifjZmc5ZksFooskMDB3SYYZLfHw8HDXjWrS2+5kxOw/WdMwMcfHE+3xgGxxXOsZr8zt44aH9nIITSXSUl7KOinZ7by3QZMZMPPHGlZeHxhGP2+CRDx51ytKEGShbmMjo0W5/C8uh1fPx9YCowKPnXa9TPlitWIGBfsq0s22MmBhigJMh5ocnZ1t4baFnvNELKXOlzRiWvLyJBReVkjNxHBOylrN5b8C1a526EjcYrvoczHUEI5pBgQbZnHkdO8TQwgyDoJE3raP88RQOPTqDpHHTyVlbiTnYEU3ajxM/1NiSHbrSztvaUsjClz9+mZuC7oNDygdnmwkk5PwJxzVDez0eObxTy81b9hSw6OZURk9I46e5RVQfNv6ExBtD/91kxkwD66Z59iVT8xo69vHuguiDutwmfHIO4vrr6q2NbHs0mwlJidxw22I2lnt5jYNXzjpvo0v9TNMxMzTkMdUj3nTWNbTnfcIvtlE4P4Zt8yaTNCGLpSV1WP2k6S7UuJ2rKyIiXaPBXxEREREREZGeYH8BM2cUYL61iL/83xreeSWfNXcmGfc6+8bMYe61ZspMDdBSyU5TPBlp3pZpDuD0KWMIttawPInuvNO2oGe8+eUtndPGgHPBhs14Hq0dyyE40WRvPsBHHxn/3JbaDFa46pRB/a5yzKSROt64xSmsbazz+RFz52Yv8dyWTB08iSW/q+KDd7ax/OoG1menkrM1uKGTLsUNUcDrCCdjPeaUoW5HMmLmesrff5/yp9OJrFjM1ClrqPMzIONVh+O46bHt3Nt5GPMnjHpKPnQ4Ziev2cu9KRBr+RIm/tzEkGVlfPBBDeUvrGf5DzszhAyQwpp3Orajjzost2wUqA8KU5swajBRdhSmpaQYtzi0NpD/4xnkH82g+M8H+MtbmylYldPpH/d0up9JWcU7XuK1LZ0dEc3kRS/yzvtVbH8wmYa12UyY5+c90+5CiBveuiIiEjwN/oqIiIiIiIj0APWmcsxXzmH57DFE+pm56E1NdTXEJDPW7b2d4RNL1k/SMJebqK+tYudl6UxzX0oxoHjGXhsNb9dQ4/HQ2UJNVSOkpJDoHhyqVgufGpeSDELitSlwsJqaY8YtofGVTs2ebiqT1lqqd0PMtcn+BwauTiGVRt6qNTyOfq+GaqIZm+w3tmedGpbM2JhmqqqDXU41kK7WKS+Ol/JcoZmYW2Y63mXsRVfamOVdE/WkkHp1V/LD0Rasb1dTH8QATGTsGLIe3sGGdKgpr/I6sOBLV+IGFtp1dMmwZMbGQPWeWs/wY7W8dRBSr03wDI+IZMSkRRS+uIgRljJ21Hlu9snXcZzOejsPlq/z9pU/XdQj8iFs1+zr3hSIjeoKE9y0mJU3xvqdANuBsf++OoVUaqmuDXGGfih9UGfbhDetzWx7thBzTDqZN/q48gYTZYeHc+eDs0nw0Rf7dOxt3mhwlWHn+5nEa1PgvbepCeazQWQsCTNXUL4hHWrLeSuUzjJg3C7UFRGRLtLgr4iIiIiIiEgPEDM4Ghob2Od8/6t1bzHzV5YbdwMaeGFjCfUWG2DDvH0JS0uaSfi3QDNrvMwCdTcigQQa2Pee4yG0zW1qV2TabLKPl7OioJr49DT8PVqPHz4c+ICaDxznZ7NB8s+WkfplCUvvL3UsO9naTN1TC1i9N5bsRZkdlhD1yfXQv6wciw04XkfRwpXs6DANLbDYjByyYutYfW/7+1FtjaWsfqraOattOIljoL6u1rGco3uGuInNXES2M52643iUSerSBQHKJAgfF5Ff0uC4XpuZbfcvZ/OXY1h4V4CUYzNZcmcsdWsWkO9c+td2pJRF95dgTVnGQo/36waqU8ksXJqCuXABi7ab22b92RqrqWl0T8cPw+w633XKTFFWIqOzin2/7xKwWS1YLBYslkZqStaQ/v1cdg7JJO9Xk3w+YA++jYHp+TyqGh1Xat1bwD1r6oi9PYcZsQSZH/EMHwnU1VJnc9QfG862YC7kHldbAGhppGqPM+KRYuYvLHbWJcDWyKFGiLlyROB2EmpcP20+kIDXETaOvLaWLG/P6+N15N+7hrrY2SzJjAVsVD06j9UV7WVh/fgQTSQw5jJ8loWnZOb+2xjncZzvSLVZqClYw+YjZ6Gdd1ow+RM+PSMfwnfNybfOId5awvqCWmcfa6HmqSWO5YF9iiR6MLB/n6M+YcNckcv8J71ECtR/O/vpncvntvXTYMNSW01d28Clt3tRoD4oUJuwUZU7mdETc6lyf0+z0Wmrs5+1cKi2hNW3TmbFrliy1q1ksq+B3cExxNBIfZ3zeo7XUXTPSsqM+wFUFLKu2tne2sowk7kZjjIMpp/x9pkjNnMR2YNNLJ3nqqfOsq2uw5GtZooWLqTILc8PHWyEmOFcEbD6hBI3hLoiIhJmPX7wt2/fHn+KIiIiXdYt97uowcYQERGR3qcX3e/iZy5j7vBqVlzneD/dDY+YyVq/yMtAaxp3jq9l0ZRxjB49jqkra7ji3zZTnONnJmdcMmNjG8m/eTkmXzNohmWy+JZYdj6U6jh+ntv0oIgUMmdDfcOgwMvzTlrAA1eZKbrDcX7zX7PA0EwKX11BYl0uU5MSGZ2YyqxiG3N/W8ZKj0HIQJKZ++AkBpQvZ2JSIqMnLubALUU8fL1xvyBETWLNto1k24rJmTiO0aMTSZpRgDkmxvmwPJ7MRenEmnKZkJjI6Bvy8DphKiKZlTs2MddWzKzrEp1lso/Eh3dQeHuHJ8GhG57CoD1LmJKUyOik6azYM4IFW4qYG8QMu+T/KKPwJzaKsh1lmjQtl/evXkH5b40D7sNJHey/TsXevonyh8dS/+h0kpzvUEyaVYDJHHjGWuK1KVC+mPTfug0M+qxTFj49Bhxr8jtb9VBhNhMnTmbixBnML6hlyOyNVL6xisl+XiaJTPkAAB0cSURBVDIafBsbzpw02DjLUS8mZBdjzVjPqw+3DywHkx+T5y8jwVzMrKRERictZIeFtrYwruExR1sYncjo785h4y6zY1AiOpnUfiX81HmOo5NmsOl0DgWLghhWCzWuvzYfSKDrCCNHXifw/kpnXl+XTZEth8IdK0h2zuAekTKcfbntZTHh/lrGrlpBlrOiey0Lg/icIl5elsD7K2eQlJjI6KTJzDfBpQPOQjvvgmDyJ2x6SD6E7ZqvWkThqkl8+vw8xz0laRqrrQtYmW7c0dPknFVMtjnr0+hxzHptOI+t9hIpbQ5jA/Tfjn4attzlaIejR49jSu52Dhx1jXZ6vxcF6oP8t4lmmo5Z4HgTTf4Gfw8WMmviZCZOnEz6PRupuXQ2T7++kzU3Rhv3bBeXyfKc4VQ5+5XR31+J+cfrWeLlo8OI2WlQMMfR3q7Lpqg5nQ3bVrUPLAfTz3j7zOGqp2xx1lNH2a74rwbnD9AGMXZ8JJvnted5eqGNuU8vDvwDhhDjBl1XRETCrI/dbrcbA3uSf/7zOCdPdvw9noiISG8ycGAk//Iv4X14ffo/Z3Hmf3Ybg0VERHqVvqNupN/PXzYGd8nRo8eIixtqDA5aV+PbjltojogmNsbX/EWnVhvW480QHUugXQGwNWNphujYaJ8zI3EdvzWyw37mF7KYWpZBZcD3EALYsFqaORURTexgz6P5Sj8kLc1YWiB6cHTIy/d6Y7NaaD4V6T29lmYsLTYGBJHPftPpBI88d11zZ/LN1oyl2caAqFhijLO1jhQzc1oZM3ZuY25cMHXKd9n6YztuwRbpeXyfdaqlGSvRHc81TIJuY85rxVu+tQmQH37y3m99ccZjQDDnaRBi3K62Sb/XEU7OPu+Un+tquxZv5+KnLDwEOM5Zu95QBTjvcOsR+RCua3bdTwPVDQ/B9A9OwfTfga7F573Ifx/ks03YmrHYBng/VjgEc81ONquF5lbv5+/iv775yQOf+UZ7PDrT/4USN4S6IiJnTVe/s3U1fnfr8YO/LS1fcfz4CWOwiIhIrzJ48CCior5hDO6SM38p4fTWJcZgERGRXqXf7fn0nTDbGNwlXf0i39X4PZK1mqU3L8SyqIriszi760Lnc3A0nNwHf4OYTRw2qlMiIiIico509TtbV+N3t25YYzK8oqK+wYAB/Y3BIiIivcaAAf3DPvAL0HfCbPoMG2sMFhER6TX6DBsb9oFfMThWTX7ucnJ+tJCyoctYGcK7FEW8Up0SEREREelWPX7wF+CSS2K6512IIiIi51jfvn255BI/Lybron6ZG3rVuxBFRETaRA123OekW9mOHsXCQMb8ZBOVm3MY0WGpRelOA69MIyttOAONG8IpajjTbk9j+FlailJ1SkRERESke/X4ZZ9dvv76az7/3MqpU18bN4mIiJyXBgzozyWXxNC/f/eucGE/up/TpUuxH9ln3CQiInJe6jNsLP0yN9An7irjprDo6hJeXY0vIiIiIiIi3aer39m6Gr+7nTfTafv378+QIf/C4MGDGDgwUjOBRUTkvNS3b18GDoxk8OBBDBnyL90+8AvQJ+4q+i+qcLwTcdSNmgksIiLnp6jB9B11I/1uz6f/oopuG/gVEREREREROZ+dNzN/RURERERERM6Grv6Ku6vxRUREREREpPt09TtbV+N3N02fFRERERERERERERERERHpBTT4KyIiIiIiIiIiIiIiIiLSC2jwV0RERERERERERERERESkF9Dgr4iIiIiIiIiIiIiIiIhIL6DBXxERERERERERERERERGRXkCDvyIiIiIiIiIiIiIiIiIivYAGf0VEREREREREREREREREegEN/oqIiIiIiIiIiIiIiIiI9AIa/BUREREREREJoz59+hiDREREREREpIfo7d/ZNPgrIiIiIiIiEkYDBvTnzJkzxmARERERERE5x86cOcOAAf2Nwb2KBn9FREREREREwigqKorPP282BouIiIiIiMg59vnnzURFRRmDexUN/oqIiIiIiIiEUVTUQCIi+vLZZyc0A1hERERERKQHOHPmDJ99doKIiL5ERQ00bu5V+tjtdrsxUERERERERORCdfToMeLihhqDQ9bScpKWlhZOnfoaffUWERERERE5N/r06cOAAf2JiooKy8BvuL4zdhcN/oqIiIiIiIi46elf5EVEREREROTc6enfGbXss4iIiIiIiIiIiIiIiIhIL6DBXxERERERERERERERERGRXkCDvyIiIiIiIiIiIiIiIiIivYAGf0VEREREREREREREREREegEN/oqIiIiIiIiIiIiIiIiI9AIa/BURERERERERERERERER6QU0+CsiIiIiIiIiIiIiIiIi0gto8FdEREREREREREREREREpBfQ4K+IiIiIiIiIgd1uNwaJiIiIiIjIBe58+K6owV8RERERERERN/3798NmO2UMFhERERERkQuczXaK/v37GYN7FA3+ioiIiIiIiLi5+OKL+eKLL8+LX3SLiIiIiIjI2WG32/niiy+5+OKLjZt6lD52fZsVERERERER8XDihJWvvz7NxRdfRGTkAPr06WPcRURERERERC4Adrsdm+0UX3zxJf3792PQoBjjLj2KBn9FREREREREvGhpOckXX3zB11+fNm4SERERERGRC0j//v24+OKLiYoaaNzU42jwV0RERERERERERERERESkF9A7f0VEREREREREREREREREegEN/oqIiIiIiIiIiIiIiIiI9AIa/BURERERERERERERERER6QU0+CsiIiIiIiIiIiIiIiIi0gto8FdEREREREREREREREREpBfQ4K+IiIiIiIiIiIiIiIiISC+gwV8RERERERERERERERERkV5Ag78iIiIiIiIiIiIiIiIiIr2ABn9FRERERERERERERERERHoBDf6KiIiIiIiIiIiIiIiIiPQCGvwVEREREREREREREREREekFNPgrIiIiIiIiIiIiIiIiItILaPBXRERERERERERERERERKQX0OCviIiIiIiIiIiIiIiIiEgvoMFfEREREREREREREREREZFeQIO/IiIiIiIiIiIiIiIiIiK9gAZ/RURERERERERERERERER6AQ3+ioiIiIiIiIiIiIiIiIj0Ahr8FRERERERERERERERERHpBfrY7Xa7MVBEREREREREHFpavuKrr05y6tTXnDlzxrhZREREREREeqG+ffsyYEB/vvGNgURFfcO4ucfS4K+IiIiIiIiIF19//TWff27l1KmvjZtERERERETkAjJgQH8uuSSG/v37Gzf1OBr8FRERERERETH4+uuvsViOa6aviIiIiIiIgHMmcGzs4B4/AKx3/oqIiIiIiIgYfP65VQO/IiIiIiIi0ubMmTN8/rnVGNzjaPBXRERERERExE1Ly1da6llEREREREQ6OHXqa1pavjIG9yga/BURERERERFx89VXJ41BIiIiIiIiInAefGfU4K+IiIiIiIiIG836FREREREREV96+ndGDf6KiIiIiIiIuNG7fkVERERERMSXnv6dUYO/IiIiIiIiIiIiIiIiIiK9gAZ/RURERERERERERERERER6AQ3+ioiIiIiIiIiIiIiIiIj0Ahr8FRERERERERERERERERHpBTT4KyIiIiIiIiIiIiIiIiLSC2jwV0RERERERERERERERESkF9Dgr4iIiIiIiIiIiIiIiIhIL6DBXxERERERERERERERERGRXkCDvyIiIiIiIiIiIiIiIiIivYAGf0VEREREREREREQudF+eoKnpU5o+sxm3iIiIyHlEg78iIiIiIiIiIiIiF7gjv5/B2LFJjP1xEUeMG0VEROS8ocFfERERERERERERkV7qyKZJxMd/2+ffvSZjDBERETmfafBXREREREREREREpNeLZMi3L+3w961I434iIiJyPtPgr4iIiIiIiIiIiEhvN+pBXvvrB+wz/K2cZNxRREREzmca/BURERERERERERERr2xN71C8OI2Ey9uXih4x/X5e/0eHPTlSdj83JbTvl/DdJMa6/n6idwmLiIicDRr8FREREREREREREZGObH/i3rE/ZkXpfqwRjmWiIwHbgS38fMpD7D3dvuuR/8zgewu2sL/lSn4wZw6zbxyG9R+f0vSPT7G5pykiIiLdSoO/IiIiIiIiIiIiIr3dZx+yq+xPvO729+7fAgzLRt7Myl8vYOXWDzh0yLFM9KE/P8y1ANYiXn7bteN7/HbtfiCSnC3V/H79r8l7qZZX7nK8UPj6X/2FfS/NZZhb0iIiItI9NPgrIiIiIiIiIiIi0ts1bWfFgrv5udvfCtMnxr06GHbHw8z/nmPGL6dtWAeO5/orHNve+8i1kPMJPrcBDOM7/9oe9zvfcQz3/u0fgY8jIiIi4aHBXxEREREREREREZHeLvIqfjhnDrPd/m4bPdC4V0enT7D/lUe54/ujib/8chLGzqDgb8adhjHsOwBH+PCjE86wE7z/l4MAXDooiOOIiIhIWGjwV0RERERERERERKS3uzyTlet/TZ7b36IbLzXu5en0QQpvGc1N9z/HuyeuZPavfsMrb+5gkXPmb7srWbBqJjHYePVnk7jl3vu5d+Yk7jUBMXOYf0uA44iIiEjYaPBXRERERERERERERDpo2voQqz8ARj3I7r/uIG/hTK4fdSmDIox7Qsz/uZphwLDESzlSW8m7fx/E9T//Nbtrfs0PLjLuLSIiIt1Fg78iIiIiIiIiIiIi0sFXJ5zv6h1zJVf2cwZ+tp8P/9d9L4BPKXnoUfZzMyv/aGLfXz9g31+reeXhOVwZY9xXREREupMGf0VEREREREREREQucN8Y9C3H//xPESu27AfgW9++0hH26t3cOPd+lt07g7HX3M2rNreIHv7EQ7N/wbLl97f9rf/9n3j3bz4jiIiISJhp8FdERERERERERETkAjckYwG3xgAcYdcL73AEiLz1SX5/h+N9vQdNWyh59UO+9fM/8NqvrjLEvpTZDy9mGND0l+2UbNnS9lfw0N3c8f3LuWnTQUMcERER6Q597Ha73RgoIiIiIiIicqE6evSYMUhEROTCcNqG9fgJbEQSM2QQkc5gm/VTrDaIjLmUGFegu9MHKbxlEqv/30z+842HGT/QEfzVPz7k9YJfsLriBETO5bVDj3OtMa6IiMh5KC5uqDGox9DMXxERERERERERERGBfpHEDLmUIW4Dv+AY9B0yxMfAL8DufFZ/AMPuWcIPv+PYd8iQSxl2zRTmZ01x7BMT45GmiIiIdA8N/oqIiIiIiIiIiIhI5/3LpcQARzbcybJX9nOk6VOamo6wv2wtd/z7dgCuf3AexsWiRUREJPy07LOIiIiIiIiIGy37LCIiEiobB4vu5vaVb9Jk3DRkPPOfeIGVNzneHSwiItIb9ORlnzX4KyIiIiIiIuJGg78iIiKddNqG9R8Hee+DI9i+eSXjRw9jyDe12LOIiPQ+GvwVEREREREROU9o8FdERERERET86cmDv3rnr4iIiIiIiIiIiIiIiIhIL6DBXxERERERERERERERERGRXkCDvyIiIiIiIiIiIiIiIiIivYAGf0VEREREREREREREREREegEN/oqIiIiIiIiIiIiIiIiI9AIa/BURERERERFx07evviqLiIiIiIiIdz39O2PPPjsRERERERGRs2zAgP7GIBERERERERE4D74zavBXRERERERExM03vjHQGCQiIiIiIiIC58F3Rg3+ioiIiIiIiLiJivpGj/8lt4iIiIiIiJx9Awb0JyrqG8bgHkWDvyIiIiIiIiIGl1wS0+Pf4yQiIiIiIiJnT9++fbnkkhhjcI/Tx263242BIiIiIiIiIhe6r7/+ms8/t3Lq1NfGTSIiIiIiInIBGTCgP5dcEkP//j1/lSgN/oqIiIiIiIj40dLyFV99dZJTp77mzJkzxs0iIiIiIiLSC/Xt25cBA/rzjW8M7PFLPbvT4K+IiIiIiIiIiIiIiIiIyP/f3h3TAAAAAAjq39oeDmp4OGBgBAAAAAAAADAg/gIAAAAAAAAMiL8AAAAAAAAAA+IvAAAAAAAAwID4CwAAAAAAADAg/gIAAAAAAAAMiL8AAAAAAAAAA+IvAAAAAAAAwID4CwAAAAAAADAg/gIAAAAAAAAMiL8AAAAAAAAAA+IvAAAAAAAAwID4CwAAAAAAADAg/gIAAAAAAAAMiL8AAAAAAAAAA+IvAAAAAAAAwID4CwAAAAAAADAg/gIAAAAAAAAMiL8AAAAAAAAAA+IvAAAAAAAAwID4CwAAAAAAADAg/gIAAAAAAAAMiL8AAAAAAAAAA+IvAAAAAAAAwID4CwAAAAAAADAg/gIAAAAAAAAMiL8AAAAAAAAAA+IvAAAAAAAAwID4CwAAAAAAADAg/gIAAAAAAAAMiL8AAAAAAAAAA+IvAAAAAAAAwID4CwAAAAAAADAg/gIAAAAAAAAMiL8AAAAAAAAAA+IvAAAAAAAAwID4CwAAAAAAADAg/gIAAAAAAAAMiL8AAAAAAAAAA+IvAAAAAAAAwID4CwAAAAAAADAg/gIAAAAAAAAMiL8AAAAAAAAAA+IvAAAAAAAAwID4CwAAAAAAADAg/gIAAAAAAAAMiL8AAAAAAAAAA+IvAAAAAAAAwID4CwAAAAAAADAg/gIAAAAAAAAMiL8AAAAAAAAAA+IvAAAAAAAAwID4CwAAAAAAADAg/gIAAAAAAAAMiL8AAAAAAAAAA+IvAAAAAAAAwID4CwAAAAAAADAg/gIAAAAAAAAMiL8AAAAAAAAAA+IvAAAAAAAAwID4CwAAAAAAADAg/gIAAAAAAAAMiL8AAAAAAAAAA+IvAAAAAAAAwID4CwAAAAAAADAg/gIAAAAAAAAMiL8AAAAAAAAAA+IvAAAAAAAAwID4CwAAAAAAADAg/gIAAAAAAAAMiL8AAAAAAAAAA+IvAAAAAAAAwID4CwAAAAAAADAg/gIAAAAAAAAMiL8AAAAAAAAAA+IvAAAAAAAAwID4CwAAAAAAADAg/gIAAAAAAAAMiL8AAAAAAAAAA+IvAAAAAAAAwID4CwAAAAAAADAg/gIAAAAAAAAMiL8AAAAAAAAAA+IvAAAAAAAAwID4CwAAAAAAADAg/gIAAAAAAAAMiL8AAAAAAAAAA+IvAAAAAAAAwID4CwAAAAAAADAg/gIAAAAAAAAMiL8AAAAAAAAAA+IvAAAAAAAAwID4CwAAAAAAADAg/gIAAAAAAAAMiL8AAAAAAAAAA+IvAAAAAAAAwID4CwAAAAAAADAg/gIAAAAAAAAMiL8AAAAAAAAAA+IvAAAAAAAAwID4CwAAAAAAADAg/gIAAAAAAAAMiL8AAAAAAAAAA+IvAAAAAAAAwID4CwAAAAAAADAg/gIAAAAAAAAMiL8AAAAAAAAAA+IvAAAAAAAAwID4CwAAAAAAADAg/gIAAAAAAAAMiL8AAAAAAAAAA+IvAAAAAAAAwID4CwAAAAAAADAg/gIAAAAAAAAMiL8AAAAAAAAAA+IvAAAAAAAAwID4CwAAAAAAADAg/gIAAAAAAAAMiL8AAAAAAAAAA+IvAAAAAAAAwID4CwAAAAAAADAg/gIAAAAAAAAMiL8AAAAAAAAAA+IvAAAAAAAAwID4CwAAAAAAADAg/gIAAAAAAAAMiL8AAAAAAAAAA+IvAAAAAAAAwID4CwAAAAAAADAg/gIAAAAAAAAMiL8AAAAAAAAAA+IvAAAAAAAAwID4CwAAAAAAADAg/gIAAAAAAAAMiL8AAAAAAAAAA+IvAAAAAAAAwID4CwAAAAAAADAg/gIAAAAAAAAMiL8AAAAAAAAAA+IvAAAAAAAAwID4CwAAAAAAADAg/gIAAAAAAAAMiL8AAAAAAAAAA+IvAAAAAAAAwID4CwAAAAAAADAg/gIAAAAAAAAMiL8AAAAAAAAAA+IvAAAAAAAAwID4CwAAAAAAADAg/gIAAAAAAAAMiL8AAAAAAAAAA+IvAAAAAAAAwID4CwAAAAAAADAg/gIAAAAAAAAMiL8AAAAAAAAAA+IvAAAAAAAAwID4CwAAAAAAADAg/gIAAAAAAAAMiL8AAAAAAAAAA+IvAAAAAAAAwID4CwAAAAAAADAg/gIAAAAAAAAMiL8AAAAAAAAAA+IvAAAAAAAAwID4CwAAAAAAADAg/gIAAAAAAAAMiL8AAAAAAAAAA+IvAAAAAAAAwID4CwAAAAAAADAg/gIAAAAAAAAMiL8AAAAAAAAAA+IvAAAAAAAAwID4CwAAAAAAADAg/gIAAAAAAAAMiL8AAAAAAAAAA+IvAAAAAAAAwID4CwAAAAAAADAg/gIAAAAAAAAMiL8AAAAAAAAAA+IvAAAAAAAAwID4CwAAAAAAADAg/gIAAAAAAAAMiL8AAAAAAAAAA+IvAAAAAAAAwID4CwAAAAAAADAg/gIAAAAAAAAMiL8AAAAAAAAAA+IvAAAAAAAAwID4CwAAAAAAADAg/gIAAAAAAAAMiL8AAAAAAAAAA+IvAAAAAAAAwID4CwAAAAAAADAg/gIAAAAAAAAMiL8AAAAAAAAAA+IvAAAAAAAAwID4CwAAAAAAADAg/gIAAAAAAAAMiL8AAAAAAAAAA+IvAAAAAAAAwID4CwAAAAAAADAg/gIAAAAAAAAMiL8AAAAAAAAAA+IvAAAAAAAAwID4CwAAAAAAADAg/gIAAAAAAAAMiL8AAAAAAAAAA+IvAAAAAAAAwID4CwAAAAAAADAg/gIAAAAAAAAMiL8AAAAAAAAAA+IvAAAAAAAAwID4CwAAAAAAADAg/gIAAAAAAAAMiL8AAAAAAAAAA+IvAAAAAAAAwID4CwAAAAAAADAg/gIAAAAAAAAMiL8AAAAAAAAAA+IvAAAAAAAAwID4CwAAAAAAADAg/gIAAAAAAAAMiL8AAAAAAAAAA+IvAAAAAAAAwID4CwAAAAAAADAg/gIAAAAAAAAMiL8AAAAAAAAAA+IvAAAAAAAAwID4CwAAAAAAADAg/gIAAAAAAAAMiL8AAAAAAAAAA+IvAAAAAAAAwID4CwAAAAAAADAg/gIAAAAAAAAMiL8AAAAAAAAAA+IvAAAAAAAAwID4CwAAAAAAADAg/gIAAAAAAAAMiL8AAAAAAAAAA+IvAAAAAAAAwID4CwAAAAAAADAg/gIAAAAAAAAMiL8AAAAAAAAAA+IvAAAAAAAAwID4CwAAAAAAADAg/gIAAAAAAAAMiL8AAAAAAAAAA+IvAAAAAAAAwID4CwAAAAAAADAg/gIAAAAAAAAMiL8AAAAAAAAAA+IvAAAAAAAAwID4CwAAAAAAADAg/gIAAAAAAAAMiL8AAAAAAAAAA+IvAAAAAAAAwID4CwAAAAAAADAg/gIAAAAAAAAMiL8AAAAAAAAAA+IvAAAAAAAAwID4CwAAAAAAADAg/gIAAAAAAAAMiL8AAAAAAAAAA+IvAAAAAAAAwID4CwAAAAAAADAg/gIAAAAAAAAMiL8AAAAAAAAAA+IvAAAAAAAAwID4CwAAAAAAADAg/gIAAAAAAAAMiL8AAAAAAAAAA+IvAAAAAAAAwID4CwAAAAAAADAg/gIAAAAAAAAMiL8AAAAAAAAAA+IvAAAAAAAAwID4CwAAAAAAADAg/gIAAAAAAAAMiL8AAAAAAAAAA+IvAAAAAAAAwID4CwAAAAAAADAg/gIAAAAAAAAMiL8AAAAAAAAAA+IvAAAAAAAAwID4CwAAAAAAADAg/gIAAAAAAAAMiL8AAAAAAAAAA+IvAAAAAAAAwID4CwAAAAAAADAg/gIAAAAAAAAMiL8AAAAAAAAAA+IvAAAAAAAAwID4CwAAAAAAADAg/gIAAAAAAAAMiL8AAAAAAAAAA+IvAAAAAAAAwID4CwAAAAAAADAg/gIAAAAAAAAMiL8AAAAAAAAAA+IvAAAAAAAAwID4CwAAAAAAADAQi5jHbcDCbzAAAAAASUVORK5CYII=)\n",
        "\n",
        "#Failure analysis and possible solutions\n",
        "\n",
        "1. Analysis of Specific Examples Where the Model Performs Poorly\n",
        "One clear failure case was observed with the input:\n",
        "\n",
        "Input: What is (are) diabetes?\n",
        "Output: \"Diabetes is a type of diabetes that affects the body's ability to function properly. Diabetes is a type of diabetes that affects...\"\n",
        "\n",
        "The model generated repetitive, incoherent, and incomplete output. In contrast, other medical terms like “Tourette syndrome” produced more complete and medically relevant answers.\n",
        "\n",
        "2. Identification of Patterns in Errors\n",
        "Several patterns were identified in the model’s poor outputs:\n",
        "\n",
        "Repetition: The model often repeats the same phrase or sentence, suggesting a loop in generation.\n",
        "\n",
        "Incomplete Sentences: Many outputs are abruptly cut off without finishing the thought.\n",
        "\n",
        "Low Content Quality: Generic phrases are reused without providing factual or context-specific information.\n",
        "\n",
        "These errors were most common for:\n",
        "\n",
        "Highly prevalent medical conditions (e.g., diabetes, hypertension)\n",
        "\n",
        "Inputs with common medical terms that were possibly underrepresented or missing in the training data\n",
        "\n",
        "Slight variations in question phrasing (e.g., \"What is (are) X?\" vs. \"Define X\"), showing lack of generalization\n",
        "\n",
        "3. Quality of Suggested Improvements\n",
        "To improve model performance and reduce such errors:\n",
        "\n",
        "Enhance Dataset Coverage: Include a broader range of diseases and rephrase questions for better generalization.\n",
        "\n",
        "Apply Decoding Strategies: Increase diversity using top_p sampling or enforce non-repetition via no_repeat_ngram_size=3.\n",
        "\n",
        "Post-processing Cleanup: Add logic to detect and remove excessive repetition in generated outputs.\n",
        "\n",
        "Prompt Engineering: Standardize question phrasing during inference to match training data more closely.\n"
      ],
      "metadata": {
        "id": "ql5A0Qk17kFz"
      }
    },
    {
      "cell_type": "markdown",
      "source": [
        " # Why I Used the T5 Model\n",
        "The T5 (Text-to-Text Transfer Transformer) model was chosen for this project because of its versatility and effectiveness in text generation tasks, especially question answering. Here's why it was a suitable choice:\n",
        "\n",
        "1. Unified Text-to-Text Framework\n",
        "T5 treats all NLP tasks as text-to-text problems. Whether it's translation, summarization, or Q&A, everything is converted into input → output text pairs.\n",
        "👉 This aligns perfectly with our task:\n",
        "Input: A medical question\n",
        "Output: A generated medical answer\n",
        "\n",
        "2. Pretrained on Diverse Tasks\n",
        "T5 was pretrained on the Colossal Clean Crawled Corpus (C4), a large and diverse dataset. This helps it understand a wide variety of language structures, making it adaptable even when fine-tuned on a specialized medical dataset.\n",
        "\n",
        "3. Strong Performance in QA Benchmarks\n",
        "T5 has demonstrated state-of-the-art results on multiple question answering datasets like SQuAD, Natural Questions, and MS MARCO. This made it a strong candidate for medical Q&A tasks as well.\n",
        "\n",
        "4. Flexibility with Fine-Tuning\n",
        "T5 can be fine-tuned effectively on custom datasets, allowing us to adapt it to our specific medical domain and vocabulary.\n",
        "\n",
        "5. Support for Conditional Generation\n",
        "T5 supports powerful generation strategies like beam search, early stopping, and max sequence length — which helped control output quality and length in this assignment.\n",
        "\n"
      ],
      "metadata": {
        "id": "BDWAxloDyww0"
      }
    },
    {
      "cell_type": "markdown",
      "source": [
        "# Project Summary\n",
        "This notebook implements the fine-tuning of T5-small on a medical QA dataset.\n",
        "- Dataset split: 80% train / 10% validation / 10% test\n",
        "- Tokenization: Truncation & padding to 128 tokens\n",
        "- Training: 3 epochs, learning rate 2e-5, batch size 4\n",
        "- Evaluation performed on validation and test sets\n",
        "-Evaluation metrics rouge was used\n",
        "- Inference: Command-line loop and Gradio web app\n",
        "- W&B reporting disabled"
      ],
      "metadata": {
        "id": "KxcY2rOi6O9r"
      }
    },
    {
      "cell_type": "markdown",
      "source": [
        "# Future Work\n",
        "Potential improvements include:\n",
        "\n",
        "Using larger datasets.\n",
        "\n",
        "Training longer or using larger T5 variants (e.g., T5-base).\n",
        "\n",
        "Applying techniques like beam search tuning or label smoothing to improve output fluency."
      ],
      "metadata": {
        "id": "ftt0mGYA7rlC"
      }
    },
    {
      "cell_type": "markdown",
      "source": [
        "# Conclusion\n",
        "This project demonstrates a complete pipeline for fine-tuning a transformer model for a domain-specific question answering task. The model was successfully trained, evaluated, and deployed via both CLI and web interface for end-user interaction."
      ],
      "metadata": {
        "id": "UFs-eFVC7uWL"
      }
    },
    {
      "cell_type": "markdown",
      "source": [
        "#References\n",
        "1.https://huggingface.co/datasets/keivalya/MedQuad-MedicalQnADataset/viewer (downloaded this dataset into my system)\n",
        "\n",
        "2.Chatgpt 4.0\n",
        "\n",
        "3.https://pytorch.org/\n",
        "\n",
        "4.https://drive.google.com/drive/folders/187Aos3FEW8SDlXAT7DJn_BJZv4VIjiPK?usp=sharing (my dataset)\n"
      ],
      "metadata": {
        "id": "UK6xWdQ775QN"
      }
    }
  ]
}